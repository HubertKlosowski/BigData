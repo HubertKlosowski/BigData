{
 "cells": [
  {
   "metadata": {},
   "cell_type": "markdown",
   "source": [
    "## Analiza danych\n",
    "### Hubert Kłosowski 242424\n",
    "### Kamil Małecki 242464"
   ],
   "id": "48ad1e5227a23410"
  },
  {
   "metadata": {},
   "cell_type": "markdown",
   "source": "### Potrzebne importy",
   "id": "cae1caa612f87253"
  },
  {
   "metadata": {},
   "cell_type": "code",
   "source": [
    "import numpy as np\n",
    "import pandas as pd\n",
    "import matplotlib.pyplot as plt\n",
    "import seaborn as sns\n",
    "import os\n",
    "from sklearn.linear_model import LinearRegression\n",
    "from sklearn.metrics import mean_squared_error, mean_absolute_error, r2_score\n",
    "import datetime as dt\n",
    "from sklearn.preprocessing import PolynomialFeatures"
   ],
   "id": "ad11b85c731f5913",
   "outputs": [],
   "execution_count": null
  },
  {
   "metadata": {},
   "cell_type": "markdown",
   "source": "### Wczytanie danych",
   "id": "2155e78497532fa3"
  },
  {
   "metadata": {},
   "cell_type": "code",
   "source": [
    "def get_data():\n",
    "    os.chdir('..')\n",
    "    os.chdir('Zadanie1\\\\czesc4')\n",
    "    read = []\n",
    "    for filename in os.listdir():\n",
    "        df = pd.read_csv(filename)\n",
    "        if 'date' in df.columns:\n",
    "            df['date'] = pd.to_datetime(df['date'])\n",
    "        read.append(df)\n",
    "    os.chdir('..')\n",
    "    os.chdir('..')\n",
    "    os.chdir('Zadanie2')\n",
    "    return read\n",
    "\n",
    "data = get_data()\n",
    "part6 = data[5]"
   ],
   "id": "e8b0efd33db77823",
   "outputs": [],
   "execution_count": null
  },
  {
   "metadata": {},
   "cell_type": "markdown",
   "source": [
    "## <center>Część 1</center>\n",
    "### Wyznacz średnią kroczącą i odchylenie standardowe kroczące (np. 7-dniowe), aby zobaczyć, jak te zjawiska zmieniają się w czasie. Obliczenia wykonaj dla:\n"
   ],
   "id": "21894e47763fad8b"
  },
  {
   "metadata": {},
   "cell_type": "markdown",
   "source": "### najbogatszego kraju z każdego kontynentu",
   "id": "e006a8f8dc6132b9"
  },
  {
   "metadata": {},
   "cell_type": "code",
   "source": [
    "countries = part6[['country_name', 'gdp_usd', 'Continent']].sort_values(by='gdp_usd', ascending=False).drop_duplicates().groupby('Continent')\n",
    "continents = part6['Continent'].unique()\n",
    "choose_countries = np.array([countries.get_group(continent)['country_name'][:1].values for continent in continents])\n",
    "choose_countries = choose_countries.reshape(-1)"
   ],
   "id": "be9bbbf8b32eeb54",
   "outputs": [],
   "execution_count": null
  },
  {
   "metadata": {},
   "cell_type": "markdown",
   "source": "### Średnia ruchoma i odchylenie standardowe",
   "id": "fd5703f674f1844b"
  },
  {
   "metadata": {},
   "cell_type": "code",
   "source": [
    "def calculate_moving_avg_std(column, country_name):\n",
    "    mean_data = part6.loc[part6['country_name'] == country_name, column].rolling(window=7).mean().bfill()\n",
    "    std_data = part6.loc[part6['country_name'] == country_name, column].rolling(window=7).std().bfill()\n",
    "    return pd.DataFrame({'mean': mean_data, 'std': std_data}).reset_index(drop=True)\n",
    "\n",
    "def plot_moving_avg_std(ylabel, column, trend_line=False):\n",
    "    fig, ax = plt.subplots(nrows=3, ncols=2, figsize=(20, 12))\n",
    "    fig.suptitle('Średnia i ochylenie standardowe kroczące 7-dniowe', fontsize=20)\n",
    "    for i, country_name in enumerate(choose_countries):\n",
    "        x_cord, y_cord = divmod(i, 2)\n",
    "        moving_avg_std = calculate_moving_avg_std(column, country_name)\n",
    "        x_axis = part6['date'].unique()\n",
    "        sns.lineplot(y=moving_avg_std['mean'], x=x_axis, ax=ax[x_cord, y_cord], color='red', label='średnia krocząca')\n",
    "        sns.lineplot(y=moving_avg_std['std'], x=x_axis, ax=ax[x_cord, y_cord], color='green', label='odchylenie standardowe kroczące')\n",
    "        if trend_line:\n",
    "            x = x_axis.map(dt.datetime.toordinal)\n",
    "            mean_trend_line = np.poly1d(np.polyfit(x, moving_avg_std['mean'], 1))\n",
    "            std_trend_line = np.poly1d(np.polyfit(x, moving_avg_std['std'], 1))\n",
    "            sns.lineplot(y=mean_trend_line(x), x=x_axis, ax=ax[x_cord, y_cord], color='red', linestyle='dashed')\n",
    "            sns.lineplot(y=std_trend_line(x), x=x_axis, ax=ax[x_cord, y_cord], color='green', linestyle='dashed')\n",
    "        ax[x_cord, y_cord].set_title(country_name)\n",
    "        ax[x_cord, y_cord].set_xlabel('')\n",
    "        ax[x_cord, y_cord].set_ylabel('')\n",
    "        if x_cord == 2:\n",
    "            ax[x_cord, y_cord].set_xlabel('Date')\n",
    "        if y_cord == 0:\n",
    "            ax[x_cord, y_cord].set_ylabel(ylabel)\n",
    "        ax[x_cord, y_cord].legend(loc='best')"
   ],
   "id": "1e455fa26fe5787c",
   "outputs": [],
   "execution_count": null
  },
  {
   "metadata": {},
   "cell_type": "markdown",
   "source": "### 1.1. liczby nowych zachorowań,",
   "id": "71d14774f53e0670"
  },
  {
   "metadata": {},
   "cell_type": "code",
   "source": "plot_moving_avg_std('Liczba nowych zachorowań', 'daily_confirmed')",
   "id": "c10c0e29162e7af0",
   "outputs": [],
   "execution_count": null
  },
  {
   "metadata": {},
   "cell_type": "markdown",
   "source": "### 1.2. liczby nowych śmierci,",
   "id": "7ecf125587dde006"
  },
  {
   "metadata": {},
   "cell_type": "code",
   "source": "plot_moving_avg_std('Liczba nowych śmierci', 'daily_deceased')",
   "id": "a100d5a11fbf23d2",
   "outputs": [],
   "execution_count": null
  },
  {
   "metadata": {},
   "cell_type": "markdown",
   "source": "### 1.3. liczby nowych szczepień,",
   "id": "38e04bd617cca64e"
  },
  {
   "metadata": {},
   "cell_type": "code",
   "source": "plot_moving_avg_std('Liczba nowych szczepień', 'daily_persons_vaccinated')",
   "id": "2bfad309f5287e9",
   "outputs": [],
   "execution_count": null
  },
  {
   "metadata": {},
   "cell_type": "markdown",
   "source": "### 1.4 liczba nowych zachorowań mężczyzn,",
   "id": "5eefb33ca62c123b"
  },
  {
   "metadata": {},
   "cell_type": "code",
   "source": "plot_moving_avg_std('Liczba nowych zachorowań mężczyzn', 'daily_confirmed_male')",
   "id": "ee217b995904912",
   "outputs": [],
   "execution_count": null
  },
  {
   "metadata": {},
   "cell_type": "markdown",
   "source": "### 1.4 liczba nowych śmierci mężczyzn",
   "id": "f1d342008bd986c5"
  },
  {
   "metadata": {},
   "cell_type": "code",
   "source": "plot_moving_avg_std('Liczba nowych śmierci mężczyzn', 'daily_deceased_male')",
   "id": "9bebafe6206133ef",
   "outputs": [],
   "execution_count": null
  },
  {
   "metadata": {},
   "cell_type": "markdown",
   "source": [
    "## <center>Część 2</center>\n",
    "### Wykorzystaj do analizy trendów analizę szeregów czasowych (metoda średniej ruchomej czy inne modele autoregresyjne), która umożliwi zbadanie 5 przypadków rozważanych w części 1 poziomu 3. Przeanalizuj otrzymane wyniki."
   ],
   "id": "83f6f3dfb3402246"
  },
  {
   "metadata": {},
   "cell_type": "markdown",
   "source": "### 1.1 liczba nowych zachorowań,",
   "id": "9a60b06195e311cb"
  },
  {
   "metadata": {},
   "cell_type": "code",
   "source": "plot_moving_avg_std('Liczba nowych zachorowań', 'daily_confirmed', trend_line=True)",
   "id": "7bbd8475a68ce17e",
   "outputs": [],
   "execution_count": null
  },
  {
   "metadata": {},
   "cell_type": "code",
   "source": "pd.date_range(part6['date'].min(), part6['date'].max(), freq='W-WED')",
   "id": "554eeefb702d1255",
   "outputs": [],
   "execution_count": null
  },
  {
   "metadata": {},
   "cell_type": "markdown",
   "source": "### 1.2. liczby nowych śmierci,",
   "id": "dc3501ced04793cf"
  },
  {
   "metadata": {},
   "cell_type": "code",
   "source": "plot_moving_avg_std('Liczba nowych śmierci', 'daily_deceased', trend_line=True)",
   "id": "2cdb56e793ba338d",
   "outputs": [],
   "execution_count": null
  },
  {
   "metadata": {},
   "cell_type": "markdown",
   "source": "### 1.3. liczby nowych szczepień,",
   "id": "1bc92566e5916130"
  },
  {
   "metadata": {},
   "cell_type": "code",
   "source": "plot_moving_avg_std('Liczba nowych szczepień', 'daily_persons_vaccinated', trend_line=True)",
   "id": "6d6b810134253a3e",
   "outputs": [],
   "execution_count": null
  },
  {
   "metadata": {},
   "cell_type": "markdown",
   "source": "### 1.4 liczba nowych zachorowań mężczyzn,",
   "id": "3e33bbe465765c0c"
  },
  {
   "metadata": {},
   "cell_type": "code",
   "source": "plot_moving_avg_std('Liczba nowych zachorowań mężczyzn', 'daily_confirmed_male', trend_line=True)",
   "id": "70706e5d17cbc70f",
   "outputs": [],
   "execution_count": null
  },
  {
   "metadata": {},
   "cell_type": "markdown",
   "source": "### 1.4 liczba nowych śmierci mężczyzn",
   "id": "8f23f0a0b51431a"
  },
  {
   "metadata": {},
   "cell_type": "code",
   "source": "plot_moving_avg_std('Liczba nowych śmierci mężczyzn', 'daily_deceased_male', trend_line=True)",
   "id": "6f11a6fa27cc15a0",
   "outputs": [],
   "execution_count": null
  },
  {
   "metadata": {},
   "cell_type": "markdown",
   "source": [
    "## <center>Cześć 3</center>\n",
    "### Przygotuj dane treningowe w interesującym Cię okresie czasu (np. druga połowa 2020 roku i pierwsza połowa 2021 roku, tj. 52 tygodnie = X) oraz ewentualne dane testowe. Możesz przefiltrować dane także po innych kryteriach, jeżeli uznasz to za potrzebne. Zastosuj analizę regresji, aby przewidzieć wartości w kolejnych X tygodniach następujących po wybranym okresie treningowym. Użyj modelu regresji liniowej, gdzie zmienną niezależną będzie czas, a zmienną zależną:"
   ],
   "id": "4b1e8d42b1a72d96"
  },
  {
   "metadata": {},
   "cell_type": "markdown",
   "source": "### Dane treningowe i testowe",
   "id": "e33f46550d4e348e"
  },
  {
   "metadata": {},
   "cell_type": "code",
   "source": [
    "def get_train_test(column, country, start, end, duration):\n",
    "    train_data = part6.loc[(part6['country_name'] == country) & (part6['date'].between(start, end)), ['date', column]]\n",
    "    test_data = part6.loc[(part6['country_name'] == country) & (part6['date'].between(pd.to_datetime(end) + pd.Timedelta(1, unit='d'), pd.to_datetime(end) + pd.Timedelta(1 + 7 * duration, unit='d'))), ['date', column]]\n",
    "    return train_data, test_data"
   ],
   "id": "8efccda28cdbdc58",
   "outputs": [],
   "execution_count": null
  },
  {
   "metadata": {},
   "cell_type": "markdown",
   "source": "### Model regresji liniowej",
   "id": "bcb878238ea9b1fe"
  },
  {
   "metadata": {},
   "cell_type": "code",
   "source": [
    "def linear_regression(train, test, ylabel, column, poly, ax=None):\n",
    "    reg = LinearRegression(n_jobs=-1)\n",
    "    map_train_dates = train['date'].map(dt.datetime.toordinal)\n",
    "    map_test_dates = test['date'].map(dt.datetime.toordinal)\n",
    "    if poly:\n",
    "        polymonial = PolynomialFeatures(degree=11)\n",
    "        poly_train = polymonial.fit_transform(pd.DataFrame(map_train_dates))\n",
    "        poly_test = polymonial.transform(pd.DataFrame(map_test_dates))\n",
    "        reg.fit(poly_train, train[column])\n",
    "        y_pred = reg.predict(poly_test)\n",
    "        sns.lineplot(x=train['date'], y=reg.predict(poly_train).squeeze(), label='Predict train', color='green', ax=ax)\n",
    "    else:\n",
    "        reg.fit(pd.DataFrame(map_train_dates), train[column])\n",
    "        y_pred = reg.predict(pd.DataFrame(map_test_dates))\n",
    "        sns.lineplot(x=train['date'], y=reg.predict(pd.DataFrame(map_train_dates)).squeeze(), label='Predict train', color='green', ax=ax)\n",
    "    \n",
    "    sns.scatterplot(x=train['date'], y=train[column].squeeze(), label='Actual train', s=15, ax=ax)\n",
    "    sns.scatterplot(x=test['date'], y=test[column].squeeze(), label='Actual test', s=15, color='red', ax=ax)\n",
    "    sns.lineplot(x=test['date'], y=y_pred.squeeze(), label='Predict test', color='green', ax=ax)\n",
    "    \n",
    "    metrics = dict(zip(['MSE', 'MAE', 'R2'], [mean_squared_error(test[column], y_pred), mean_absolute_error(test[column], y_pred), r2_score(test[column], y_pred)]))\n",
    "\n",
    "    if ax is None:\n",
    "        plt.legend()\n",
    "        plt.xlabel('date')\n",
    "        plt.ylabel(ylabel)\n",
    "    else:\n",
    "        ax.legend(loc='best')\n",
    "        ax.set_xlabel('date')\n",
    "        ax.set_ylabel(ylabel)\n",
    "    return metrics\n",
    "\n",
    "\n",
    "def draw_cool_plots(country_names, column, title, poly=False):\n",
    "    fig, ax = plt.subplots(nrows=2, ncols=2, figsize=(20, 12))\n",
    "    fig.suptitle('Modele regresji liniowej', fontsize=20) if not poly else fig.suptitle('Modele regresji wielomianowej', fontsize=20)\n",
    "    metrics = pd.DataFrame(columns=['MSE', 'MAE', 'R2'])\n",
    "    for i, country_name in enumerate(country_names):\n",
    "        x_cord, y_cord = divmod(i, 2)\n",
    "        X_train, X_test = get_train_test(column, country_name, '2020-06-29', '2021-07-04', 5)\n",
    "        reg_metrics = linear_regression(X_train, X_test, title, column, ax=ax[x_cord, y_cord], poly=poly)\n",
    "        metrics = pd.concat([metrics, pd.DataFrame([reg_metrics], columns=reg_metrics.keys(), index=[country_name])])\n",
    "        ax[x_cord, y_cord].set_title(country_name)\n",
    "    display(metrics)"
   ],
   "id": "fc01b62845484175",
   "outputs": [],
   "execution_count": null
  },
  {
   "metadata": {},
   "cell_type": "markdown",
   "source": "### 3.1. liczba nowych zachorowań, dla Ameryki Północnej",
   "id": "cc4473a89e206ac5"
  },
  {
   "metadata": {},
   "cell_type": "code",
   "source": "draw_cool_plots(['Canada', 'Mexico', 'United States of America', 'Cuba'], 'daily_confirmed', 'Liczba nowych zachorowań')",
   "id": "e254edb9a25e9a30",
   "outputs": [],
   "execution_count": null
  },
  {
   "metadata": {},
   "cell_type": "markdown",
   "source": "### 3.2. liczba nowych śmierci, dla krajów skandynawskich",
   "id": "4b3fef5effc035ec"
  },
  {
   "metadata": {},
   "cell_type": "code",
   "source": "draw_cool_plots(['Norway', 'Sweden', 'Finland', 'Denmark'], 'daily_deceased', 'Liczba nowych śmierci')",
   "id": "c0d4d3a7ffd550b6",
   "outputs": [],
   "execution_count": null
  },
  {
   "metadata": {},
   "cell_type": "markdown",
   "source": "### 3.3. liczba nowych szczepień, dla państw Bliskiego Wschodu",
   "id": "9b45e68736a4ace8"
  },
  {
   "metadata": {},
   "cell_type": "code",
   "source": "draw_cool_plots(['Israel', 'Turkey', 'Iran', 'Saudi Arabia'], 'daily_persons_vaccinated', 'Liczba nowych szczepień')",
   "id": "3897dd161c21d97e",
   "outputs": [],
   "execution_count": null
  },
  {
   "metadata": {},
   "cell_type": "markdown",
   "source": "### 3.4 liczba nowych zachorowań mężczyzn, dla krajów bałkańskich",
   "id": "431753f57020c7e3"
  },
  {
   "metadata": {},
   "cell_type": "code",
   "source": "draw_cool_plots(['Albania', 'Bosnia and Herzegovina', 'Croatia', 'Serbia'], 'daily_confirmed_male', 'Liczba nowych zachorowań meżczyzn')",
   "id": "268539fea9fac886",
   "outputs": [],
   "execution_count": null
  },
  {
   "metadata": {},
   "cell_type": "markdown",
   "source": "### 3.4 liczba nowych śmierci mężczyzn, dla krajów bałkańskich",
   "id": "d4eb723aa371ae3d"
  },
  {
   "metadata": {},
   "cell_type": "code",
   "source": "draw_cool_plots(['Albania', 'Bosnia and Herzegovina', 'Croatia', 'Serbia'], 'daily_deceased_male', 'Liczba nowych śmierci mężczyzn')",
   "id": "8b79b3be8611039e",
   "outputs": [],
   "execution_count": null
  },
  {
   "metadata": {},
   "cell_type": "markdown",
   "source": [
    "## <center>Część 4</center>\n",
    "### Użyj model regresji wielomianowej dla wszystkich 5 przypadków rozważanych w części 3 poziomu 3. Oceń, który model regresji (liniowy czy wielomianowy) okazał się \"lepszy\" dla każdego przypadku. W tym celu możesz użyć dowolnej miary dopasowania modelu. Uzasadnij swoje zdanie."
   ],
   "id": "65bf95a61598fb0c"
  },
  {
   "metadata": {},
   "cell_type": "markdown",
   "source": "### 4.1. liczba nowych zachorowań, dla Ameryki Północnej",
   "id": "8a3368213e025c0a"
  },
  {
   "metadata": {},
   "cell_type": "code",
   "source": "draw_cool_plots(['Canada', 'Mexico', 'United States of America', 'Cuba'], 'daily_confirmed', 'Liczba nowych zachorowań', poly=True)",
   "id": "c0bbc5a15cdc2f9e",
   "outputs": [],
   "execution_count": null
  },
  {
   "metadata": {},
   "cell_type": "markdown",
   "source": "### 4.2. liczba nowych śmierci, dla krajów skandynawskich",
   "id": "912397ecd712ac69"
  },
  {
   "metadata": {},
   "cell_type": "code",
   "source": "draw_cool_plots(['Norway', 'Sweden', 'Finland', 'Denmark'], 'daily_deceased', 'Liczba nowych śmierci', poly=True)",
   "id": "2ff6fe91a0b01118",
   "outputs": [],
   "execution_count": null
  },
  {
   "metadata": {},
   "cell_type": "markdown",
   "source": "### 4.3. liczba nowych szczepień, dla krajów Bliskiego Wschodu",
   "id": "70443977f87d789d"
  },
  {
   "metadata": {},
   "cell_type": "code",
   "source": "draw_cool_plots(['Israel', 'Turkey', 'Iran', 'Saudi Arabia'], 'daily_persons_vaccinated', 'Liczba nowych szczepień', poly=True)",
   "id": "5ab0b2c0901838a",
   "outputs": [],
   "execution_count": null
  },
  {
   "metadata": {},
   "cell_type": "markdown",
   "source": "### 4.4 liczba nowych zachorowań mężczyzn, dla krajów bałkańskich",
   "id": "89de2d99d1ddb62"
  },
  {
   "metadata": {},
   "cell_type": "code",
   "source": "draw_cool_plots(['Albania', 'Bosnia and Herzegovina', 'Croatia', 'Serbia'], 'daily_confirmed_male', 'Liczba nowych zachorowań meżczyzn', poly=True)",
   "id": "bf9263ac46008add",
   "outputs": [],
   "execution_count": null
  },
  {
   "metadata": {},
   "cell_type": "markdown",
   "source": "### 4.4 liczba śmierci zachorowań mężczyzn, dla krajów bałkańskich",
   "id": "3d58e9e3292bcbe7"
  },
  {
   "metadata": {},
   "cell_type": "code",
   "source": "draw_cool_plots(['Albania', 'Bosnia and Herzegovina', 'Croatia', 'Serbia'], 'daily_deceased_male', 'Liczba nowych śmierci mężczyzn', poly=True)",
   "id": "6e68e14f34f204f8",
   "outputs": [],
   "execution_count": null
  }
 ],
 "metadata": {
  "kernelspec": {
   "display_name": "Python 3",
   "language": "python",
   "name": "python3"
  },
  "language_info": {
   "codemirror_mode": {
    "name": "ipython",
    "version": 2
   },
   "file_extension": ".py",
   "mimetype": "text/x-python",
   "name": "python",
   "nbconvert_exporter": "python",
   "pygments_lexer": "ipython2",
   "version": "2.7.6"
  }
 },
 "nbformat": 4,
 "nbformat_minor": 5
}
