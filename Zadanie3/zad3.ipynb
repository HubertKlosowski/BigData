{
 "cells": [
  {
   "metadata": {},
   "cell_type": "markdown",
   "source": [
    "## Analiza danych\n",
    "### Hubert Kłosowski 242424\n",
    "### Kamil Małecki 242464"
   ],
   "id": "48ad1e5227a23410"
  },
  {
   "metadata": {},
   "cell_type": "markdown",
   "source": "### Potrzebne importy",
   "id": "cae1caa612f87253"
  },
  {
   "metadata": {},
   "cell_type": "code",
   "source": [
    "import numpy as np\n",
    "import pandas as pd\n",
    "import matplotlib.pyplot as plt\n",
    "import seaborn as sns\n",
    "import os"
   ],
   "id": "ad11b85c731f5913",
   "outputs": [],
   "execution_count": null
  },
  {
   "metadata": {},
   "cell_type": "markdown",
   "source": "### Wczytanie danych",
   "id": "2155e78497532fa3"
  },
  {
   "metadata": {},
   "cell_type": "code",
   "source": [
    "def get_data():\n",
    "    os.chdir('..')\n",
    "    os.chdir('Zadanie1\\\\czesc4')\n",
    "    read = []\n",
    "    for filename in os.listdir():\n",
    "        df = pd.read_csv(filename)\n",
    "        if 'date' in df.columns:\n",
    "            df['date'] = pd.to_datetime(df['date'])\n",
    "        read.append(df)\n",
    "    os.chdir('..')\n",
    "    os.chdir('..')\n",
    "    os.chdir('Zadanie2')\n",
    "    return read\n",
    "\n",
    "data = get_data()\n",
    "part6 = data[5]"
   ],
   "id": "e8b0efd33db77823",
   "outputs": [],
   "execution_count": null
  },
  {
   "metadata": {},
   "cell_type": "markdown",
   "source": [
    "## <center>Część 1</center>\n",
    "### Wyznacz średnią kroczącą i odchylenie standardowe kroczące (np. 7-dniowe), aby zobaczyć, jak te zjawiska zmieniają się w czasie. Obliczenia wykonaj dla:\n"
   ],
   "id": "21894e47763fad8b"
  },
  {
   "metadata": {},
   "cell_type": "markdown",
   "source": "### 1.1. liczby nowych zachorowań,",
   "id": "71d14774f53e0670"
  },
  {
   "metadata": {},
   "cell_type": "markdown",
   "source": "### dla najbogatszego kraju z każdego kontynentu",
   "id": "e006a8f8dc6132b9"
  },
  {
   "metadata": {},
   "cell_type": "code",
   "source": [
    "countries = part6[['country_name', 'gdp_usd', 'Continent']].sort_values(by='gdp_usd', ascending=False).drop_duplicates().groupby('Continent')\n",
    "continents = part6['Continent'].unique()\n",
    "choose_countries = np.array([countries.get_group(continent)['country_name'][:1].values for continent in continents])\n",
    "choose_countries = choose_countries.reshape(-1)"
   ],
   "id": "be9bbbf8b32eeb54",
   "outputs": [],
   "execution_count": null
  },
  {
   "metadata": {},
   "cell_type": "markdown",
   "source": "### Średnia ruchoma i odchylenie standardowe",
   "id": "db53d2c8e56037a4"
  },
  {
   "metadata": {},
   "cell_type": "code",
   "source": [
    "def calculate_moving_avg_std(ylabel, column):\n",
    "    fig, ax = plt.subplots(nrows=3, ncols=2, sharex=True, sharey=True, figsize=(20, 12))\n",
    "    fig.suptitle('Średnia i ochylenie standardowe kroczące 7-dniowe', fontsize=20)\n",
    "    for i, country_name in enumerate(choose_countries):\n",
    "        x, y = divmod(i, 2)\n",
    "        mean_data = part6.loc[part6['country_name'] == country_name, column].rolling(window=7).mean().bfill()\n",
    "        std_data = part6.loc[part6['country_name'] == country_name, column].rolling(window=7).std().bfill()\n",
    "        sns.lineplot(y=mean_data, x=part6['date'], ax=ax[x][y], color='red', label='średnia krocząca')\n",
    "        sns.lineplot(y=std_data, x=part6['date'], ax=ax[x][y], color='green', label='odchylenie standardowe kroczące')\n",
    "        ax[x][y].set_title(country_name)\n",
    "        ax[x][y].set_xlabel('Date')\n",
    "        ax[x][y].set_ylabel(ylabel)\n",
    "        ax[x][y].legend(loc='best')\n",
    "\n",
    "\n",
    "calculate_moving_avg_std('Liczba nowych zachorowań', 'daily_confirmed')"
   ],
   "id": "c10c0e29162e7af0",
   "outputs": [],
   "execution_count": null
  },
  {
   "metadata": {},
   "cell_type": "markdown",
   "source": "### 1.2. liczby nowych śmierci,",
   "id": "7ecf125587dde006"
  },
  {
   "metadata": {},
   "cell_type": "code",
   "source": "calculate_moving_avg_std('Liczba nowych śmierci', 'daily_deceased')",
   "id": "a100d5a11fbf23d2",
   "outputs": [],
   "execution_count": null
  },
  {
   "metadata": {},
   "cell_type": "markdown",
   "source": "### 1.3. liczby nowych szczepień,",
   "id": "38e04bd617cca64e"
  },
  {
   "metadata": {},
   "cell_type": "code",
   "source": "calculate_moving_avg_std('Liczba nowych szczepień', 'daily_persons_vaccinated')",
   "id": "2bfad309f5287e9",
   "outputs": [],
   "execution_count": null
  },
  {
   "metadata": {},
   "cell_type": "markdown",
   "source": "### 1.4 liczba nowych zachorowań mężczyzn,",
   "id": "5eefb33ca62c123b"
  },
  {
   "metadata": {},
   "cell_type": "code",
   "source": "calculate_moving_avg_std('Liczba nowych zachorowań mężczyzn', 'daily_confirmed_male')",
   "id": "ee217b995904912",
   "outputs": [],
   "execution_count": null
  },
  {
   "metadata": {},
   "cell_type": "markdown",
   "source": "### 1.4 liczba nowych śmierci mężczyzn",
   "id": "f1d342008bd986c5"
  },
  {
   "metadata": {},
   "cell_type": "code",
   "source": "calculate_moving_avg_std('Liczba nowych śmierci mężczyzn', 'daily_deceased_male')",
   "id": "9bebafe6206133ef",
   "outputs": [],
   "execution_count": null
  },
  {
   "metadata": {},
   "cell_type": "markdown",
   "source": [
    "## <center>Część 2</center>\n",
    "### Wykorzystaj do analizy trendów analizę szeregów czasowych (metoda średniej ruchomej czy inne modele autoregresyjne), która umożliwi zbadanie 5 przypadków rozważanych w części 1 poziomu 3. Przeanalizuj otrzymane wyniki."
   ],
   "id": "83f6f3dfb3402246"
  },
  {
   "metadata": {},
   "cell_type": "code",
   "source": "",
   "id": "7bbd8475a68ce17e",
   "outputs": [],
   "execution_count": null
  },
  {
   "metadata": {},
   "cell_type": "markdown",
   "source": "",
   "id": "b793a29c008c6dfa"
  },
  {
   "metadata": {},
   "cell_type": "markdown",
   "source": [
    "## <center>Cześć 3</center>\n",
    "### Przygotuj dane treningowe w interesującym Cię okresie czasu (np. druga połowa 2020 roku i pierwsza połowa 2021 roku, tj. 52 tygodnie = X) oraz ewentualne dane testowe. Możesz przefiltrować dane także po innych kryteriach, jeżeli uznasz to za potrzebne. Zastosuj analizę regresji, aby przewidzieć wartości w kolejnych X tygodniach następujących po wybranym okresie treningowym. Użyj modelu regresji liniowej, gdzie zmienną niezależną będzie czas, a zmienną zależną:"
   ],
   "id": "4b1e8d42b1a72d96"
  },
  {
   "metadata": {},
   "cell_type": "markdown",
   "source": "### Dane treningowe i testowe",
   "id": "e33f46550d4e348e"
  },
  {
   "metadata": {},
   "cell_type": "code",
   "source": [
    "def get_train_test(column, country, start, end):\n",
    "    return part6.loc[(part6['country_name'] == country) & (part6['date'].between('2020-06-29', '2021-07-04')), ['date', column]],  part6.loc[(part6['country_name'] == country) & (part6['date'].between(start, end)), ['date', column]]"
   ],
   "id": "8efccda28cdbdc58",
   "outputs": [],
   "execution_count": null
  },
  {
   "metadata": {},
   "cell_type": "markdown",
   "source": "### Model regresji liniowej",
   "id": "bcb878238ea9b1fe"
  },
  {
   "metadata": {},
   "cell_type": "code",
   "source": [
    "from sklearn.linear_model import LinearRegression\n",
    "from sklearn.metrics import mean_squared_error\n",
    "import datetime as dt\n",
    "\n",
    "\n",
    "def linear_regression(train, test, ylabel, column):    \n",
    "    reg = LinearRegression(n_jobs=-1)\n",
    "    reg.fit(pd.DataFrame(train['date'].map(dt.datetime.toordinal)), train[column])\n",
    "    \n",
    "    y_pred = reg.predict(pd.DataFrame(test['date'].map(dt.datetime.toordinal)))\n",
    "    \n",
    "    print(f'Mean squared error: {mean_squared_error(test[column], y_pred)}')\n",
    "    print(f'Coefficients: {reg.coef_}')\n",
    "    print(f'Intercept: {reg.intercept_}')\n",
    "    \n",
    "    plt.figure(figsize=(10, 6))\n",
    "    sns.lineplot(x=test['date'], y=y_pred.squeeze(), label='Predicted', color='red')\n",
    "    sns.scatterplot(x=test['date'], y=test[column].squeeze(), label='Actual', s=7)\n",
    "\n",
    "    plt.xlabel('date')\n",
    "    plt.ylabel(ylabel)\n",
    "    plt.title(f'Model regresji liniowej dla {ylabel.lower()}')\n",
    "    plt.legend()"
   ],
   "id": "fc01b62845484175",
   "outputs": [],
   "execution_count": null
  },
  {
   "metadata": {},
   "cell_type": "markdown",
   "source": "### 3.1. liczba nowych zachorowań, dla USA",
   "id": "cc4473a89e206ac5"
  },
  {
   "metadata": {},
   "cell_type": "code",
   "source": [
    "X_train, X_test = get_train_test('daily_confirmed', 'United States of America', '2021-12-28', '2022-07-04')\n",
    "linear_regression(X_train, X_test, 'Liczba nowych zachorowań', 'daily_confirmed')"
   ],
   "id": "e254edb9a25e9a30",
   "outputs": [],
   "execution_count": null
  },
  {
   "metadata": {},
   "cell_type": "markdown",
   "source": "### 3.2. liczba nowych śmierci, dla USA",
   "id": "4b3fef5effc035ec"
  },
  {
   "metadata": {},
   "cell_type": "code",
   "source": [
    "X_train, X_test = get_train_test('daily_deceased', 'United States of America', '2021-12-28', '2022-07-04')\n",
    "linear_regression(X_train, X_test, 'Liczba nowych śmierci', 'daily_deceased')"
   ],
   "id": "c0d4d3a7ffd550b6",
   "outputs": [],
   "execution_count": null
  },
  {
   "metadata": {},
   "cell_type": "markdown",
   "source": "### 3.3. liczba nowych szczepień, dla USA",
   "id": "9b45e68736a4ace8"
  },
  {
   "metadata": {},
   "cell_type": "code",
   "source": [
    "X_train, X_test = get_train_test('daily_persons_vaccinated', 'United States of America', '2021-12-28', '2022-07-04')\n",
    "linear_regression(X_train, X_test, 'Liczba nowych szczepień', 'daily_persons_vaccinated')"
   ],
   "id": "3897dd161c21d97e",
   "outputs": [],
   "execution_count": null
  },
  {
   "metadata": {},
   "cell_type": "markdown",
   "source": "### 3.4 liczba nowych zachorowań mężczyzn, dla USA",
   "id": "431753f57020c7e3"
  },
  {
   "metadata": {},
   "cell_type": "code",
   "source": [
    "X_train, X_test = get_train_test('daily_confirmed_male', 'United States of America', '2021-12-28', '2022-07-04')\n",
    "linear_regression(X_train, X_test, 'Liczba nowych zachorowań meżczyzn', 'daily_confirmed_male')"
   ],
   "id": "268539fea9fac886",
   "outputs": [],
   "execution_count": null
  },
  {
   "metadata": {},
   "cell_type": "markdown",
   "source": "### 3.4 liczba nowych śmierci mężczyzn, dla USA",
   "id": "d4eb723aa371ae3d"
  },
  {
   "metadata": {},
   "cell_type": "code",
   "source": [
    "X_train, X_test = get_train_test('daily_deceased_male', 'United States of America', '2021-12-28', '2022-07-04')\n",
    "linear_regression(X_train, X_test, 'Liczba nowych śmierci mężczyzn', 'daily_deceased_male')"
   ],
   "id": "8b79b3be8611039e",
   "outputs": [],
   "execution_count": null
  },
  {
   "metadata": {},
   "cell_type": "markdown",
   "source": [
    "## <center>Część 4</center>\n",
    "### Użyj model regresji wielomianowej dla wszystkich 5 przypadków rozważanych w części 3 poziomu 3. Oceń, który model regresji (liniowy czy wielomianowy) okazał się \"lepszy\" dla każdego przypadku. W tym celu możesz użyć dowolnej miary dopasowania modelu. Uzasadnij swoje zdanie."
   ],
   "id": "65bf95a61598fb0c"
  },
  {
   "metadata": {},
   "cell_type": "code",
   "source": [
    "def polymonial_regression(train, test, ylabel, column):\n",
    "    reg = np.poly1d(np.polyfit(train['date'].map(dt.datetime.toordinal), train[column], 3))\n",
    "    \n",
    "    y_pred = reg(test['date'].map(dt.datetime.toordinal))\n",
    "    \n",
    "    print(f'Mean squared error: {mean_squared_error(test[column], y_pred)}')\n",
    "    print(f'Coefficients: {reg.c}')\n",
    "    \n",
    "    plt.figure(figsize=(10, 6))\n",
    "    sns.lineplot(x=test['date'], y=y_pred.squeeze(), label='Predicted', color='red')\n",
    "    sns.scatterplot(x=test['date'], y=test[column].squeeze(), label='Actual', s=7)\n",
    "\n",
    "    plt.xlabel('date')\n",
    "    plt.ylabel(ylabel)\n",
    "    plt.title(f'Model regresji liniowej dla {ylabel.lower()}')\n",
    "    plt.legend()"
   ],
   "id": "4816e13e7054fe1c",
   "outputs": [],
   "execution_count": null
  },
  {
   "metadata": {},
   "cell_type": "markdown",
   "source": "### 4.1. liczba nowych zachorowań, dla USA",
   "id": "8a3368213e025c0a"
  },
  {
   "metadata": {},
   "cell_type": "code",
   "source": [
    "X_train, X_test = get_train_test('daily_confirmed', 'United States of America', '2021-12-28', '2022-07-04')\n",
    "polymonial_regression(X_train, X_test, 'Liczba nowych zachorowań', 'daily_confirmed')"
   ],
   "id": "c0bbc5a15cdc2f9e",
   "outputs": [],
   "execution_count": null
  },
  {
   "metadata": {},
   "cell_type": "markdown",
   "source": "### 4.2. liczba nowych śmierci, dla USA",
   "id": "912397ecd712ac69"
  },
  {
   "metadata": {},
   "cell_type": "code",
   "source": [
    "X_train, X_test = get_train_test('daily_deceased', 'United States of America', '2021-12-28', '2022-07-04')\n",
    "polymonial_regression(X_train, X_test, 'Liczba nowych śmierci', 'daily_deceased')"
   ],
   "id": "2ff6fe91a0b01118",
   "outputs": [],
   "execution_count": null
  },
  {
   "metadata": {},
   "cell_type": "markdown",
   "source": "### 4.3. liczba nowych szczepień, dla USA",
   "id": "70443977f87d789d"
  },
  {
   "metadata": {},
   "cell_type": "code",
   "source": [
    "X_train, X_test = get_train_test('daily_persons_vaccinated', 'United States of America', '2021-12-28', '2022-07-04')\n",
    "polymonial_regression(X_train, X_test, 'Liczba nowych szczepień', 'daily_persons_vaccinated')"
   ],
   "id": "5ab0b2c0901838a",
   "outputs": [],
   "execution_count": null
  },
  {
   "metadata": {},
   "cell_type": "markdown",
   "source": "### 4.4 liczba nowych zachorowań mężczyzn, dla USA",
   "id": "89de2d99d1ddb62"
  },
  {
   "metadata": {},
   "cell_type": "code",
   "source": [
    "X_train, X_test = get_train_test('daily_confirmed_male', 'United States of America', '2021-12-28', '2022-07-04')\n",
    "polymonial_regression(X_train, X_test, 'Liczba nowych zachorowań meżczyzn', 'daily_confirmed_male')"
   ],
   "id": "bf9263ac46008add",
   "outputs": [],
   "execution_count": null
  },
  {
   "metadata": {},
   "cell_type": "markdown",
   "source": "### 4.4 liczba śmierci zachorowań mężczyzn, dla USA",
   "id": "3d58e9e3292bcbe7"
  },
  {
   "metadata": {},
   "cell_type": "code",
   "source": [
    "X_train, X_test = get_train_test('daily_deceased_male', 'United States of America', '2021-12-28', '2022-07-04')\n",
    "polymonial_regression(X_train, X_test, 'Liczba nowych śmierci mężczyzn', 'daily_deceased_male')"
   ],
   "id": "6e68e14f34f204f8",
   "outputs": [],
   "execution_count": null
  }
 ],
 "metadata": {
  "kernelspec": {
   "display_name": "Python 3",
   "language": "python",
   "name": "python3"
  },
  "language_info": {
   "codemirror_mode": {
    "name": "ipython",
    "version": 2
   },
   "file_extension": ".py",
   "mimetype": "text/x-python",
   "name": "python",
   "nbconvert_exporter": "python",
   "pygments_lexer": "ipython2",
   "version": "2.7.6"
  }
 },
 "nbformat": 4,
 "nbformat_minor": 5
}
