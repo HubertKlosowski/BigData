{
 "cells": [
  {
   "cell_type": "markdown",
   "source": [
    "## Zadanie 2\n",
    "### Hubert Kłosowski 242424\n",
    "### Kamil Małecki 242464"
   ],
   "metadata": {
    "collapsed": false
   },
   "id": "19616fbcdbf36118"
  },
  {
   "cell_type": "markdown",
   "source": [
    "### Potrzebne importy"
   ],
   "metadata": {
    "collapsed": false
   },
   "id": "d5c9552b927083eb"
  },
  {
   "cell_type": "code",
   "outputs": [],
   "source": [
    "import pandas as pd\n",
    "import matplotlib.pyplot as plt\n",
    "import seaborn as sns\n",
    "import numpy as np\n",
    "import os\n",
    "from scipy.stats import iqr, zscore"
   ],
   "metadata": {
    "collapsed": false
   },
   "id": "e4db05ae07c71198",
   "execution_count": null
  },
  {
   "cell_type": "markdown",
   "source": [
    "## Wczytanie danych"
   ],
   "metadata": {
    "collapsed": false
   },
   "id": "e6557bd9e2f6e24c"
  },
  {
   "cell_type": "code",
   "outputs": [],
   "source": [
    "def get_data():\n",
    "    os.chdir('..')\n",
    "    os.chdir('Zadanie1\\\\czesc4')\n",
    "    read = [pd.read_csv(filename, parse_dates=[1]) for filename in os.listdir()]\n",
    "    os.chdir('..')\n",
    "    os.chdir('..')\n",
    "    os.chdir('Zadanie2')\n",
    "    return read\n",
    "\n",
    "data = get_data()"
   ],
   "metadata": {
    "collapsed": false
   },
   "id": "3b6063410a2b0cad",
   "execution_count": null
  },
  {
   "cell_type": "markdown",
   "source": [
    "## <center>Część 1</center>\n",
    "### Wykonaj wykresy pudełkowe (ang.box plot), które pozwolą na graficzną identyfikację wartości odstających poprzez przedstawienie kwartyli i wartości skrajnych w danych dotyczących:"
   ],
   "metadata": {
    "collapsed": false
   },
   "id": "a7135f1cd9690e75"
  },
  {
   "cell_type": "markdown",
   "source": [
    "### 1.1 liczby nowych zachorowań"
   ],
   "metadata": {
    "collapsed": false
   },
   "id": "6f5f11c2ca716efc"
  },
  {
   "cell_type": "code",
   "outputs": [],
   "source": [
    "sns.boxplot(data=data[1], y='daily_confirmed', linewidth=2)\n",
    "plt.title('Wykres pudełkowy liczby nowych zachorowań')\n",
    "plt.ylabel('Nowe zachorowania')"
   ],
   "metadata": {
    "collapsed": false
   },
   "id": "31bb631075629cbe",
   "execution_count": null
  },
  {
   "cell_type": "markdown",
   "source": [
    "### 1.2 liczby nowych śmierci"
   ],
   "metadata": {
    "collapsed": false
   },
   "id": "8f639907a8971f7e"
  },
  {
   "cell_type": "code",
   "outputs": [],
   "source": [
    "sns.boxplot(data=data[2], y='daily_deceased', linewidth=2)\n",
    "plt.title('Wykres pudełkowy liczby nowych śmierci')\n",
    "plt.ylabel('Nowe śmierci')"
   ],
   "metadata": {
    "collapsed": false
   },
   "id": "18460a6cee8ae452",
   "execution_count": null
  },
  {
   "cell_type": "markdown",
   "source": [
    "### 1.3 liczby nowych szczepień"
   ],
   "metadata": {
    "collapsed": false
   },
   "id": "8fdffd781fb861a2"
  },
  {
   "cell_type": "code",
   "outputs": [],
   "source": [
    "sns.boxplot(data=data[3], y='daily_persons_vaccinated', linewidth=2)\n",
    "plt.title('Wykres pudełkowy liczby nowych szczepień')\n",
    "plt.ylabel('Nowe szczepienia')"
   ],
   "metadata": {
    "collapsed": false
   },
   "id": "43a98b755fdf6635",
   "execution_count": null
  },
  {
   "cell_type": "markdown",
   "source": [
    "### 1.4 populacji"
   ],
   "metadata": {
    "collapsed": false
   },
   "id": "e84370f33fd4c821"
  },
  {
   "cell_type": "code",
   "outputs": [],
   "source": [
    "sns.boxplot(data=data[0], y='population', linewidth=2, log_scale=10)\n",
    "plt.title('Wykres pudełkowy populacji w krajach na świecie')\n",
    "plt.ylabel('Populacja')"
   ],
   "metadata": {
    "collapsed": false
   },
   "id": "c8f81510c12ffacc",
   "execution_count": null
  },
  {
   "cell_type": "markdown",
   "source": [
    "### 1.5 PKB"
   ],
   "metadata": {
    "collapsed": false
   },
   "id": "e91b2ee44cbedd05"
  },
  {
   "cell_type": "code",
   "outputs": [],
   "source": [
    "sns.boxplot(data=data[0], y='gdp_usd', linewidth=2, log_scale=10)\n",
    "plt.title('Wykres pudełkowy PKB na świecie [USD]')\n",
    "plt.ylabel('PKB krajów w dolarach')"
   ],
   "metadata": {
    "collapsed": false
   },
   "id": "ad5506bcce9c64c7",
   "execution_count": null
  },
  {
   "cell_type": "markdown",
   "source": [
    "### 1.6\n",
    "### średnia długość życia w krajach"
   ],
   "metadata": {
    "collapsed": false
   },
   "id": "f16e62ae5ee86ba5"
  },
  {
   "cell_type": "code",
   "outputs": [],
   "source": [
    "sns.boxplot(data=data[0], y='life_expectancy', linewidth=2)\n",
    "plt.title('Wykres pudełkowy przewidywanej długości życia na świecie')\n",
    "plt.ylabel('Przewidywana długości życia')"
   ],
   "metadata": {
    "collapsed": false
   },
   "id": "e103d3cb4981a637",
   "execution_count": null
  },
  {
   "cell_type": "markdown",
   "source": [
    "### PKB na osobę"
   ],
   "metadata": {
    "collapsed": false
   },
   "id": "76fa9a6d4b33ba28"
  },
  {
   "cell_type": "code",
   "outputs": [],
   "source": [
    "sns.boxplot(data=data[0], y='gdp_per_capita_usd', linewidth=2)\n",
    "plt.title('Wykres pudełkowy PKB na osobę na świecie')\n",
    "plt.ylabel('Wartość PKB na osobę')"
   ],
   "metadata": {
    "collapsed": false
   },
   "id": "8f103a9d0b10bde8",
   "execution_count": null
  },
  {
   "cell_type": "markdown",
   "source": [
    "### cena benzyny w USA i UK"
   ],
   "metadata": {
    "collapsed": false
   },
   "id": "5a9de3507b5bd3aa"
  },
  {
   "cell_type": "code",
   "outputs": [],
   "source": [
    "sns.boxplot(data=data[-1], y='Gasoline Prices $/litre', x='CCA3', linewidth=2)\n",
    "plt.title('Wykres pudełkowy ceny benzyny w USA i UK')\n",
    "plt.xlabel('Kraj')\n",
    "plt.ylabel('Cena benzyny $/litr')"
   ],
   "metadata": {
    "collapsed": false
   },
   "id": "2707bbddce8c9cfa",
   "execution_count": null
  },
  {
   "cell_type": "markdown",
   "source": [
    "### liczba przestępstw z podziałem na jego rodzaj w Południowej Australi"
   ],
   "metadata": {
    "collapsed": false
   },
   "id": "421dda2b442441bc"
  },
  {
   "cell_type": "code",
   "outputs": [],
   "source": [
    "sns.boxplot(data=data[-3], x='Offence count', y='Offence Type', linewidth=2)\n",
    "plt.title('Wykres pudełkowy przestępstw w Południowej Australi')"
   ],
   "metadata": {
    "collapsed": false
   },
   "id": "ef0929a8a011cb26",
   "execution_count": null
  },
  {
   "cell_type": "markdown",
   "source": [
    "## <center>Część 2</center>\n",
    "### Usuń wartości odstające dla co najmniej 2 informacji z części 1 poziomu 2. W tym celu użyj dwóch różnych metod obliczania outlierów. Uzasadnij swój wybór. Przeanalizuj otrzymane wyniki. \n",
    "<ol>\n",
    "    <li style='font-size: 20px'>Metoda Z-Score</li>\n",
    "    <p style='font-size: 20px'>Metoda statystyczna, która mierzy, jak wiele odchyleń standardowych wartość jest oddalona od średniej.<br>Wartości z wysokim Z-Score (np. powyżej 2 lub 3) mogą być uznane za wartości odstające, a następnie usunięte. </p>\n",
    "    <br>\n",
    "    <li style='font-size: 20px'>Metoda IQR (ang. InterQuartile Range)</li>\n",
    "    <p style='font-size: 20px'>Technika oparta na kwartylach, w której oblicza się zakres międzykwartylowy (Q3 - Q1) i wartości odstające są określane jako wartości leżące poza granicami 1,5 IQR poniżej Q1 lub powyżej Q3. </p>\n",
    "</ol>"
   ],
   "metadata": {
    "collapsed": false
   },
   "id": "9d1d80e9a0c9985f"
  },
  {
   "cell_type": "code",
   "outputs": [],
   "source": [
    "def del_outliers(series, method='zscore'):\n",
    "    indexes = []\n",
    "    if method == 'zscore':\n",
    "        x = zscore(series)\n",
    "        for index in range(len(x)):\n",
    "            if -2 <= x[index] >= 2:\n",
    "                indexes.append(index)\n",
    "    elif method == 'iqr':\n",
    "        q1, q3, c = series.quantile(0.25), series.quantile(0.75), iqr(series) * 1.5\n",
    "        for index, v in series.items():\n",
    "            if q1 - c <= v >= q3 + c:\n",
    "                indexes.append(index)\n",
    "    else:\n",
    "        raise ValueError('Nie ma takich rzeczy')\n",
    "    return indexes\n",
    "\n",
    "data[1].drop(index=del_outliers(data[1]['daily_confirmed']))\n",
    "data[2].drop(index=del_outliers(data[2]['daily_deceased'], method='iqr'))"
   ],
   "metadata": {
    "collapsed": false
   },
   "id": "c5f6d9c1df9a2f5e",
   "execution_count": null
  },
  {
   "cell_type": "markdown",
   "source": [
    "### Wykresy pudełkowe po usunięciu <i>outlierów</i>"
   ],
   "metadata": {
    "collapsed": false
   },
   "id": "14174acb402e3113"
  },
  {
   "cell_type": "code",
   "outputs": [],
   "source": [
    "sns.boxplot(data=data[1], y='daily_confirmed', linewidth=2)\n",
    "plt.title('Wykres pudełkowy liczby nowych zachorowań')\n",
    "plt.ylabel('Nowe zachorowania')"
   ],
   "metadata": {
    "collapsed": false
   },
   "id": "d1c07d349ae735a4",
   "execution_count": null
  },
  {
   "cell_type": "code",
   "outputs": [],
   "source": [
    "sns.boxplot(data=data[2], y='daily_deceased', linewidth=2)\n",
    "plt.title('Wykres pudełkowy liczby nowych śmierci')\n",
    "plt.ylabel('Nowe śmierci')"
   ],
   "metadata": {
    "collapsed": false
   },
   "id": "ea00f720b6e9569c",
   "execution_count": null
  },
  {
   "cell_type": "markdown",
   "source": [
    "## <center>Część 3</center>\n",
    "### Wykonaj następujące obliczenia:"
   ],
   "metadata": {
    "collapsed": false
   },
   "id": "a71308cbc535d350"
  },
  {
   "cell_type": "markdown",
   "source": [
    "### 3.1. średnia liczba nowych zachorowań, śmierci i szczepień dla co najmniej 10 wybranych krajów w wybranym miesiącu,"
   ],
   "metadata": {
    "collapsed": false
   },
   "id": "bcd8cdf87defa6e5"
  },
  {
   "cell_type": "code",
   "outputs": [],
   "source": [
    "countries = data[0][['country_name', 'gdp_usd']].sort_values(by='gdp_usd', ascending=False)[:10]  # wybieramy 10 najbogatszych krajów\n",
    "countries.drop('gdp_usd', axis=1, inplace=True)\n",
    "countries.reset_index(drop=True, inplace=True)\n",
    "\n",
    "df_3_1 = pd.concat([data[1][['date', 'daily_confirmed']], data[2]['daily_deceased'].astype(np.int64), data[3]['daily_persons_vaccinated'].astype(np.int64)], axis=1) # dobieramy odpowiednie kolumny z początkowych danych\n",
    "df_3_1"
   ],
   "metadata": {
    "collapsed": false
   },
   "id": "dbd3ed8ef9aacfb7",
   "execution_count": null
  },
  {
   "cell_type": "markdown",
   "source": [
    "### 3.2. średnia zmiana liczby zachorowań, śmierci i szczepień dla co najmniej 10 wybranych krajów w wybranym miesiącu,"
   ],
   "metadata": {
    "collapsed": false
   },
   "id": "a0186f77b0066e37"
  }
 ],
 "metadata": {
  "kernelspec": {
   "display_name": "Python 3",
   "language": "python",
   "name": "python3"
  },
  "language_info": {
   "codemirror_mode": {
    "name": "ipython",
    "version": 2
   },
   "file_extension": ".py",
   "mimetype": "text/x-python",
   "name": "python",
   "nbconvert_exporter": "python",
   "pygments_lexer": "ipython2",
   "version": "2.7.6"
  }
 },
 "nbformat": 4,
 "nbformat_minor": 5
}
