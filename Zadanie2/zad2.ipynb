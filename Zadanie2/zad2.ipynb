{
 "cells": [
  {
   "cell_type": "markdown",
   "source": [
    "## Agregacja i normalizacja danych\n",
    "### Hubert Kłosowski 242424\n",
    "### Kamil Małecki 242464"
   ],
   "metadata": {
    "collapsed": false
   },
   "id": "19616fbcdbf36118"
  },
  {
   "cell_type": "markdown",
   "source": [
    "### Potrzebne importy"
   ],
   "metadata": {
    "collapsed": false
   },
   "id": "d5c9552b927083eb"
  },
  {
   "cell_type": "code",
   "outputs": [],
   "source": [
    "import pandas as pd\n",
    "import matplotlib.pyplot as plt\n",
    "import seaborn as sns\n",
    "import os\n",
    "from scipy.stats import iqr, zscore"
   ],
   "metadata": {
    "collapsed": false
   },
   "id": "e4db05ae07c71198",
   "execution_count": null
  },
  {
   "cell_type": "markdown",
   "source": [
    "## Wczytanie danych"
   ],
   "metadata": {
    "collapsed": false
   },
   "id": "e6557bd9e2f6e24c"
  },
  {
   "cell_type": "code",
   "outputs": [],
   "source": [
    "def get_data():\n",
    "    os.chdir('..')\n",
    "    os.chdir('Zadanie1\\\\czesc4')\n",
    "    read = []\n",
    "    for filename in os.listdir():\n",
    "        df = pd.read_csv(filename)\n",
    "        if 'date' in df.columns:\n",
    "            df['date'] = pd.to_datetime(df['date'])\n",
    "        read.append(df)\n",
    "    os.chdir('..')\n",
    "    os.chdir('..')\n",
    "    os.chdir('Zadanie2')\n",
    "    return read\n",
    "\n",
    "data = get_data()\n",
    "part6 = data[5].copy()"
   ],
   "metadata": {
    "collapsed": false
   },
   "id": "3b6063410a2b0cad",
   "execution_count": null
  },
  {
   "cell_type": "markdown",
   "source": [
    "## <center>Część 1</center>\n",
    "### Wykonaj wykresy pudełkowe (ang.box plot), które pozwolą na graficzną identyfikację wartości odstających poprzez przedstawienie kwartyli i wartości skrajnych w danych dotyczących:"
   ],
   "metadata": {
    "collapsed": false
   },
   "id": "a7135f1cd9690e75"
  },
  {
   "cell_type": "markdown",
   "source": [
    "### 1.1 liczby nowych zachorowań"
   ],
   "metadata": {
    "collapsed": false
   },
   "id": "6f5f11c2ca716efc"
  },
  {
   "cell_type": "code",
   "outputs": [],
   "source": [
    "sns.boxplot(data=part6, y='daily_confirmed', linewidth=2)\n",
    "plt.title('Wykres pudełkowy liczby nowych zachorowań')\n",
    "plt.ylabel('Nowe zachorowania')"
   ],
   "metadata": {
    "collapsed": false
   },
   "id": "31bb631075629cbe",
   "execution_count": null
  },
  {
   "cell_type": "markdown",
   "source": [
    "### 1.2 liczby nowych śmierci"
   ],
   "metadata": {
    "collapsed": false
   },
   "id": "8f639907a8971f7e"
  },
  {
   "cell_type": "code",
   "outputs": [],
   "source": [
    "sns.boxplot(data=part6, y='daily_deceased', linewidth=2)\n",
    "plt.title('Wykres pudełkowy liczby nowych śmierci')\n",
    "plt.ylabel('Nowe śmierci')"
   ],
   "metadata": {
    "collapsed": false
   },
   "id": "18460a6cee8ae452",
   "execution_count": null
  },
  {
   "cell_type": "markdown",
   "source": [
    "### 1.3 liczby nowych szczepień"
   ],
   "metadata": {
    "collapsed": false
   },
   "id": "8fdffd781fb861a2"
  },
  {
   "cell_type": "code",
   "outputs": [],
   "source": [
    "figure, axes = plt.subplots(nrows=1, ncols=2, figsize=(20, 10))\n",
    "sns.boxplot(data=part6, y='daily_persons_vaccinated', linewidth=2, ax=axes[0])\n",
    "sns.boxplot(data=part6, y='daily_persons_fully_vaccinated', linewidth=2, ax=axes[1])\n",
    "figure.suptitle('Wykres pudełkowy liczby nowych szczepień')"
   ],
   "metadata": {
    "collapsed": false
   },
   "id": "43a98b755fdf6635",
   "execution_count": null
  },
  {
   "cell_type": "markdown",
   "source": [
    "### 1.4 populacji"
   ],
   "metadata": {
    "collapsed": false
   },
   "id": "e84370f33fd4c821"
  },
  {
   "cell_type": "code",
   "outputs": [],
   "source": [
    "sns.boxplot(data=part6, y='population', linewidth=2, log_scale=10)\n",
    "plt.title('Wykres pudełkowy populacji w krajach na świecie')\n",
    "plt.ylabel('Populacja')"
   ],
   "metadata": {
    "collapsed": false
   },
   "id": "c8f81510c12ffacc",
   "execution_count": null
  },
  {
   "cell_type": "markdown",
   "source": [
    "### 1.5 PKB"
   ],
   "metadata": {
    "collapsed": false
   },
   "id": "e91b2ee44cbedd05"
  },
  {
   "cell_type": "code",
   "outputs": [],
   "source": [
    "sns.boxplot(data=part6, y='gdp_usd', linewidth=2, log_scale=10)\n",
    "plt.title('Wykres pudełkowy PKB na świecie [USD]')\n",
    "plt.ylabel('PKB krajów w dolarach')"
   ],
   "metadata": {
    "collapsed": false
   },
   "id": "ad5506bcce9c64c7",
   "execution_count": null
  },
  {
   "cell_type": "markdown",
   "source": [
    "### 1.6 średnia długość życia w krajach"
   ],
   "metadata": {
    "collapsed": false
   },
   "id": "f16e62ae5ee86ba5"
  },
  {
   "cell_type": "code",
   "outputs": [],
   "source": [
    "sns.boxplot(data=part6, y='life_expectancy', linewidth=2)\n",
    "plt.title('Wykres pudełkowy przewidywanej długości życia na świecie')\n",
    "plt.ylabel('Przewidywana długości życia')"
   ],
   "metadata": {
    "collapsed": false
   },
   "id": "e103d3cb4981a637",
   "execution_count": null
  },
  {
   "cell_type": "markdown",
   "source": [
    "### 1.6 PKB na osobę"
   ],
   "metadata": {
    "collapsed": false
   },
   "id": "76fa9a6d4b33ba28"
  },
  {
   "cell_type": "code",
   "outputs": [],
   "source": [
    "sns.boxplot(data=part6, y='gdp_per_capita_usd', linewidth=2)\n",
    "plt.title('Wykres pudełkowy PKB na osobę na świecie')\n",
    "plt.ylabel('Wartość PKB na osobę')"
   ],
   "metadata": {
    "collapsed": false
   },
   "id": "8f103a9d0b10bde8",
   "execution_count": null
  },
  {
   "cell_type": "markdown",
   "source": [
    "### 1.6 cena benzyny w USA i UK"
   ],
   "metadata": {
    "collapsed": false
   },
   "id": "5a9de3507b5bd3aa"
  },
  {
   "cell_type": "code",
   "outputs": [],
   "source": [
    "sns.boxplot(data=data[-1], y='Gasoline Prices $/litre', x='CCA3', linewidth=2)\n",
    "plt.title('Wykres pudełkowy ceny benzyny w USA i UK')\n",
    "plt.xlabel('Kraj')\n",
    "plt.ylabel('Cena benzyny $/litr')"
   ],
   "metadata": {
    "collapsed": false
   },
   "id": "2707bbddce8c9cfa",
   "execution_count": null
  },
  {
   "cell_type": "markdown",
   "source": [
    "### 1.6 giełdowa cena energi w Belgii"
   ],
   "metadata": {
    "collapsed": false
   },
   "id": "2aa014f912ce25ab"
  },
  {
   "cell_type": "code",
   "outputs": [],
   "source": [
    "sns.boxplot(data=data[-2], y='Stock Price', x='CCA3', linewidth=2)\n",
    "plt.title('Wykres pudełkowy ceny energi w Belgii')\n",
    "plt.xlabel('Kraj')\n",
    "plt.ylabel('Cena benzyny $/litr')"
   ],
   "metadata": {
    "collapsed": false
   },
   "id": "4af8d435496b7f9b",
   "execution_count": null
  },
  {
   "cell_type": "markdown",
   "source": [
    "### 1.6 liczba przestępstw z podziałem na jego rodzaj w Południowej Australi"
   ],
   "metadata": {
    "collapsed": false
   },
   "id": "421dda2b442441bc"
  },
  {
   "cell_type": "code",
   "outputs": [],
   "source": [
    "sns.boxplot(data=data[-3], x='Offence count', y='Offence Type', linewidth=2)\n",
    "plt.title('Wykres pudełkowy przestępstw w Południowej Australi')"
   ],
   "metadata": {
    "collapsed": false
   },
   "id": "ef0929a8a011cb26",
   "execution_count": null
  },
  {
   "cell_type": "markdown",
   "source": [
    "## <center>Część 2</center>\n",
    "### Usuń wartości odstające dla co najmniej 2 informacji z części 1 poziomu 2. W tym celu użyj dwóch różnych metod obliczania outlierów. Uzasadnij swój wybór. Przeanalizuj otrzymane wyniki. \n",
    "<ol>\n",
    "    <li style='font-size: 20px'>Metoda Z-Score</li>\n",
    "    <p style='font-size: 20px'>Metoda statystyczna, która mierzy, jak wiele odchyleń standardowych wartość jest oddalona od średniej.<br>Wartości z wysokim Z-Score (np. powyżej 2 lub 3) mogą być uznane za wartości odstające, a następnie usunięte. </p>\n",
    "    <br>\n",
    "    <li style='font-size: 20px'>Metoda IQR (ang. InterQuartile Range)</li>\n",
    "    <p style='font-size: 20px'>Technika oparta na kwartylach, w której oblicza się zakres międzykwartylowy (Q3 - Q1) i wartości odstające są określane jako wartości leżące poza granicami 1,5 IQR poniżej Q1 lub powyżej Q3. </p>\n",
    "</ol>"
   ],
   "metadata": {
    "collapsed": false
   },
   "id": "9d1d80e9a0c9985f"
  },
  {
   "cell_type": "code",
   "outputs": [],
   "source": [
    "def del_outliers(series, method='zscore'):\n",
    "    indexes = []\n",
    "    if method == 'zscore':\n",
    "        vec = zscore(series)\n",
    "        for index in range(len(vec)):\n",
    "            if -3 <= vec[index] >= 3:\n",
    "                indexes.append(index)\n",
    "    elif method == 'iqr':\n",
    "        q1, q3, c = series.quantile(0.25), series.quantile(0.75), iqr(series) * 1.5\n",
    "        for index, v in series.items():\n",
    "            if q1 - c <= v >= q3 + c:\n",
    "                indexes.append(index)\n",
    "    else:\n",
    "        raise ValueError('Nie ma takich rzeczy')\n",
    "    return indexes\n",
    "\n",
    "part6.drop(index=del_outliers(part6['daily_confirmed']), inplace=True)\n",
    "part6.reset_index(drop=True, inplace=True)\n",
    "part6.drop(index=del_outliers(part6['daily_deceased'], method='iqr'), inplace=True)\n",
    "part6.reset_index(drop=True, inplace=True)\n",
    "part6.drop(index=del_outliers(part6['daily_persons_vaccinated']), inplace=True)\n",
    "part6.reset_index(drop=True, inplace=True)\n",
    "part6.drop(index=del_outliers(part6['daily_persons_fully_vaccinated']), inplace=True)\n",
    "part6.reset_index(drop=True, inplace=True)"
   ],
   "metadata": {
    "collapsed": false
   },
   "id": "c5f6d9c1df9a2f5e",
   "execution_count": null
  },
  {
   "cell_type": "markdown",
   "source": [
    "### Wykresy pudełkowe po usunięciu <i>outlierów</i>"
   ],
   "metadata": {
    "collapsed": false
   },
   "id": "14174acb402e3113"
  },
  {
   "cell_type": "code",
   "outputs": [],
   "source": [
    "sns.boxplot(data=part6, y='daily_confirmed', linewidth=2)\n",
    "plt.title('Wykres pudełkowy liczby nowych zachorowań')\n",
    "plt.ylabel('Nowe zachorowania')"
   ],
   "metadata": {
    "collapsed": false
   },
   "id": "d1c07d349ae735a4",
   "execution_count": null
  },
  {
   "cell_type": "code",
   "outputs": [],
   "source": [
    "sns.boxplot(data=part6, y='daily_deceased', linewidth=2)\n",
    "plt.title('Wykres pudełkowy liczby nowych śmierci')\n",
    "plt.ylabel('Nowe śmierci')"
   ],
   "metadata": {
    "collapsed": false
   },
   "id": "ea00f720b6e9569c",
   "execution_count": null
  },
  {
   "cell_type": "code",
   "outputs": [],
   "source": [
    "figure, axes = plt.subplots(nrows=1, ncols=2, figsize=(20, 10))\n",
    "sns.boxplot(data=part6, y='daily_persons_vaccinated', linewidth=2, ax=axes[0])\n",
    "sns.boxplot(data=part6, y='daily_persons_fully_vaccinated', linewidth=2, ax=axes[1])\n",
    "figure.suptitle('Wykres pudełkowy liczby nowych szczepień')"
   ],
   "metadata": {
    "collapsed": false
   },
   "id": "6e1c9a862d90ed8b",
   "execution_count": null
  },
  {
   "cell_type": "markdown",
   "source": [
    "## <center>Część 3</center>\n",
    "### Wykonaj następujące obliczenia:"
   ],
   "metadata": {
    "collapsed": false
   },
   "id": "a71308cbc535d350"
  },
  {
   "cell_type": "markdown",
   "source": [
    "### 3.1. średnia liczba nowych zachorowań, śmierci i szczepień dla co najmniej 10 wybranych krajów w wybranym miesiącu,"
   ],
   "metadata": {
    "collapsed": false
   },
   "id": "bcd8cdf87defa6e5"
  },
  {
   "cell_type": "code",
   "outputs": [],
   "source": [
    "def get_data_for_part_3(limit_to_countries=True, limit_to_month=None):\n",
    "    df = part6[['country_name', 'date', 'daily_confirmed', 'daily_deceased', 'daily_persons_vaccinated'] + gdp_columns + population_columns]\n",
    "    if limit_to_month is not None and 1 >= limit_to_month <= 12:\n",
    "        df = df.loc[df['date'].dt.month == limit_to_month]\n",
    "    if limit_to_countries is True:\n",
    "        df = df[df['country_name'].isin(country_names['country_name'])]\n",
    "    return df.reset_index(drop=True)\n",
    "\n",
    "def plot_3_1():\n",
    "    grouped = conf_dead_vacc.loc[:, ['country_name', 'daily_confirmed', 'daily_deceased', 'daily_persons_vaccinated']].groupby(['country_name'])\n",
    "    avg = grouped.mean()\n",
    "    avg.plot(kind='bar', title='Średnia liczba nowych zachorowań, śmierci i szczepień w styczniu dla 10 najbiedniejszych krajów', logy=True, xlabel='Nazwa kraju', ylabel='Wartość średniej', rot=45, figsize=(8, 7))\n",
    "\n",
    "gdp_columns = [el for el in part6.columns if 'gdp' in el]\n",
    "gdp_columns.remove('gdp_per_capita_usd')\n",
    "population_columns = [el for el in part6.columns if 'Population' in el]\n",
    "population_columns.remove('World Population Percentage')\n",
    "population_columns.append('population')\n",
    "\n",
    "country_names = part6[['country_name', 'gdp_usd']].drop_duplicates().sort_values(by='gdp_usd', ascending=False)[:10]  # wybieramy 10 najbiedniejszych krajów\n",
    "country_names.reset_index(drop=True, inplace=True)\n",
    "country_names.drop('gdp_usd', axis=1, inplace=True)\n",
    "country_names.sort_values(by='country_name', ascending=True, inplace=True)\n",
    "conf_dead_vacc = get_data_for_part_3(limit_to_month=1)\n",
    "\n",
    "plot_3_1()"
   ],
   "metadata": {
    "collapsed": false
   },
   "id": "dbd3ed8ef9aacfb7",
   "execution_count": null
  },
  {
   "cell_type": "markdown",
   "source": [
    "### 3.2. średnia zmiana liczby zachorowań, śmierci i szczepień dla co najmniej 10 wybranych krajów w wybranym miesiącu,"
   ],
   "metadata": {
    "collapsed": false
   },
   "id": "a0186f77b0066e37"
  },
  {
   "cell_type": "code",
   "outputs": [],
   "source": [
    "def plot_3_2():\n",
    "    avg_change = pd.DataFrame()\n",
    "    for c in country_names['country_name']:\n",
    "        tmp = conf_dead_vacc.loc[conf_dead_vacc['country_name'] == c, ['daily_confirmed', 'daily_deceased', 'daily_persons_vaccinated']].diff().mean().to_frame(c)\n",
    "        avg_change = pd.concat([avg_change, tmp], axis=1)\n",
    "    avg_change = avg_change.T\n",
    "    avg_change.plot(kind='bar', title='Średnia zmiana liczby zachorowań, śmierci i szczepień w styczniu dla 10 najbiedniejszych krajów', logy=True, xlabel='Nazwa kraju', ylabel='Wartość średniej zmiany', rot=45, figsize=(8, 7))\n",
    "    \n",
    "plot_3_2()"
   ],
   "metadata": {
    "collapsed": false
   },
   "id": "8941a9f2ab15a8f5",
   "execution_count": null
  },
  {
   "cell_type": "markdown",
   "source": [
    "### 3.3. mediana liczby nowych zachorowań, śmierci i szczepień dla co najmniej 10 wybranych krajów w wybranym miesiącu, "
   ],
   "metadata": {
    "collapsed": false
   },
   "id": "68b3f7c73c6bff9d"
  },
  {
   "cell_type": "code",
   "outputs": [],
   "source": [
    "def plot_3_3():\n",
    "    grouped = conf_dead_vacc.loc[:, ['country_name', 'daily_confirmed', 'daily_deceased', 'daily_persons_vaccinated']].groupby(['country_name'])\n",
    "    median = grouped.median()\n",
    "    median.plot(kind='bar', title='Mediana liczby nowych zachorowań, śmierci i szczepień w styczniu dla 10 najbiedniejszych krajów', logy=True, xlabel='Nazwa kraju', ylabel='Wartość mediany', rot=45, figsize=(8, 7))\n",
    "    \n",
    "plot_3_3()"
   ],
   "metadata": {
    "collapsed": false
   },
   "id": "cc14422569173cc2",
   "execution_count": null
  },
  {
   "cell_type": "markdown",
   "source": [
    "### 3.4. odchylenie standardowe liczby nowych zachorowań, śmierci i szczepień dla co najmniej 10 wybranych krajów w wybranym miesiącu,"
   ],
   "metadata": {
    "collapsed": false
   },
   "id": "3ce363fdd342daf4"
  },
  {
   "cell_type": "code",
   "outputs": [],
   "source": [
    "def plot_3_4():\n",
    "    grouped = conf_dead_vacc.loc[:, ['country_name', 'daily_confirmed', 'daily_deceased', 'daily_persons_vaccinated']].groupby(['country_name'])\n",
    "    std = grouped.std()\n",
    "    std.plot(kind='bar', title='Odchylenie standardowe liczby nowych zachorowań, śmierci i szczepień w styczniu dla 10 najbiedniejszych krajów', logy=True, xlabel='Nazwa kraju', ylabel='Wartość odchylenia standardowego', rot=45, figsize=(8, 7))\n",
    "    \n",
    "plot_3_4()"
   ],
   "metadata": {
    "collapsed": false
   },
   "id": "cde1a04803859bb2",
   "execution_count": null
  },
  {
   "cell_type": "markdown",
   "source": [
    "### 3.5. minimalna, średnia i maksymalna liczba nowych zachorowań, szczepień i śmierci, a PKB co najmniej 10 wybranych krajów,"
   ],
   "metadata": {
    "collapsed": false
   },
   "id": "5511a899471e8e0a"
  },
  {
   "cell_type": "code",
   "outputs": [],
   "source": [
    "def plot_last(limit_to):\n",
    "    df = get_data_for_part_3()\n",
    "    \n",
    "    fig, ax = plt.subplots(nrows=2, ncols=5, figsize=(40, 20))\n",
    "    fig.suptitle('Minimalna, średnia i maksymalna liczba nowych zachorowań, szczepień i śmierci, a PKB dla', fontsize=30)\n",
    "    extra_data = df.groupby('country_name')[limit_to].last()\n",
    "    extra_data.index = pd.MultiIndex.from_product([extra_data.index, [limit_to]])\n",
    "\n",
    "    for i, country in enumerate(country_names['country_name']):\n",
    "        country_stats = df[df['country_name'] == country][['daily_confirmed', 'daily_deceased', 'daily_persons_vaccinated']].describe().drop(index=['count', 'std', '25%', '50%', '75%'])\n",
    "        country_stats = pd.concat([country_stats, extra_data[country]], axis=1)\n",
    "        x, y = divmod(i, 5)\n",
    "        country_stats.plot(kind='bar', ax=ax[x][y], grid=True, fontsize=15, rot=0, logy=True)\n",
    "        ax[x][y].set_title(country, fontsize=15)\n",
    "        if y == 0:\n",
    "            ax[x][y].set_ylabel(f'Liczba zachorowań, szczepień, śmierci i wartość PKB dla {country}', fontsize=15)\n",
    "\n",
    "plot_last('gdp_usd')"
   ],
   "metadata": {
    "collapsed": false
   },
   "id": "1b9304894fbf3de5",
   "execution_count": null
  },
  {
   "cell_type": "markdown",
   "source": [
    "### 3.6. minimalna, średnia i maksymalna liczba nowych zachorowań, szczepień i śmierci, a populacja co najmniej 10 wybranych krajów."
   ],
   "metadata": {
    "collapsed": false
   },
   "id": "cc7890955aa69453"
  },
  {
   "cell_type": "code",
   "outputs": [],
   "source": [
    "plot_last('population')"
   ],
   "metadata": {
    "collapsed": false
   },
   "id": "1b0f77e348023c36",
   "execution_count": null
  },
  {
   "cell_type": "markdown",
   "source": [
    "## <center>Część 4</center>\n",
    "### Wykonaj normalizację dla następujących przypadków:"
   ],
   "metadata": {
    "collapsed": false
   },
   "id": "55f11044c2210a98"
  },
  {
   "cell_type": "markdown",
   "source": [
    "### 4.1. liczba zachorowań na 1000 osób,"
   ],
   "metadata": {
    "collapsed": false
   },
   "id": "75546b3830739672"
  },
  {
   "cell_type": "code",
   "outputs": [],
   "source": [
    "def normalize(before, num_of_people, ylabel, xlabel='date'):\n",
    "    columns = [el for el in before.columns if ylabel in el]\n",
    "    after = before.copy()\n",
    "    after[columns] /= num_of_people\n",
    "    fig, ax = plt.subplots(nrows=1, ncols=2, figsize=(10, 5))\n",
    "    before.plot(x=xlabel, y=ylabel, kind='kde', ax=ax[0], title='Przed normalizacją', style='-', color='blue')\n",
    "    after.plot(x=xlabel, y=ylabel, kind='kde', ax=ax[1], title='Po normalizacji', style='--', color='orange')\n",
    "    \n",
    "normalize(part6, 1000, 'daily_confirmed')"
   ],
   "metadata": {
    "collapsed": false
   },
   "id": "73b28c4809b8be57",
   "execution_count": null
  },
  {
   "cell_type": "markdown",
   "source": [
    "### 4.2. liczba szczepień na 1000 osób,"
   ],
   "metadata": {
    "collapsed": false
   },
   "id": "6eea97abe2bd753c"
  },
  {
   "cell_type": "code",
   "outputs": [],
   "source": [
    "normalize(part6, 1000, 'daily_persons_vaccinated')"
   ],
   "metadata": {
    "collapsed": false
   },
   "id": "2aba82908366a7f1",
   "execution_count": null
  },
  {
   "cell_type": "markdown",
   "source": [
    "### 4.3. liczba zgonów na 100 osób,"
   ],
   "metadata": {
    "collapsed": false
   },
   "id": "ac416780d082fabf"
  },
  {
   "cell_type": "code",
   "outputs": [],
   "source": [
    "normalize(part6, 100, 'daily_deceased')"
   ],
   "metadata": {
    "collapsed": false
   },
   "id": "651ec641556c0b3a",
   "execution_count": null
  },
  {
   "cell_type": "markdown",
   "source": [
    "### 4.4 wydatki na służbę zdrowia na 1000 osób,"
   ],
   "metadata": {
    "collapsed": false
   },
   "id": "dbb7743e2bcffabb"
  },
  {
   "cell_type": "code",
   "outputs": [],
   "source": [
    "normalize(part6, 100, 'health_expenditure_usd', xlabel='country_name')"
   ],
   "metadata": {
    "collapsed": false
   },
   "id": "c61c64ef6d84fc82",
   "execution_count": null
  },
  {
   "cell_type": "markdown",
   "source": [
    "### 4.4 liczba zachorowań kobiet na 1000 osób,"
   ],
   "metadata": {
    "collapsed": false
   },
   "id": "ce32eceea3d276d3"
  },
  {
   "cell_type": "code",
   "outputs": [],
   "source": [
    "normalize(part6, 1000, 'daily_confirmed_female')"
   ],
   "metadata": {
    "collapsed": false
   },
   "id": "f77bc40a2f33d4bd",
   "execution_count": null
  },
  {
   "cell_type": "markdown",
   "source": [
    "### 4.4 liczba zachorowań mężczyzn na 1000 osób,"
   ],
   "metadata": {
    "collapsed": false
   },
   "id": "f7d63c2953da4d6c"
  },
  {
   "cell_type": "code",
   "outputs": [],
   "source": [
    "normalize(part6, 1000, 'daily_confirmed_male')"
   ],
   "metadata": {
    "collapsed": false
   },
   "id": "34bcb29b12c7a259",
   "execution_count": null
  },
  {
   "cell_type": "markdown",
   "source": [
    "### 4.4 liczba zgonów kobiet na 100 osób,"
   ],
   "metadata": {
    "collapsed": false
   },
   "id": "ce483a2fd6e9261a"
  },
  {
   "cell_type": "code",
   "outputs": [],
   "source": [
    "normalize(part6, 100, 'daily_deceased_female')"
   ],
   "metadata": {
    "collapsed": false
   },
   "id": "1e33f007af7c0fcf",
   "execution_count": null
  },
  {
   "cell_type": "markdown",
   "source": [
    "### 4.4 liczba zgonów mężczyzn na 100 osób,"
   ],
   "metadata": {
    "collapsed": false
   },
   "id": "6de9ae4f13a3277e"
  },
  {
   "cell_type": "code",
   "outputs": [],
   "source": [
    "normalize(part6, 100, 'daily_deceased_male')"
   ],
   "metadata": {
    "collapsed": false
   },
   "id": "2e18548e92c46dea",
   "execution_count": null
  },
  {
   "cell_type": "markdown",
   "source": [
    "## <center>Część 5</center>\n",
    "### Stwórz macierze korelacji, które przedstawią współczynniki korelacji dla każdej pary zmiennych:"
   ],
   "metadata": {
    "collapsed": false
   },
   "id": "da1d2b861a0e3b3e"
  },
  {
   "cell_type": "markdown",
   "source": [
    "### 5.1. liczba nowych zachorowań, szczepień i zgonów, a liczba nowych zachorowań, szczepień i zgonów (6 istotnych kombinacji),"
   ],
   "metadata": {
    "collapsed": false
   },
   "id": "ab9c36cf9357f9f0"
  },
  {
   "cell_type": "code",
   "outputs": [],
   "source": [
    "primary_cols = ['daily_confirmed', 'daily_deceased', 'daily_persons_vaccinated']\n",
    "sns.heatmap(part6[primary_cols].corr(numeric_only=True), annot=True, fmt='.2f', cmap='viridis')"
   ],
   "metadata": {
    "collapsed": false
   },
   "id": "858b64b78a8caf98",
   "execution_count": null
  },
  {
   "cell_type": "markdown",
   "source": [
    "### 5.2. liczba nowych zachorowań, szczepień, zgonów, a łączna liczba zachorowań, szczepień, zgonów (9 istotnych kombinacji),"
   ],
   "metadata": {
    "collapsed": false
   },
   "id": "e313405373193855"
  },
  {
   "cell_type": "markdown",
   "source": [
    "### 5.3. wskaźniki gospodarcze, a liczba nowych zachorowań, szczepień i zgonów (co najmniej 3 istotne kombinacje),"
   ],
   "metadata": {
    "collapsed": false
   },
   "id": "f07794f867608004"
  },
  {
   "cell_type": "code",
   "outputs": [],
   "source": [
    "cols = ['country_name', 'gdp_per_capita_usd', 'gdp_usd', 'health_expenditure_usd'] + primary_cols\n",
    "sns.heatmap(part6[cols].corr(numeric_only=True), annot=True, fmt='.2f', cmap='viridis')"
   ],
   "metadata": {
    "collapsed": false
   },
   "id": "c9138cde191d3cab",
   "execution_count": null
  },
  {
   "cell_type": "markdown",
   "source": [
    "### 5.4. parametry demograficzne, a liczba nowych zachorowań, szczepień i zgonów (co najmniej 3 istotne kombinacje),"
   ],
   "metadata": {
    "collapsed": false
   },
   "id": "5079d4f0541365d6"
  },
  {
   "cell_type": "code",
   "outputs": [],
   "source": [
    "cols = ['country_name', 'population', 'population_male', 'population_female', 'life_expectancy'] + primary_cols\n",
    "sns.heatmap(part6[cols].corr(numeric_only=True), annot=True, fmt='.2f', cmap='viridis')"
   ],
   "metadata": {
    "collapsed": false
   },
   "id": "c600fd05486bcee8",
   "execution_count": null
  },
  {
   "cell_type": "markdown",
   "source": [
    "### 5.5 zamknięcie szkół, a liczba nowych zachorowań, śmierci i szczepień w <i>szkolnych</i> grupach wiekowych"
   ],
   "metadata": {
    "collapsed": false
   },
   "id": "dddaa99983f59bd2"
  },
  {
   "cell_type": "code",
   "outputs": [],
   "source": [
    "cols = ['school_closing', 'age_confirmed_0', 'age_confirmed_1', 'age_deceased_1', 'age_deceased_2']\n",
    "sns.heatmap(part6[cols].corr(numeric_only=True), annot=True, fmt='.2f', cmap='viridis')"
   ],
   "metadata": {
    "collapsed": false
   },
   "id": "9b8a07c207228d2f",
   "execution_count": null
  },
  {
   "cell_type": "markdown",
   "source": [
    "### 5.5 zachorowania i śmierci mężczyzn, a zachorowania i śmierci kobiet"
   ],
   "metadata": {
    "collapsed": false
   },
   "id": "324be817a6e8f629"
  },
  {
   "cell_type": "code",
   "outputs": [],
   "source": [
    "cols = ['daily_confirmed_male', 'daily_confirmed_female', 'daily_deceased_male', 'daily_deceased_female']\n",
    "sns.heatmap(part6[cols].corr(), annot=True, fmt='.2f', cmap='viridis')"
   ],
   "metadata": {
    "collapsed": false
   },
   "id": "29d54047e8b55786",
   "execution_count": null
  },
  {
   "cell_type": "markdown",
   "source": [
    "### 5.5 położenie kraju, a jego populacja i przewidywana długość życia"
   ],
   "metadata": {
    "collapsed": false
   },
   "id": "573a462a062887f2"
  },
  {
   "cell_type": "code",
   "outputs": [],
   "source": [
    "cols = ['latitude', 'longitude', 'population', 'life_expectancy']\n",
    "sns.heatmap(part6[cols].corr(), annot=True, fmt='.2f', cmap='viridis')"
   ],
   "metadata": {
    "collapsed": false
   },
   "id": "5daeafc0b000ffa8",
   "execution_count": null
  },
  {
   "cell_type": "markdown",
   "source": [
    "### 5.5 położenie kraju, a jego parametry gospodarcze"
   ],
   "metadata": {
    "collapsed": false
   },
   "id": "30822b0e3c12f82d"
  },
  {
   "cell_type": "code",
   "outputs": [],
   "source": [
    "cols = ['latitude', 'longitude', 'gdp_usd', 'gdp_per_capita_usd', 'health_expenditure_usd']\n",
    "sns.heatmap(part6[cols].corr(), annot=True, fmt='.2f', cmap='viridis')"
   ],
   "metadata": {
    "collapsed": false
   },
   "id": "7c5e36772bbf837d",
   "execution_count": null
  }
 ],
 "metadata": {
  "kernelspec": {
   "display_name": "Python 3",
   "language": "python",
   "name": "python3"
  },
  "language_info": {
   "codemirror_mode": {
    "name": "ipython",
    "version": 2
   },
   "file_extension": ".py",
   "mimetype": "text/x-python",
   "name": "python",
   "nbconvert_exporter": "python",
   "pygments_lexer": "ipython2",
   "version": "2.7.6"
  }
 },
 "nbformat": 4,
 "nbformat_minor": 5
}
