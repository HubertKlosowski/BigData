{
 "cells": [
  {
   "cell_type": "markdown",
   "source": [
    "## Zadanie 2\n",
    "### Hubert Kłosowski 242424\n",
    "### Kamil Małecki 242464"
   ],
   "metadata": {
    "collapsed": false
   },
   "id": "19616fbcdbf36118"
  },
  {
   "cell_type": "markdown",
   "source": [
    "### Potrzebne importy"
   ],
   "metadata": {
    "collapsed": false
   },
   "id": "d5c9552b927083eb"
  },
  {
   "cell_type": "code",
   "outputs": [],
   "source": [
    "import pandas as pd\n",
    "import matplotlib.pyplot as plt\n",
    "import seaborn as sns\n",
    "import numpy as np\n",
    "import os"
   ],
   "metadata": {
    "collapsed": false
   },
   "id": "e4db05ae07c71198",
   "execution_count": null
  },
  {
   "cell_type": "markdown",
   "source": [
    "## Wczytanie danych"
   ],
   "metadata": {
    "collapsed": false
   },
   "id": "e6557bd9e2f6e24c"
  },
  {
   "cell_type": "code",
   "outputs": [],
   "source": [
    "def get_data():\n",
    "    os.chdir('..')\n",
    "    os.chdir('Zadanie1\\\\czesc4')\n",
    "    data = [pd.read_csv(filename) for filename in os.listdir()]\n",
    "    os.chdir('..')\n",
    "    os.chdir('..')\n",
    "    os.chdir('Zadanie2')\n",
    "    return data\n",
    "\n",
    "dataframes = get_data()\n",
    "dataframes"
   ],
   "metadata": {
    "collapsed": false
   },
   "id": "3b6063410a2b0cad",
   "execution_count": null
  },
  {
   "cell_type": "markdown",
   "source": [
    "## <center>Część 1</center>\n",
    "### Wykonaj wykresy pudełkowe (ang.box plot), które pozwolą na graficzną identyfikację wartości odstających poprzez przedstawienie kwartyli i wartości skrajnych w danych dotyczących:"
   ],
   "metadata": {
    "collapsed": false
   },
   "id": "a7135f1cd9690e75"
  },
  {
   "cell_type": "markdown",
   "source": [
    "### 1.1 liczby nowych zachorowań"
   ],
   "metadata": {
    "collapsed": false
   },
   "id": "6f5f11c2ca716efc"
  },
  {
   "cell_type": "code",
   "outputs": [],
   "source": [
    "sns.boxplot(data=dataframes[1], y='daily_confirmed', x='date')"
   ],
   "metadata": {
    "collapsed": false
   },
   "id": "31bb631075629cbe",
   "execution_count": null
  },
  {
   "cell_type": "markdown",
   "source": [
    "### 1.2 liczby nowych śmierci"
   ],
   "metadata": {
    "collapsed": false
   },
   "id": "8f639907a8971f7e"
  },
  {
   "cell_type": "code",
   "outputs": [],
   "source": [
    "sns.boxplot(data=dataframes[2], y='daily_deceased', x='date')"
   ],
   "metadata": {
    "collapsed": false
   },
   "id": "18460a6cee8ae452",
   "execution_count": null
  },
  {
   "cell_type": "markdown",
   "source": [
    "### 1.3 liczby nowych szczepień"
   ],
   "metadata": {
    "collapsed": false
   },
   "id": "8fdffd781fb861a2"
  },
  {
   "cell_type": "code",
   "outputs": [],
   "source": [
    "sns.boxplot(data=dataframes[3], y='daily_persons_vaccinated', x='date')"
   ],
   "metadata": {
    "collapsed": false
   },
   "id": "43a98b755fdf6635",
   "execution_count": null
  },
  {
   "cell_type": "markdown",
   "source": [
    "### 1.4 populacji"
   ],
   "metadata": {
    "collapsed": false
   },
   "id": "e84370f33fd4c821"
  },
  {
   "cell_type": "code",
   "outputs": [],
   "source": [],
   "metadata": {
    "collapsed": false
   },
   "id": "c8f81510c12ffacc",
   "execution_count": null
  },
  {
   "cell_type": "markdown",
   "source": [
    "### 1.5 PKB"
   ],
   "metadata": {
    "collapsed": false
   },
   "id": "e91b2ee44cbedd05"
  }
 ],
 "metadata": {
  "kernelspec": {
   "display_name": "Python 3",
   "language": "python",
   "name": "python3"
  },
  "language_info": {
   "codemirror_mode": {
    "name": "ipython",
    "version": 2
   },
   "file_extension": ".py",
   "mimetype": "text/x-python",
   "name": "python",
   "nbconvert_exporter": "python",
   "pygments_lexer": "ipython2",
   "version": "2.7.6"
  }
 },
 "nbformat": 4,
 "nbformat_minor": 5
}
