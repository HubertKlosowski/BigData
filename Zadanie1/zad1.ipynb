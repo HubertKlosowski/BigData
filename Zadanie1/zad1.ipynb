{
 "cells": [
  {
   "cell_type": "markdown",
   "source": [
    "## Pozyskanie danych\n",
    "### Hubert Kłosowski 242424\n",
    "### Kamil Małecki 242464"
   ],
   "metadata": {
    "collapsed": false
   },
   "id": "4be84191a2bb3398"
  },
  {
   "cell_type": "markdown",
   "source": [
    "### Potrzebne pakiety"
   ],
   "metadata": {
    "collapsed": false
   },
   "id": "7891492c174c5284"
  },
  {
   "cell_type": "code",
   "outputs": [],
   "source": [
    "import os\n",
    "import numpy as np\n",
    "import pandas as pd\n",
    "from google.cloud import bigquery\n",
    "import seaborn as sns\n",
    "import matplotlib.pyplot as plt"
   ],
   "metadata": {
    "collapsed": false
   },
   "id": "41aefd8a6c1725d2",
   "execution_count": null
  },
  {
   "cell_type": "markdown",
   "source": [
    "## <center>Część 2</center>\n",
    "### 2.5"
   ],
   "metadata": {
    "collapsed": false
   },
   "id": "6136c56e0148c38d"
  },
  {
   "cell_type": "code",
   "outputs": [],
   "source": [
    "os.environ[\n",
    "    \"GOOGLE_APPLICATION_CREDENTIALS\"] = \"projekt1-415610-f19ebf54e064.json\"  # lokalizacja pobranego klucza z punktu 1.4.\n",
    "client = bigquery.Client()"
   ],
   "metadata": {
    "collapsed": false
   },
   "id": "c69e23e5fd6b5e63",
   "execution_count": null
  },
  {
   "cell_type": "markdown",
   "source": [
    "### Potrzebna funkcja"
   ],
   "metadata": {
    "collapsed": false
   },
   "id": "2fd724677376e4c"
  },
  {
   "cell_type": "code",
   "outputs": [],
   "source": [
    "def return_df(q):\n",
    "    query_job = client.query(q)\n",
    "    query_result = query_job.result()\n",
    "    return query_result.to_dataframe()"
   ],
   "metadata": {
    "collapsed": false
   },
   "id": "2a844e1fb8b8009",
   "execution_count": null
  },
  {
   "cell_type": "markdown",
   "source": [
    "### 2.6"
   ],
   "metadata": {
    "collapsed": false
   },
   "id": "3fc7e381a8997a6d"
  },
  {
   "cell_type": "code",
   "outputs": [],
   "source": [
    "query = 'select * from `bigquery-public-data.covid19_open_data.covid19_open_data` limit 10'\n",
    "df = return_df(query)"
   ],
   "metadata": {
    "collapsed": true
   },
   "id": "initial_id",
   "execution_count": null
  },
  {
   "cell_type": "markdown",
   "source": [
    "### Informacje o zbiorze"
   ],
   "metadata": {
    "collapsed": false
   },
   "id": "12c7ea208ef87430"
  },
  {
   "cell_type": "code",
   "outputs": [],
   "source": [
    "df.info()"
   ],
   "metadata": {
    "collapsed": false
   },
   "id": "4cee2e3fa4b702ec",
   "execution_count": null
  },
  {
   "cell_type": "markdown",
   "source": [
    "## <center>Część 4</center>"
   ],
   "metadata": {
    "collapsed": false
   },
   "id": "b9534cc0dd01295b"
  },
  {
   "cell_type": "code",
   "outputs": [],
   "source": [
    "# count_to_del = pd.DataFrame(list(zip([df[el].notna().sum() for el in df.columns], df.columns)), columns=['count', 'names'])\n",
    "# stats = count_to_del['count'].describe().drop(['count', 'min', 'max'])\n",
    "# stats"
   ],
   "metadata": {
    "collapsed": false
   },
   "id": "3a3eefc17cda4443",
   "execution_count": null
  },
  {
   "cell_type": "markdown",
   "source": [
    "### Od ilu pustych wierszy usunąć kolumnę?"
   ],
   "metadata": {
    "collapsed": false
   },
   "id": "509cfba157108145"
  },
  {
   "cell_type": "code",
   "outputs": [],
   "source": [
    "# colors = ['red', 'green', 'pink', 'yellow', 'orange']\n",
    "# fig, ax = plt.subplots(nrows=1, ncols=2, figsize=(20, 10))\n",
    "# count_to_del['count'].plot(kind='line', color='blue', ax=ax[0])\n",
    "# for i, el in enumerate(stats.index):\n",
    "#     ax[0].axhline(stats.iloc[i], color=colors[i], linestyle='solid', label=el)\n",
    "# ax[0].legend(loc='upper center')\n",
    "# count_to_del['count'].plot(kind='box', ax=ax[1])"
   ],
   "metadata": {
    "collapsed": false
   },
   "id": "c4b859b828d2f640",
   "execution_count": null
  },
  {
   "cell_type": "markdown",
   "source": [
    "### Usunięcie kolumn zawierających za dużo wartości NaN"
   ],
   "metadata": {
    "collapsed": false
   },
   "id": "e17af93223231c1a"
  },
  {
   "cell_type": "code",
   "outputs": [],
   "source": [
    "# count_to_del = count_to_del[count_to_del['count'] > 2 * count_to_del['count'].std()]\n",
    "# df = df[count_to_del['names']]"
   ],
   "metadata": {
    "collapsed": false
   },
   "id": "b840afdd33775493",
   "execution_count": null
  },
  {
   "cell_type": "markdown",
   "source": [
    "### Usunięcie wierszy zawierających wartości NaN"
   ],
   "metadata": {
    "collapsed": false
   },
   "id": "858b93a7d548ccce"
  },
  {
   "cell_type": "code",
   "outputs": [],
   "source": [
    "# df.dropna(inplace=True)\n",
    "# df.drop(['place_id', 'wikidata_id', 'datacommons_id', 'country_code', 'iso_3166_1_alpha_2', 'new_hospitalized_patients_age_3', 'new_hospitalized_patients_male'], axis=1, inplace=True)"
   ],
   "metadata": {
    "collapsed": false
   },
   "id": "4ebec3439dba5cbe",
   "execution_count": null
  },
  {
   "cell_type": "markdown",
   "source": [
    "### Usunięcie duplikatów"
   ],
   "metadata": {
    "collapsed": false
   },
   "id": "1e8abbd4894e38e8"
  },
  {
   "cell_type": "code",
   "outputs": [],
   "source": [
    "# df.drop_duplicates(inplace=True, ignore_index=True)"
   ],
   "metadata": {
    "collapsed": false
   },
   "id": "b1d33ed59d3647eb",
   "execution_count": null
  },
  {
   "cell_type": "markdown",
   "source": [
    "### Czyszczenie danych"
   ],
   "metadata": {
    "collapsed": false
   },
   "id": "836c6398e071da6"
  },
  {
   "cell_type": "code",
   "outputs": [],
   "source": [
    "# count_to_del"
   ],
   "metadata": {
    "collapsed": false
   },
   "id": "8845c2f6d3cf47ea",
   "execution_count": null
  },
  {
   "cell_type": "markdown",
   "source": [
    "### Gotowe dane"
   ],
   "metadata": {
    "collapsed": false
   },
   "id": "8f43d3a92e4d0d4e"
  },
  {
   "cell_type": "code",
   "outputs": [],
   "source": [
    "df.info()"
   ],
   "metadata": {
    "collapsed": false
   },
   "id": "c84943054e6c27b4",
   "execution_count": null
  },
  {
   "cell_type": "code",
   "outputs": [],
   "source": [
    "df.head()"
   ],
   "metadata": {
    "collapsed": false
   },
   "id": "968401bf63672526",
   "execution_count": null
  },
  {
   "cell_type": "markdown",
   "source": [
    "### 4.1 Chcemy posiadać podstawowe dane o wszystkich krajach świata, które będą zrozumiałe dla człowieka oraz uniwersalne i potencjalnie przyszłościowe do dalszego przetwarzania."
   ],
   "metadata": {
    "collapsed": false
   },
   "id": "38145fd5a6b5c02a"
  },
  {
   "cell_type": "code",
   "outputs": [],
   "source": [
    "query_4_1 = 'SELECT DISTINCT country_name, population, population_male, population_female, gdp_usd, gdp_per_capita_usd, latitude, longitude, area_sq_km, infant_mortality_rate, health_expenditure_usd, human_capital_index, life_expectancy FROM `bigquery-public-data.covid19_open_data.covid19_open_data` WHERE aggregation_level = 0 ORDER BY country_name'\n",
    "\n",
    "df_4_1 = return_df(query_4_1)"
   ],
   "metadata": {
    "collapsed": false
   },
   "id": "b8685727b4b66bbc",
   "execution_count": null
  },
  {
   "cell_type": "code",
   "outputs": [],
   "source": [
    "df_4_1.info()"
   ],
   "metadata": {
    "collapsed": false
   },
   "id": "713d52860279e407",
   "execution_count": null
  },
  {
   "cell_type": "markdown",
   "source": [
    "### Uzupełnienie brakujących danych o kraju na podstawie jego <i>sąsiadów</i>"
   ],
   "metadata": {
    "collapsed": false
   },
   "id": "ba4c834d6e453e1c"
  },
  {
   "cell_type": "code",
   "outputs": [],
   "source": [
    "from haversine import haversine\n",
    "\n",
    "def save_to_csv(dataframe, filename):\n",
    "    if 'czesc4' not in os.listdir(os.getcwd()):\n",
    "        os.mkdir('czesc4')\n",
    "    os.chdir('czesc4')\n",
    "    dataframe.to_csv(filename + '.csv') # Zapis do csv\n",
    "    os.chdir('..')\n",
    "    \n",
    "def fill_based_on_neigh(index, num=15):\n",
    "    data = df_4_1.loc[index].copy()\n",
    "    df_4_1['distance'] = df_4_1.apply(lambda x: haversine((data['latitude'], data['longitude']), (x['latitude'], x['longitude'])), axis=1)\n",
    "    neigh = df_4_1.sort_values(by=['distance'])\n",
    "    neigh = neigh.iloc[0:num]\n",
    "    cols = df_4_1.columns.difference(['latitude', 'longitude', 'country_name', 'population', 'population_male', 'population_female', 'distance'])\n",
    "    for col in cols:\n",
    "        df_4_1.loc[index, col] = neigh[col].mean()\n",
    "\n",
    "def fill_4_1():\n",
    "    df_4_1['distance'] = 0.0\n",
    "    to_float_cols = df_4_1.columns.difference(['population', 'population_male', 'population_female', 'latitude', 'longitude', 'country_name'])\n",
    "    for tfc in to_float_cols:\n",
    "         df_4_1[tfc] = df_4_1[tfc].astype(np.float64)\n",
    "    df_4_1['population'].fillna(df_4_1['population_male'] + df_4_1['population_female'], inplace=True)\n",
    "    df_4_1['population_male'].fillna(df_4_1['population'] // 2, inplace = True)\n",
    "    df_4_1['population_female'].fillna(df_4_1['population'] // 2, inplace = True)\n",
    "    # df_4_1['gdp_per_capita_usd'].fillna(df_4_1['gdp_usd'] / df_4_1['gdp_per_capita_usd'], inplace=True)\n",
    "    # df_4_1.dropna(subset=['latitude', 'longitude'], inplace=True)\n",
    "    for index, row in df_4_1.iterrows():\n",
    "        if df_4_1.loc[index].isna().sum() > 0:\n",
    "            fill_based_on_neigh(index=index)\n",
    "    df_4_1.drop('distance', axis=1, inplace=True)\n",
    "    rest_nans = df_4_1.columns[df_4_1.isna().any()]\n",
    "    for rn in rest_nans:\n",
    "        df_4_1[rn].fillna(df_4_1[rn].mode()[0], inplace=True)\n",
    "\n",
    "fill_4_1()\n",
    "save_to_csv(df_4_1, 'df_4_1')"
   ],
   "metadata": {
    "collapsed": false
   },
   "id": "8358906d6d6bdbaf",
   "execution_count": null
  },
  {
   "cell_type": "markdown",
   "source": [
    "### Informacje o krajach"
   ],
   "metadata": {
    "collapsed": false
   },
   "id": "d88c8a5811d6468e"
  },
  {
   "cell_type": "code",
   "outputs": [],
   "source": [
    "df_4_1.info()"
   ],
   "metadata": {
    "collapsed": false
   },
   "id": "ae33eebe55b92ba5",
   "execution_count": null
  },
  {
   "cell_type": "code",
   "outputs": [],
   "source": [
    "df_4_1.head()"
   ],
   "metadata": {
    "collapsed": false
   },
   "id": "315539a89e0983ec",
   "execution_count": null
  },
  {
   "cell_type": "markdown",
   "source": [
    "### 4.2 Chcemy wygenerować statystyki dotyczące zachorowań na COVID-19 na całym świecie."
   ],
   "metadata": {
    "collapsed": false
   },
   "id": "4b4a0f5c1c7f59c5"
  },
  {
   "cell_type": "code",
   "outputs": [],
   "source": [
    "query_4_2 = 'SELECT country_name, date, SUM(new_confirmed) AS total_confirmed, SUM(new_confirmed_male) AS total_confirmed_male, SUM(new_confirmed_female) AS total_confirmed_female FROM `bigquery-public-data.covid19_open_data.covid19_open_data` GROUP BY country_name, date ORDER BY country_name, date'\n",
    "\n",
    "df_4_2 = return_df(query_4_2)"
   ],
   "metadata": {
    "collapsed": false
   },
   "id": "d8b347ef1cfc7b83",
   "execution_count": null
  },
  {
   "cell_type": "code",
   "outputs": [],
   "source": [
    "df_4_2.info()"
   ],
   "metadata": {
    "collapsed": false
   },
   "id": "fe29d4c748ae1aae",
   "execution_count": null
  },
  {
   "cell_type": "markdown",
   "source": [
    "### Uzupełnienie danych dotyczących zachorowań na COVID-19"
   ],
   "metadata": {
    "collapsed": false
   },
   "id": "d49543abdb015de6"
  },
  {
   "cell_type": "code",
   "outputs": [],
   "source": [
    "def fill_4_2():\n",
    "    for col in df_4_2.select_dtypes(exclude=['object', 'dbdate']).columns:\n",
    "        df_4_2[col].clip(lower=0, inplace=True)\n",
    "    df_4_2.fillna({'total_confirmed': df_4_2.groupby(['date'])['total_confirmed'].transform('median').fillna(0).astype(np.int64)}, inplace=True)\n",
    "    mask = df_4_2['total_confirmed_male'].isna() & df_4_2['total_confirmed_female'].isna() & df_4_2['total_confirmed'].notna()\n",
    "    rand = np.random.randint(1, 10, size=len(mask))\n",
    "    df_4_2.loc[mask, 'total_confirmed_male'] = df_4_2['total_confirmed'] // rand\n",
    "    df_4_2.loc[mask, 'total_confirmed_female'] = df_4_2['total_confirmed'] - df_4_2['total_confirmed_male']\n",
    "\n",
    "fill_4_2()\n",
    "# save_to_csv(df_4_2, 'df_4_2')"
   ],
   "metadata": {
    "collapsed": false
   },
   "id": "e1076b5efda5df2",
   "execution_count": null
  },
  {
   "cell_type": "markdown",
   "source": [
    "### Dzienne statystyki zachorowań na COVID-19 dla każdego kraju"
   ],
   "metadata": {
    "collapsed": false
   },
   "id": "5e269b10d28a7d12"
  },
  {
   "cell_type": "code",
   "outputs": [],
   "source": [
    "df_4_2.info()"
   ],
   "metadata": {
    "collapsed": false
   },
   "id": "44326e312c151a89",
   "execution_count": null
  },
  {
   "cell_type": "code",
   "outputs": [],
   "source": [
    "df_4_2.head(1000)"
   ],
   "metadata": {
    "collapsed": false
   },
   "id": "80a3a923c9a00b23",
   "execution_count": null
  },
  {
   "cell_type": "markdown",
   "source": [
    "### 4.3 Chcemy poznać efekty COVID-19 poprzez uwypuklenie problemu śmiertelności ludzi spowodowanej wirusem."
   ],
   "metadata": {
    "collapsed": false
   },
   "id": "d70135e0fdb09916"
  },
  {
   "cell_type": "code",
   "outputs": [],
   "source": [
    "# query_4_3 = 'SELECT country_name, date, SUM(new_deceased) AS daily_deceased, SUM(new_deceased_male) AS daily_deceased_male, SUM(new_deceased_female) AS daily_deceased_female FROM `bigquery-public-data.covid19_open_data.covid19_open_data` GROUP BY country_name, date ORDER BY country_name, date'\n",
    "# \n",
    "# df_4_3 = return_df(query_4_3)"
   ],
   "metadata": {
    "collapsed": false
   },
   "id": "cb9484f30d322977",
   "execution_count": null
  },
  {
   "cell_type": "code",
   "outputs": [],
   "source": [
    "# df_4_3.info()"
   ],
   "metadata": {
    "collapsed": false
   },
   "id": "55d8b287eba1d32e",
   "execution_count": null
  },
  {
   "cell_type": "markdown",
   "source": [
    "### Uzupełnienie danych dotyczących śmiertelności COVID-19"
   ],
   "metadata": {
    "collapsed": false
   },
   "id": "f11aeb721cf34d3a"
  },
  {
   "cell_type": "markdown",
   "source": [
    "### 4.4. Chcemy zaobserwować trendy i zależności dotyczące szczepień na COVID-19."
   ],
   "metadata": {
    "collapsed": false
   },
   "id": "d3e2cd449f8ea162"
  },
  {
   "cell_type": "markdown",
   "source": [
    "### 4.5. Zdefiniuj własny dodatkowy przypadek."
   ],
   "metadata": {
    "collapsed": false
   },
   "id": "17c9d0c21cfea694"
  }
 ],
 "metadata": {
  "kernelspec": {
   "display_name": "Python 3",
   "language": "python",
   "name": "python3"
  },
  "language_info": {
   "codemirror_mode": {
    "name": "ipython",
    "version": 2
   },
   "file_extension": ".py",
   "mimetype": "text/x-python",
   "name": "python",
   "nbconvert_exporter": "python",
   "pygments_lexer": "ipython2",
   "version": "2.7.6"
  }
 },
 "nbformat": 4,
 "nbformat_minor": 5
}
