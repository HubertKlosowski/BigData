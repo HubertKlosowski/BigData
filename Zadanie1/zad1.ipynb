{
 "cells": [
  {
   "cell_type": "markdown",
   "source": [
    "## Pozyskanie danych\n",
    "### Hubert Kłosowski 242424\n",
    "### Kamil Małecki 242464"
   ],
   "metadata": {
    "collapsed": false
   },
   "id": "4be84191a2bb3398"
  },
  {
   "cell_type": "markdown",
   "source": [
    "### Potrzebne pakiety"
   ],
   "metadata": {
    "collapsed": false
   },
   "id": "7891492c174c5284"
  },
  {
   "cell_type": "code",
   "outputs": [],
   "source": [
    "import os\n",
    "import numpy as np\n",
    "import pandas as pd\n",
    "from google.cloud import bigquery"
   ],
   "metadata": {
    "collapsed": false
   },
   "id": "41aefd8a6c1725d2",
   "execution_count": null
  },
  {
   "cell_type": "markdown",
   "source": [
    "## <center>Część 2</center>\n",
    "### 2.5"
   ],
   "metadata": {
    "collapsed": false
   },
   "id": "6136c56e0148c38d"
  },
  {
   "cell_type": "code",
   "outputs": [],
   "source": [
    "os.environ['GOOGLE_APPLICATION_CREDENTIALS'] = 'projekt1-415610-f19ebf54e064.json'  # lokalizacja pobranego klucza z punktu 1.4.\n",
    "client = bigquery.Client()"
   ],
   "metadata": {
    "collapsed": false
   },
   "id": "c69e23e5fd6b5e63",
   "execution_count": null
  },
  {
   "cell_type": "markdown",
   "source": [
    "### Potrzebna funkcja"
   ],
   "metadata": {
    "collapsed": false
   },
   "id": "2fd724677376e4c"
  },
  {
   "cell_type": "code",
   "outputs": [],
   "source": [
    "def return_df(q):\n",
    "    query_job = client.query(q)\n",
    "    query_result = query_job.result()\n",
    "    return query_result.to_dataframe()"
   ],
   "metadata": {
    "collapsed": false
   },
   "id": "2a844e1fb8b8009",
   "execution_count": null
  },
  {
   "cell_type": "markdown",
   "source": [
    "### 2.6"
   ],
   "metadata": {
    "collapsed": false
   },
   "id": "3fc7e381a8997a6d"
  },
  {
   "cell_type": "code",
   "outputs": [],
   "source": [
    "query = 'select * from `bigquery-public-data.covid19_open_data.covid19_open_data` limit 10'\n",
    "df = return_df(query)"
   ],
   "metadata": {
    "collapsed": true
   },
   "id": "initial_id",
   "execution_count": null
  },
  {
   "cell_type": "markdown",
   "source": [
    "### Informacje o zbiorze"
   ],
   "metadata": {
    "collapsed": false
   },
   "id": "12c7ea208ef87430"
  },
  {
   "cell_type": "code",
   "outputs": [],
   "source": [
    "df.info()"
   ],
   "metadata": {
    "collapsed": false
   },
   "id": "4cee2e3fa4b702ec",
   "execution_count": null
  },
  {
   "cell_type": "markdown",
   "source": [
    "## <center>Część 3</center>"
   ],
   "metadata": {
    "collapsed": false
   },
   "id": "dbcc23c750e876b9"
  },
  {
   "cell_type": "markdown",
   "source": [
    "### 3.1. Sprawdź, ile jest zapisanych wierszy z danymi."
   ],
   "metadata": {
    "collapsed": false
   },
   "id": "feb7de4a0a0e2f18"
  },
  {
   "cell_type": "code",
   "outputs": [],
   "source": [
    "df_3_1 = return_df('SELECT COUNT(*) FROM `bigquery-public-data.covid19_open_data.covid19_open_data`')\n",
    "df_3_1"
   ],
   "metadata": {
    "collapsed": false
   },
   "id": "de751b3f1cf0bfe7",
   "execution_count": null
  },
  {
   "cell_type": "markdown",
   "source": [
    "### 3.2. Sprawdź, ile krajów jest uwzględnionych w danych."
   ],
   "metadata": {
    "collapsed": false
   },
   "id": "bfa47635f77ddbcd"
  },
  {
   "cell_type": "code",
   "outputs": [],
   "source": [
    "df_3_2 = return_df('SELECT COUNT(DISTINCT country_name) FROM `bigquery-public-data.covid19_open_data.covid19_open_data`')\n",
    "df_3_2"
   ],
   "metadata": {
    "collapsed": false
   },
   "id": "333dfe9990220ba5",
   "execution_count": null
  },
  {
   "cell_type": "markdown",
   "source": [
    "### 3.3. Sprawdź, w jaki sposób zapisywane są dzienne informacje dla krajów."
   ],
   "metadata": {
    "collapsed": false
   },
   "id": "828628716a64392e"
  },
  {
   "cell_type": "code",
   "outputs": [],
   "source": [
    "df_3_3 = return_df('SELECT column_name, data_type FROM `bigquery-public-data`.covid19_open_data.INFORMATION_SCHEMA.COLUMNS WHERE table_name = \\'covid19_open_data\\' AND column_name LIKE \\'%new_%\\'')\n",
    "df_3_3"
   ],
   "metadata": {
    "collapsed": false
   },
   "id": "77102e6c0f41ad4e",
   "execution_count": null
  },
  {
   "cell_type": "markdown",
   "source": [
    "### 3.4. Sprawdź, w jaki sposób zapisywane są wartości liczbowe."
   ],
   "metadata": {
    "collapsed": false
   },
   "id": "d75a504efa490d26"
  },
  {
   "cell_type": "code",
   "outputs": [],
   "source": [
    "df_3_4 = return_df('SELECT column_name, data_type FROM `bigquery-public-data`.covid19_open_data.INFORMATION_SCHEMA.COLUMNS WHERE table_name = \\'covid19_open_data\\' AND data_type = \\'INT64\\' OR data_type = \\'FLOAT64\\''\n",
    ")\n",
    "df_3_4"
   ],
   "metadata": {
    "collapsed": false
   },
   "id": "453599b9fd9f0d49",
   "execution_count": null
  },
  {
   "cell_type": "markdown",
   "source": [
    "### 3.5. Sprawdź, jaki przedział czasowy jest uwzględniony w danych. Dodatkowo porównaj przedziały czasowe dla przypadków nowych zachorowań, nowych śmierci oraz nowych zaszczepionych osób w danych."
   ],
   "metadata": {
    "collapsed": false
   },
   "id": "9b95b81b56623926"
  },
  {
   "cell_type": "code",
   "outputs": [],
   "source": [
    "queries_3_5 = [\n",
    "    'SELECT MIN(date) AS min_date, MAX(date) AS max_date FROM `bigquery-public-data.covid19_open_data.covid19_open_data`',\n",
    "    'SELECT MIN(date) AS min_date_confirmed, MAX(date) AS max_date_confirmed FROM `bigquery-public-data.covid19_open_data.covid19_open_data` WHERE new_confirmed IS NOT NULL',\n",
    "    'SELECT MIN(date) AS min_date_deceased, MAX(date) AS max_date_deceased FROM `bigquery-public-data.covid19_open_data.covid19_open_data` WHERE new_deceased IS NOT NULL',\n",
    "    'SELECT MIN(date) AS min_date_vaccinated, MAX(date) AS max_date_vaccinated FROM `bigquery-public-data.covid19_open_data.covid19_open_data` WHERE new_persons_vaccinated IS NOT NULL'\n",
    "]\n",
    "\n",
    "df_3_5 = pd.DataFrame()\n",
    "\n",
    "for query in queries_3_5:\n",
    "    df_3_5 = pd.concat([df_3_5, return_df(query)], axis=1)\n",
    "df_3_5"
   ],
   "metadata": {
    "collapsed": false
   },
   "id": "424817ba6d4be84f",
   "execution_count": null
  },
  {
   "cell_type": "markdown",
   "source": [
    "### 3.6. Sprawdź więcej informacji (co najmniej 5 różnych) o danych dotyczących COVID-19. W tym celu nie wykonuj żadnych dodatkowych obliczeń."
   ],
   "metadata": {
    "collapsed": false
   },
   "id": "71643ad88fd0ba7f"
  },
  {
   "cell_type": "code",
   "outputs": [],
   "source": [
    "queries_3_6 = [\n",
    "    'SELECT country_name, infant_mortality_rate, adult_male_mortality_rate, adult_female_mortality_rate, ROUND(nurses_per_1000 + physicians_per_1000, 2) AS medical_personnel FROM `bigquery-public-data.covid19_open_data.covid19_open_data` WHERE aggregation_level = 0 AND adult_male_mortality_rate IS NOT NULL AND adult_female_mortality_rate IS NOT NULL GROUP BY country_name, infant_mortality_rate, adult_male_mortality_rate, adult_female_mortality_rate, gdp_usd, nurses_per_1000, physicians_per_1000 ORDER BY gdp_usd DESC LIMIT 10',\n",
    "    'SELECT subregion1_name, date, testing_policy FROM `bigquery-public-data.covid19_open_data.covid19_open_data` WHERE aggregation_level = 1 AND country_name=\\'Canada\\' GROUP BY subregion1_name, date, testing_policy ORDER BY subregion1_name, date',\n",
    "    'SELECT subregion2_name, date, CAST(new_tested AS int64) AS new_tested, new_confirmed FROM `bigquery-public-data.covid19_open_data.covid19_open_data` WHERE aggregation_level = 2 AND subregion1_name=\\'Łódź\\' GROUP BY subregion2_name, date, new_tested, new_confirmed ORDER BY subregion2_name, date',\n",
    "    'SELECT date, facial_coverings FROM `bigquery-public-data.covid19_open_data.covid19_open_data` WHERE country_name=\\'Germany\\' AND aggregation_level = 0 GROUP BY date, facial_coverings ORDER BY date',\n",
    "    'SELECT date, workplace_closing, income_support, CAST(mobility_workplaces AS int64) AS mobility_workplaces FROM `bigquery-public-data.covid19_open_data.covid19_open_data` WHERE aggregation_level = 0 AND country_name=\\'United States of America\\' GROUP BY date, workplace_closing, income_support, mobility_workplaces ORDER BY date'\n",
    "]\n",
    "\n",
    "for query in queries_3_6:\n",
    "    df_3_6 = return_df(query)\n",
    "    display(df_3_6.head())"
   ],
   "metadata": {
    "collapsed": false
   },
   "id": "ff16365fe0f0cf75",
   "execution_count": null
  },
  {
   "cell_type": "markdown",
   "source": [
    "## <center>Część 4</center>"
   ],
   "metadata": {
    "collapsed": false
   },
   "id": "b9534cc0dd01295b"
  },
  {
   "cell_type": "markdown",
   "source": [
    "### 4.1 Chcemy posiadać podstawowe dane o wszystkich krajach świata, które będą zrozumiałe dla człowieka oraz uniwersalne i potencjalnie przyszłościowe do dalszego przetwarzania."
   ],
   "metadata": {
    "collapsed": false
   },
   "id": "38145fd5a6b5c02a"
  },
  {
   "cell_type": "code",
   "outputs": [],
   "source": [
    "df_4 = [return_df('SELECT iso_3166_1_alpha_3 AS CCA3, country_name, population, population_male, population_female, gdp_usd, gdp_per_capita_usd, latitude, longitude, health_expenditure_usd, life_expectancy, population_age_00_09 AS age_bin_0, population_age_10_19 AS age_bin_1, population_age_20_29 AS age_bin_2, population_age_30_39 AS age_bin_3, population_age_40_49 AS age_bin_4, population_age_50_59 AS age_bin_5, population_age_60_69 AS age_bin_6, population_age_70_79 AS age_bin_7, population_age_80_and_older AS age_bin_8 FROM `bigquery-public-data.covid19_open_data.covid19_open_data` WHERE aggregation_level = 0 AND place_id IS NOT NULL AND gdp_usd IS NOT NULL GROUP BY iso_3166_1_alpha_3, country_name, population, population_male, population_female, gdp_usd, gdp_per_capita_usd, latitude, longitude, health_expenditure_usd, life_expectancy, population_age_00_09, population_age_10_19, population_age_20_29, population_age_30_39, population_age_40_49, population_age_50_59, population_age_60_69, population_age_70_79, population_age_80_and_older ORDER BY country_name')]\n",
    "\n",
    "df_4[0].head()"
   ],
   "metadata": {
    "collapsed": false
   },
   "id": "b8685727b4b66bbc",
   "execution_count": null
  },
  {
   "cell_type": "markdown",
   "source": [
    "### Uzupełnienie brakujących danych o kraju na podstawie jego <i>sąsiadów</i>"
   ],
   "metadata": {
    "collapsed": false
   },
   "id": "ba4c834d6e453e1c"
  },
  {
   "cell_type": "code",
   "outputs": [],
   "source": [
    "from haversine import haversine\n",
    "\n",
    "def save_to_csv(dataframe, filename):\n",
    "    if 'czesc4' not in os.listdir(os.getcwd()):\n",
    "        os.mkdir('czesc4')\n",
    "    os.chdir('czesc4')\n",
    "    dataframe.to_csv(filename + '.csv', index=False) # Zapis do csv\n",
    "    os.chdir('..')\n",
    "\n",
    "\n",
    "def fill_based_on_neigh(index, columns, num=10):\n",
    "    data = df_4[0].loc[index].copy()\n",
    "    df_4[0]['distance'] = df_4[0].apply(lambda x: haversine((data['latitude'], data['longitude']), (x['latitude'], x['longitude'])), axis=1)\n",
    "    neigh = df_4[0].sort_values(by=['distance'])\n",
    "    neigh = neigh.iloc[0:num]\n",
    "    for col in columns:\n",
    "        if df_4[0][col].dtype == np.float64:\n",
    "            df_4[0].loc[index, col] = neigh[col].mean()\n",
    "        else:\n",
    "            df_4[0].loc[index, col] = int(neigh[col].mean())\n",
    "\n",
    "\n",
    "def fill_4_1():\n",
    "    columns = df_4[0].columns\n",
    "    age_groups = [el for el in columns if 'age_bin_' in el]\n",
    "    leave = ['CCA3', 'population', 'population_male', 'population_female', 'latitude', 'longitude', 'country_name'] + age_groups\n",
    "    \n",
    "    df_4[0].loc[df_4[0]['country_name'] == 'Armenia', ['latitude', 'longitude']] = (40.17720, 44.50349)\n",
    "    \n",
    "    df_4[0]['distance'] = 0.0\n",
    "    to_float_cols = columns.difference(leave)\n",
    "    for tfc in to_float_cols:\n",
    "         df_4[0][tfc] = df_4[0][tfc].astype(np.float64)\n",
    "    \n",
    "    df_4[0]['population'].fillna(df_4[0]['population_male'] + df_4[0]['population_female'], inplace=True)\n",
    "    df_4[0]['population_male'].fillna(df_4[0]['population'] // 2, inplace = True)\n",
    "    df_4[0]['population_female'].fillna(df_4[0]['population'] // 2, inplace = True)\n",
    "    \n",
    "    not_equal = df_4[0]['population'] != df_4[0]['population_male'] + df_4[0]['population_female']\n",
    "    df_4[0]['population'].mask(not_equal, df_4[0]['population_male'] + df_4[0]['population_female'], inplace=True)\n",
    "    \n",
    "    for index, row in df_4[0].iterrows():\n",
    "        if df_4[0].loc[index].isna().sum() > 0:\n",
    "            fill_based_on_neigh(index=index, columns=df_4[0].columns.difference(leave))\n",
    "    \n",
    "    df_4[0].drop('distance', axis=1, inplace=True)\n",
    "    split = [9, 9, 8, 7, 7, 8, 9, 9]\n",
    "    for i in range(len(split)):\n",
    "        df_4[0][age_groups[i]].fillna(df_4[0]['population'] // split[i], inplace=True)\n",
    "    df_4[0]['age_bin_8'].fillna(df_4[0]['population'] - df_4[0][age_groups].sum(axis=1), inplace=True)\n",
    "\n",
    "\n",
    "fill_4_1()\n",
    "save_to_csv(df_4[0], '4_1')\n",
    "\n",
    "df_4[0].info()"
   ],
   "metadata": {
    "collapsed": false
   },
   "id": "8358906d6d6bdbaf",
   "execution_count": null
  },
  {
   "cell_type": "markdown",
   "source": [
    "### Informacje o krajach"
   ],
   "metadata": {
    "collapsed": false
   },
   "id": "d88c8a5811d6468e"
  },
  {
   "cell_type": "code",
   "outputs": [],
   "source": [
    "df_4[0].head()"
   ],
   "metadata": {
    "collapsed": false
   },
   "id": "315539a89e0983ec",
   "execution_count": null
  },
  {
   "cell_type": "markdown",
   "source": [
    "### 4.2 Chcemy wygenerować statystyki dotyczące zachorowań na COVID-19 na całym świecie."
   ],
   "metadata": {
    "collapsed": false
   },
   "id": "4b4a0f5c1c7f59c5"
  },
  {
   "cell_type": "code",
   "outputs": [],
   "source": [
    "df_4.append(return_df('SELECT country_name, date, new_confirmed AS daily_confirmed, new_confirmed_male AS daily_confirmed_male, new_confirmed_female AS daily_confirmed_female, new_confirmed_age_0 AS age_confirmed_0, new_confirmed_age_1 AS age_confirmed_1, new_confirmed_age_2 AS age_confirmed_2, new_confirmed_age_3 AS age_confirmed_3, new_confirmed_age_4 AS age_confirmed_4, new_confirmed_age_5 AS age_confirmed_5, new_confirmed_age_6 AS age_confirmed_6, new_confirmed_age_7 AS age_confirmed_7, new_confirmed_age_8 + new_confirmed_age_9 AS age_confirmed_8 FROM `bigquery-public-data.covid19_open_data.covid19_open_data` WHERE aggregation_level = 0 AND place_id IS NOT NULL AND gdp_usd IS NOT NULL ORDER BY country_name, date'))\n",
    "\n",
    "df_4[1].info()"
   ],
   "metadata": {
    "collapsed": false
   },
   "id": "d8b347ef1cfc7b83",
   "execution_count": null
  },
  {
   "cell_type": "markdown",
   "source": [
    "### Uzupełnienie danych dotyczących zachorowań na COVID-19"
   ],
   "metadata": {
    "collapsed": false
   },
   "id": "d49543abdb015de6"
  },
  {
   "cell_type": "code",
   "outputs": [],
   "source": [
    "def fill_values(dataframe):\n",
    "    columns = dataframe.columns\n",
    "    \n",
    "    dataframe[columns[2]].fillna(0, inplace=True)\n",
    "    \n",
    "    male_and_female_nan = dataframe[columns[3]].isna() & dataframe[columns[4]].isna()\n",
    "    rand = np.random.randint(1, 10, size=len(male_and_female_nan))\n",
    "    dataframe[columns[3]].mask(male_and_female_nan, dataframe[columns[2]] // rand, inplace=True)\n",
    "    dataframe[columns[4]].mask(male_and_female_nan, dataframe[columns[2]] - dataframe[columns[3]], inplace=True)\n",
    "    \n",
    "    only_male_nan = dataframe[columns[3]].isna() & dataframe[columns[4]].notna()\n",
    "    dataframe[columns[3]].mask(only_male_nan, dataframe[columns[2]] - dataframe[columns[4]], inplace=True)\n",
    "    \n",
    "    only_female_nan = dataframe[columns[4]].isna() & dataframe[columns[3]].notna()\n",
    "    dataframe[columns[4]].mask(only_female_nan, dataframe[columns[2]] - dataframe[columns[3]], inplace=True)\n",
    "    \n",
    "    all_is_zero = (dataframe[columns[2]] == 0) & (dataframe[columns[3]] != 0) & (dataframe[columns[4]] != 0)\n",
    "    dataframe[columns[2]].mask(all_is_zero, dataframe[columns[3]] + dataframe[columns[4]], inplace=True)\n",
    "    \n",
    "    # dataframe = most_complete(dataframe)  # można użyć, ale lepiej nie\n",
    "    \n",
    "    ratio = pd.DataFrame({'country_name': df_4[0]['country_name']})\n",
    "    \n",
    "    age_groups_df = [col for col in columns if 'age_' in col]\n",
    "    age_groups = [col for col in df_4[0].columns if 'age_' in col]\n",
    "    \n",
    "    for i in range(len(age_groups_df)):\n",
    "        ratio[age_groups_df[i]] = df_4[0][age_groups[i]] / df_4[0]['population']\n",
    "    dataframe = dataframe.merge(ratio, on='country_name', how='left')\n",
    "    for i in range(len(age_groups_df)):\n",
    "        dataframe[age_groups_df[i] + '_x'].fillna((dataframe[columns[2]] * dataframe[age_groups_df[i] + '_y']).astype(np.int64), inplace=True)\n",
    "    dataframe.drop(columns=[age_group + '_y' for age_group in age_groups_df], axis=1, inplace=True)\n",
    "    dataframe.rename(columns={age_group + '_x': age_group for age_group in age_groups_df}, inplace=True)\n",
    "    \n",
    "    return dataframe\n",
    "\n",
    "\n",
    "def most_complete(dataframe):  # nie interesują nas kraje mających tylko puste rekordy w całym okresie zbierania danych\n",
    "    nans = dataframe[dataframe.isna().any(axis=1)]['country_name'].value_counts()\n",
    "    nans = nans[nans.values == 991].index\n",
    "    return dataframe[~dataframe['country_name'].isin(nans)].reset_index(drop=True)\n",
    "\n",
    "df_4[1] = fill_values(df_4[1])\n",
    "save_to_csv(df_4[1], '4_2')\n",
    "\n",
    "df_4[1].info()"
   ],
   "metadata": {
    "collapsed": false
   },
   "id": "e1076b5efda5df2",
   "execution_count": null
  },
  {
   "cell_type": "markdown",
   "source": [
    "### Miesięczne statystyki zachorowań na COVID-19 dla każdego kraju"
   ],
   "metadata": {
    "collapsed": false
   },
   "id": "5e269b10d28a7d12"
  },
  {
   "cell_type": "code",
   "outputs": [],
   "source": [
    "df_4[1].head()"
   ],
   "metadata": {
    "collapsed": false
   },
   "id": "80a3a923c9a00b23",
   "execution_count": null
  },
  {
   "cell_type": "markdown",
   "source": [
    "### 4.3 Chcemy poznać efekty COVID-19 poprzez uwypuklenie problemu śmiertelności ludzi spowodowanej wirusem."
   ],
   "metadata": {
    "collapsed": false
   },
   "id": "d70135e0fdb09916"
  },
  {
   "cell_type": "code",
   "outputs": [],
   "source": [
    "df_4.append(return_df('SELECT country_name, date, new_deceased AS daily_deceased, new_deceased_male AS daily_deceased_male, new_deceased_female AS daily_deceased_female, new_deceased_age_0 AS age_deceased_0, new_deceased_age_1 AS age_deceased_1, new_deceased_age_2 AS age_deceased_2, new_deceased_age_3 AS age_deceased_3, new_deceased_age_4 AS age_deceased_4, new_deceased_age_5 AS age_deceased_5, new_deceased_age_6 AS age_deceased_6, new_deceased_age_7 AS age_deceased_7, new_deceased_age_8 + new_deceased_age_9 AS age_deceased_8 FROM `bigquery-public-data.covid19_open_data.covid19_open_data` WHERE aggregation_level = 0 AND place_id IS NOT NULL AND gdp_usd IS NOT NULL ORDER BY country_name, date'))\n",
    "\n",
    "df_4[2].info()"
   ],
   "metadata": {
    "collapsed": false
   },
   "id": "cb9484f30d322977",
   "execution_count": null
  },
  {
   "cell_type": "markdown",
   "source": [
    "### Uzupełnienie danych dotyczących śmiertelności COVID-19"
   ],
   "metadata": {
    "collapsed": false
   },
   "id": "f11aeb721cf34d3a"
  },
  {
   "cell_type": "code",
   "outputs": [],
   "source": [
    "df_4[2] = fill_values(df_4[2])\n",
    "save_to_csv(df_4[2], '4_3')\n",
    "\n",
    "df_4[2].info()"
   ],
   "metadata": {
    "collapsed": false
   },
   "id": "7e4622e3d403ec56",
   "execution_count": null
  },
  {
   "cell_type": "markdown",
   "source": [
    "### Miesięczne statystyki śmierci na COVID-19"
   ],
   "metadata": {
    "collapsed": false
   },
   "id": "c0ee8dfb022ebffc"
  },
  {
   "cell_type": "code",
   "outputs": [],
   "source": [
    "df_4[2].head()"
   ],
   "metadata": {
    "collapsed": false
   },
   "id": "a8a845b85e7bf7b8",
   "execution_count": null
  },
  {
   "cell_type": "markdown",
   "source": [
    "### 4.4. Chcemy zaobserwować trendy i zależności dotyczące szczepień na COVID-19."
   ],
   "metadata": {
    "collapsed": false
   },
   "id": "d3e2cd449f8ea162"
  },
  {
   "cell_type": "code",
   "outputs": [],
   "source": [
    "df_4.append(return_df('SELECT country_name, date, new_persons_vaccinated AS daily_persons_vaccinated, new_persons_fully_vaccinated AS daily_persons_fully_vaccinated FROM `bigquery-public-data.covid19_open_data.covid19_open_data` WHERE aggregation_level = 0 AND place_id IS NOT NULL AND gdp_usd IS NOT NULL ORDER BY country_name, date'))\n",
    "\n",
    "df_4[3].info()"
   ],
   "metadata": {
    "collapsed": false
   },
   "id": "2156b6e00c73a62e",
   "execution_count": null
  },
  {
   "cell_type": "markdown",
   "source": [
    "### Uzupełnienie danych dotyczących szczepień"
   ],
   "metadata": {
    "collapsed": false
   },
   "id": "887b19f87a49c66d"
  },
  {
   "cell_type": "code",
   "outputs": [],
   "source": [
    "def fill_4_4(dataframe):\n",
    "    dataframe['daily_persons_vaccinated'].fillna(0, inplace=True)\n",
    "    dataframe['daily_persons_fully_vaccinated'].fillna(0, inplace=True)\n",
    "    return dataframe\n",
    "\n",
    "\n",
    "df_4[3] = fill_4_4(df_4[3])\n",
    "save_to_csv(df_4[3], '4_4')\n",
    "\n",
    "df_4[3].info()"
   ],
   "metadata": {
    "collapsed": false
   },
   "id": "51c6e1647513d4bd",
   "execution_count": null
  },
  {
   "cell_type": "markdown",
   "source": [
    "### Miesięczne statystyki szczepień na COVID-19"
   ],
   "metadata": {
    "collapsed": false
   },
   "id": "b7440e63e6280d3"
  },
  {
   "cell_type": "code",
   "outputs": [],
   "source": [
    "df_4[3].head()"
   ],
   "metadata": {
    "collapsed": false
   },
   "id": "521a0ebf4fae8779",
   "execution_count": null
  },
  {
   "cell_type": "markdown",
   "source": [
    "### 4.5. Chcemy przeprowadzić skuteczność polityk zamykania szkół, a zachorowaniami w grupach wiekowych 0-9 i 10-19"
   ],
   "metadata": {
    "collapsed": false
   },
   "id": "17c9d0c21cfea694"
  },
  {
   "cell_type": "code",
   "outputs": [],
   "source": [
    "df_4.append(return_df('SELECT country_name, date, school_closing, new_confirmed_age_0 AS preschoolers_confirmed, new_confirmed_age_1 AS pupils_confirmed FROM `bigquery-public-data.covid19_open_data.covid19_open_data` WHERE aggregation_level = 0 AND place_id IS NOT NULL AND gdp_usd IS NOT NULL ORDER BY country_name, date, school_closing'))\n",
    "\n",
    "df_4[4].info()"
   ],
   "metadata": {
    "collapsed": false
   },
   "id": "379e6b2bcd1f022b",
   "execution_count": null
  },
  {
   "cell_type": "markdown",
   "source": [
    "### Czyszczenie danych"
   ],
   "metadata": {
    "collapsed": false
   },
   "id": "88bf6ca447e7c9a2"
  },
  {
   "cell_type": "code",
   "outputs": [],
   "source": [
    "def fill_4_5(dataframe):\n",
    "    dataframe['school_closing'].ffill(inplace=True)\n",
    "    dataframe['school_closing'].fillna(-1, inplace=True)  # kiedy jeszcze nie było żadnych ograniczeń\n",
    "    dataframe['preschoolers_confirmed'].fillna(0, inplace=True)\n",
    "    dataframe['pupils_confirmed'].fillna(0, inplace=True)\n",
    "    return dataframe\n",
    "\n",
    "\n",
    "df_4[4] = fill_4_5(df_4[4])\n",
    "save_to_csv(df_4[4], '4_5')\n",
    "\n",
    "df_4[4].info()"
   ],
   "metadata": {
    "collapsed": false
   },
   "id": "6ec7ddcd08fa56a6",
   "execution_count": null
  },
  {
   "cell_type": "markdown",
   "source": [
    "### Miesięczne statystyki zachorowań w populacji do 19 roku życia"
   ],
   "metadata": {
    "collapsed": false
   },
   "id": "a9c34cdaeb8d4995"
  },
  {
   "cell_type": "code",
   "outputs": [],
   "source": [
    "df_4[4].head()"
   ],
   "metadata": {
    "collapsed": false
   },
   "id": "8e666d1cf7d2f7cd",
   "execution_count": null
  },
  {
   "cell_type": "markdown",
   "source": [
    "## <center>Część 5</center>\n",
    "### Połącz ze sobą wszystkie dane otrzymane w części 4. Nowy zbiór danych zapisz jako oddzielny obiekt DataFrame. Jeżeli uważasz, że należy stworzyć kilka takich obiektów, zrób to i zapisz swoje uzasadnienie. Pamiętaj o ciągłej konieczności zachowania czystości danych. Wynik tego zadania zapisz w pliku / plikach CSV."
   ],
   "metadata": {
    "collapsed": false
   },
   "id": "57b389fd68a3b339"
  },
  {
   "cell_type": "markdown",
   "source": [
    "### Połączenie części 4"
   ],
   "metadata": {
    "collapsed": false
   },
   "id": "19910ece07a42230"
  },
  {
   "cell_type": "code",
   "outputs": [],
   "source": [
    "df_5 = pd.merge(df_4[1], df_4[2], on=['country_name', 'date'])\n",
    "df_5 = pd.merge(df_5, df_4[3], on=['country_name', 'date'])\n",
    "df_5 = pd.merge(df_5, pd.merge(df_4[0], df_4[4], on=['country_name']), on=['country_name', 'date'])\n",
    "\n",
    "df_5.info()"
   ],
   "metadata": {
    "collapsed": false
   },
   "id": "ec7e0337e5066dd4",
   "execution_count": null
  },
  {
   "cell_type": "code",
   "outputs": [],
   "source": [
    "df_5.head()"
   ],
   "metadata": {
    "collapsed": false
   },
   "id": "204c9eeebfd98f6d",
   "execution_count": null
  },
  {
   "cell_type": "markdown",
   "source": [
    "## <center>Część 6</center>"
   ],
   "metadata": {
    "collapsed": false
   },
   "id": "ce109b7ac4859101"
  },
  {
   "cell_type": "markdown",
   "source": [
    "### 6.1"
   ],
   "metadata": {
    "collapsed": false
   },
   "id": "85cbdc7f4456a356"
  },
  {
   "cell_type": "code",
   "outputs": [],
   "source": [
    "base_1 = pd.read_csv('czesc6/world_countries.csv')\n",
    "df_6 = pd.merge(base_1, df_5, on=['CCA3'])\n",
    "\n",
    "df_6.info()"
   ],
   "metadata": {
    "collapsed": false
   },
   "id": "3bd2dd1a35e5424e",
   "execution_count": null
  },
  {
   "cell_type": "code",
   "outputs": [],
   "source": [
    "df_6.head()"
   ],
   "metadata": {
    "collapsed": false
   },
   "id": "8667cc56deaeaa9d",
   "execution_count": null
  },
  {
   "cell_type": "markdown",
   "source": [
    "### 6.2"
   ],
   "metadata": {
    "collapsed": false
   },
   "id": "6cd8502b52791709"
  },
  {
   "cell_type": "code",
   "outputs": [],
   "source": [
    "base_2 = pd.read_csv('czesc6/gdp.csv')\n",
    "base_2.rename(columns={'Country Name': 'country_name', 'Country Code': 'CCA3'}, inplace=True)\n",
    "df_6 = pd.merge(base_2, df_6, on=['country_name', 'CCA3'])\n",
    "save_to_csv(df_6, '6')\n",
    "\n",
    "df_6.info()"
   ],
   "metadata": {
    "collapsed": false,
    "is_executing": true
   },
   "id": "c14e8fc5004b50f2",
   "execution_count": null
  },
  {
   "cell_type": "code",
   "outputs": [],
   "source": [
    "df_6.head()"
   ],
   "metadata": {
    "collapsed": false,
    "is_executing": true
   },
   "id": "3226ec3b4f520ce2",
   "execution_count": null
  },
  {
   "cell_type": "markdown",
   "source": [
    "## <center>Część 7</center>\n",
    "### Znajdź 3 dodatkowe zbiory danych, które uważasz, że rozwijają w ciekawy sposób temat ostatniej pandemii. Powtórz dla nich analogiczne czynności z części 4, a następnie połącz je z danymi z części 6. Nowy zbiór danych zapisz jako oddzielny obiekt DataFrame. Jeżeli uważasz, że należy stworzyć kilka takich obiektów, zrób to i zapisz swoje uzasadnienie. Pamiętaj o ciągłej konieczności zachowania czystości danych. Wynik tego zadania zapisz w pliku / plikach CSV."
   ],
   "metadata": {
    "collapsed": false
   },
   "id": "fd0a3f9819de3b15"
  },
  {
   "cell_type": "markdown",
   "source": [
    "### 1. Kurs walut europejskich wobec dolara w latach 2020-2022"
   ],
   "metadata": {
    "collapsed": false
   },
   "id": "3ad8a3012a62e63b"
  },
  {
   "cell_type": "code",
   "outputs": [],
   "source": [
    "import requests  # biblioteka od realizacji żądań HTTP\n",
    "from bs4 import BeautifulSoup  # biblioteka od web-scrapingu\n",
    "\n",
    "def web_scrape(url, table_class):\n",
    "    response = requests.get(url)\n",
    "    soup = BeautifulSoup(response.text, 'html.parser')\n",
    "    indiatable = soup.find('table', {'class': table_class})\n",
    "    dataframe = pd.read_html(str(indiatable))\n",
    "    return pd.DataFrame(dataframe[0])"
   ],
   "metadata": {
    "collapsed": false,
    "is_executing": true
   },
   "id": "7633fdcaf7464f1f",
   "execution_count": null
  },
  {
   "cell_type": "markdown",
   "source": [
    "### Przygotowanie danych o walutach światowych"
   ],
   "metadata": {
    "collapsed": false
   },
   "id": "deb8b3a7c7ece155"
  },
  {
   "cell_type": "code",
   "outputs": [],
   "source": [
    "def prepare_currencies(dataframe):\n",
    "    dataframe.dropna(inplace=True)\n",
    "    dataframe['Country'] = dataframe['Country'].str.title()  # tylko pierwsza litera z dużej\n",
    "    dataframe['Country'] = dataframe['Country'].apply(lambda x: x.split(' (')[0])  # usuń zbędne znaki\n",
    "    dataframe.drop(['Number'], axis=1, inplace=True)  # usunięcie zbędnej kolumny\n",
    "    dataframe['Country'] = dataframe['Country'].str.split(', ')  # rozbicie wierszy na poszczególne kraje\n",
    "    dataframe = dataframe.explode('Country')\n",
    "    dataframe.loc[dataframe['Country'] == 'Russian Federation', 'Country'] = 'Russia'\n",
    "    dataframe.loc[dataframe['Country'] == 'Republic Of North Macedonia', 'Country'] = 'Macedonia'\n",
    "    dataframe.loc[dataframe['Country'] ==\n",
    "                  'United Kingdom Of Great Britain And Northern Ireland', 'Country'] = 'United Kingdom'\n",
    "\n",
    "    # dataframe.to_csv('czesc7/world_curriencies.csv', index=False)\n",
    "    return dataframe\n",
    "\n",
    "world_currencies = web_scrape('https://www.iban.com/currency-codes', 'table table-bordered downloads tablesorter')\n",
    "europe_countries = ['Albania', 'Andorra', 'Austria', 'Belarus', 'Belgium', 'Bosnia And Herzegovina', 'Bulgaria',\n",
    "                    'Croatia', 'Cyprus', 'Czech Republic', 'Denmark', 'Estonia', 'Finland', 'France', 'Germany',\n",
    "                    'Greece', 'Hungary', 'Iceland', 'Ireland', 'Italy', 'Latvia', 'Liechtenstein', 'Lithuania',\n",
    "                    'Luxembourg', 'Macedonia', 'Malta', 'Moldova', 'Monaco', 'Montenegro',\n",
    "                    'Netherlands', 'Norway', 'Poland', 'Portugal', 'Romania', 'Russia', 'San Marino',\n",
    "                    'Serbia', 'Slovakia', 'Slovenia', 'Spain', 'Sweden', 'Switzerland', 'Ukraine', 'United Kingdom']\n",
    "\n",
    "world_currencies = prepare_currencies(world_currencies)\n",
    "world_currencies = world_currencies[world_currencies['Country'].isin(europe_countries)].reset_index(drop=True)\n",
    "world_currencies.drop(index=[41, 43], inplace=True)  # 2 waluty z Szwajcarii nie rozpoznawane są\n",
    "world_currencies.reset_index(drop=True, inplace=True)\n",
    "\n",
    "world_currencies.info()"
   ],
   "metadata": {
    "collapsed": false,
    "is_executing": true
   },
   "id": "3b649798db046a22",
   "execution_count": null
  },
  {
   "cell_type": "code",
   "outputs": [],
   "source": [
    "world_currencies.head()"
   ],
   "metadata": {
    "collapsed": false,
    "is_executing": true
   },
   "id": "598e62da0c8befc8",
   "execution_count": null
  },
  {
   "cell_type": "markdown",
   "source": [
    "### Wypełnienie arkuszy Google Sheets w kursy walut"
   ],
   "metadata": {
    "collapsed": false
   },
   "id": "43d3e1a11215915"
  },
  {
   "cell_type": "code",
   "outputs": [],
   "source": [
    "import gspread\n",
    "\n",
    "def update_sheets():\n",
    "    for i, el in enumerate(curr):\n",
    "        worksheet = sh.add_worksheet(title=f'{el}', rows=1097, cols=26, index=i)\n",
    "        worksheet.update_cell(1, 1, f'=GOOGLEFINANCE(\"{el}\"; \"price\"; DATE(2020;1;1); DATE(2023;1;1))')\n",
    "\n",
    "def get_sheets_data():\n",
    "    sheets = [sh.worksheet(el) for el in curr]\n",
    "    result = pd.DataFrame()\n",
    "    for sheet in sheets:\n",
    "        data = sheet.get_values()[1:]\n",
    "        sheet_data = pd.DataFrame(data, columns=['date', sheet.title])\n",
    "        sheet_data['date'] = pd.to_datetime(sheet_data['date']).dt.date\n",
    "        result = sheet_data if result.empty else result.merge(sheet_data, on='date', how='outer')\n",
    "    # result.to_csv('czesc7/currency_data.csv', index=False)\n",
    "    return result\n",
    "\n",
    "def del_worksheets():\n",
    "    sheets = [sh.worksheet(el) for el in curr]\n",
    "    for sheet in sheets:\n",
    "        sh.del_worksheet(sheet)\n",
    "\n",
    "gc = gspread.service_account()\n",
    "sh = gc.open('Currencies')\n",
    "\n",
    "curr = world_currencies['Code'].unique().tolist()\n",
    "curr = ['USD' + el for el in curr]\n",
    "update_sheets()\n",
    "currencies_data = get_sheets_data()\n",
    "del_worksheets()\n",
    "\n",
    "currencies_data.info()"
   ],
   "metadata": {
    "collapsed": false,
    "is_executing": true
   },
   "id": "a9a0a976de9ca7c8",
   "execution_count": null
  },
  {
   "cell_type": "code",
   "outputs": [],
   "source": [
    "currencies_data.head()"
   ],
   "metadata": {
    "collapsed": false,
    "is_executing": true
   },
   "id": "827244cac35e78bb",
   "execution_count": null
  },
  {
   "cell_type": "markdown",
   "source": [
    "### Transformacja tych danych"
   ],
   "metadata": {
    "collapsed": false
   },
   "id": "c4ccd9f390437335"
  },
  {
   "cell_type": "code",
   "outputs": [],
   "source": [
    "currencies_data = currencies_data.ffill(axis=1)\n",
    "currencies_data['date'] = pd.to_datetime(currencies_data['date'])\n",
    "convert = [col for col in currencies_data.columns if 'USD' in col]\n",
    "for col in convert:\n",
    "    currencies_data[col] = currencies_data[col].str.replace(',', '.')\n",
    "    currencies_data[col] = currencies_data[col].astype(np.float64)\n",
    "\n",
    "currencies_data.info()"
   ],
   "metadata": {
    "collapsed": false,
    "is_executing": true
   },
   "id": "f1420975e88337bf",
   "execution_count": null
  },
  {
   "cell_type": "code",
   "outputs": [],
   "source": [
    "currencies_data.head()"
   ],
   "metadata": {
    "collapsed": false,
    "is_executing": true
   },
   "id": "92055753635f65a5",
   "execution_count": null
  },
  {
   "cell_type": "markdown",
   "source": [
    "### 2. Tygodniowa cena benzyny w USA i UK w latach 2020-2022"
   ],
   "metadata": {
    "collapsed": false
   },
   "id": "5b375726cd5e0479"
  },
  {
   "cell_type": "code",
   "outputs": [],
   "source": [
    "gasoline_US = pd.read_csv('czesc7/Weekly_Gasoline_Prices_USA.csv')\n",
    "gasoline_UK = pd.read_excel('czesc7/Weekly_Gasoline_Prices_UK.xlsx')\n",
    "\n",
    "gasoline_US.info()\n",
    "gasoline_UK.info()"
   ],
   "metadata": {
    "collapsed": false,
    "is_executing": true
   },
   "id": "5167bf1a10546b36",
   "execution_count": null
  },
  {
   "cell_type": "code",
   "outputs": [],
   "source": [
    "display(gasoline_US.head())\n",
    "display(gasoline_UK.head())"
   ],
   "metadata": {
    "collapsed": false,
    "is_executing": true
   },
   "id": "abf9ac095af60fa7",
   "execution_count": null
  },
  {
   "cell_type": "markdown",
   "source": [
    "### Przygotowanie danych o cenach benzyny"
   ],
   "metadata": {
    "collapsed": false
   },
   "id": "bca2a21977c008fc"
  },
  {
   "cell_type": "code",
   "outputs": [],
   "source": [
    "def restrict_to_min_max_date(dataframe, cca3, rename_columns):\n",
    "    dataframe.rename(columns=rename_columns, inplace=True)\n",
    "    if dataframe['date'].dtype != 'datetime64[ns]':\n",
    "        dataframe['date'] = pd.to_datetime(dataframe['date'])\n",
    "    min_dt, max_dt = pd.to_datetime(df_3_5['min_date'].values[0]), pd.to_datetime(df_3_5['max_date'].values[0])\n",
    "    dataframe = dataframe[dataframe['date'].between(min_dt, max_dt)].reset_index(drop=True)\n",
    "    dataframe['CCA3'] = cca3\n",
    "    return dataframe\n",
    "\n",
    "gasoline_US = restrict_to_min_max_date(gasoline_US, 'USA', {'Week of': 'date', 'U.S. Retail Gasoline Prices $/gal': 'Gasoline Prices $/litre'})\n",
    "gasoline_US['Gasoline Prices $/litre'] /= 3.78541178\n",
    "\n",
    "gasoline_UK = restrict_to_min_max_date(gasoline_UK, 'GBR', {'Date': 'date', 'ULSP:  Pump price (p/litre)': 'Gasoline Prices $/litre'})\n",
    "gasoline_UK = pd.merge(gasoline_UK, currencies_data[['date', 'USDGBP']], on='date', how='inner')\n",
    "gasoline_UK['Gasoline Prices $/litre'] = gasoline_UK['Gasoline Prices $/litre'] / (gasoline_UK['USDGBP'] * 100)\n",
    "gasoline_UK['Gasoline Prices $/litre'] = gasoline_UK['Gasoline Prices $/litre'].apply(lambda x: round(x, 2))\n",
    "gasoline_UK.drop(columns=['USDGBP'], axis=1, inplace=True)\n",
    "\n",
    "gasoline = pd.concat([gasoline_US, gasoline_UK], axis=0)\n",
    "\n",
    "gasoline.info()"
   ],
   "metadata": {
    "collapsed": false,
    "is_executing": true
   },
   "id": "2457db33f3eb18a4",
   "execution_count": null
  },
  {
   "cell_type": "code",
   "outputs": [],
   "source": [
    "gasoline.head()"
   ],
   "metadata": {
    "collapsed": false,
    "is_executing": true
   },
   "id": "bc2e5709f95c3ce8",
   "execution_count": null
  },
  {
   "cell_type": "markdown",
   "source": [
    "### 3. Przestępstwa w Południowej Australii w trakcie pandemii"
   ],
   "metadata": {
    "collapsed": false
   },
   "id": "68ec83a81d4198f7"
  },
  {
   "cell_type": "code",
   "outputs": [],
   "source": [
    "crimes_south_aus = pd.DataFrame()\n",
    "for fname in os.listdir('czesc7/crime'):\n",
    "    crimes_south_aus = pd.concat([crimes_south_aus, pd.read_csv('czesc7/crime/' + fname)], axis=0)\n",
    "\n",
    "crimes_south_aus.info()"
   ],
   "metadata": {
    "collapsed": false,
    "is_executing": true
   },
   "id": "1659a31013e7b0c",
   "execution_count": null
  },
  {
   "cell_type": "code",
   "outputs": [],
   "source": [
    "crimes_south_aus.head()"
   ],
   "metadata": {
    "collapsed": false,
    "is_executing": true
   },
   "id": "1c75ebf40721a63b",
   "execution_count": null
  },
  {
   "cell_type": "markdown",
   "source": [
    "### Przygotowanie danych o przestępstwach"
   ],
   "metadata": {
    "collapsed": false
   },
   "id": "eddcebb7e8dc5db"
  },
  {
   "cell_type": "code",
   "outputs": [],
   "source": [
    "crimes_south_aus.drop(columns=['Offence Level 1 Description', 'Postcode - Incident'], axis=1, inplace=True)\n",
    "crimes_south_aus.rename(columns={'Reported Date': 'date', 'Offence Level 2 Description': 'Offence Type', 'Offence Level 3 Description': 'Offence Description', 'Suburb - Incident': 'Suburb'}, inplace=True)\n",
    "crimes_south_aus['date'] = pd.to_datetime(crimes_south_aus['date'], dayfirst=True)\n",
    "crimes_south_aus.dropna(inplace=True)\n",
    "crimes_south_aus['Offence count'] = crimes_south_aus['Offence count'].astype(np.int64)\n",
    "crimes_south_aus['CCA3'] = 'AUS'\n",
    "\n",
    "crimes_south_aus.info()"
   ],
   "metadata": {
    "collapsed": false,
    "is_executing": true
   },
   "id": "ccde920c922520b3",
   "execution_count": null
  },
  {
   "cell_type": "code",
   "outputs": [],
   "source": [
    "crimes_south_aus.head()"
   ],
   "metadata": {
    "collapsed": false,
    "is_executing": true
   },
   "id": "2c81db0768ce9841",
   "execution_count": null
  },
  {
   "cell_type": "markdown",
   "source": [
    "### 4. Ceny energii w Belgii 2018-2024"
   ],
   "metadata": {
    "collapsed": false
   },
   "id": "740d5e96964b5250"
  },
  {
   "cell_type": "code",
   "outputs": [],
   "source": [
    "energy_stock_prices = pd.read_csv('czesc7/Energy_Stock_Prices_Belgium.csv', delimiter=';')\n",
    "\n",
    "energy_stock_prices.info()"
   ],
   "metadata": {
    "collapsed": false,
    "is_executing": true
   },
   "id": "39636885b1dcb040",
   "execution_count": null
  },
  {
   "cell_type": "code",
   "outputs": [],
   "source": [
    "energy_stock_prices.head()"
   ],
   "metadata": {
    "collapsed": false,
    "is_executing": true
   },
   "id": "fd30652cf811c2f3",
   "execution_count": null
  },
  {
   "cell_type": "markdown",
   "source": [
    "### Przygotowanie danych o giełdowych cenach energii"
   ],
   "metadata": {
    "collapsed": false
   },
   "id": "a860069abe8a4000"
  },
  {
   "cell_type": "code",
   "outputs": [],
   "source": [
    "energy_stock_prices['Datetime'] = pd.to_datetime(energy_stock_prices['Datetime'], utc=True).dt.date\n",
    "energy_stock_prices.rename(columns={'Datetime': 'date', 'Implicit net position': 'Stock Price'}, inplace=True)\n",
    "min_date = df_3_5['min_date'].values[0]\n",
    "max_date = df_3_5['max_date'].values[0]\n",
    "energy_stock_prices = energy_stock_prices[energy_stock_prices['date'].between(min_date, max_date)].reset_index(drop=True)\n",
    "energy_stock_prices['Stock Price'] = energy_stock_prices.groupby('date')['Stock Price'].transform('sum')\n",
    "energy_stock_prices = energy_stock_prices.groupby('date').agg({'Stock Price': 'mean'}).reset_index()\n",
    "energy_stock_prices['CCA3'] = 'BEL'\n",
    "\n",
    "energy_stock_prices.info()"
   ],
   "metadata": {
    "collapsed": false,
    "is_executing": true
   },
   "id": "8c4992196f2c756c",
   "execution_count": null
  },
  {
   "cell_type": "code",
   "outputs": [],
   "source": [
    "energy_stock_prices.head()"
   ],
   "metadata": {
    "collapsed": false,
    "is_executing": true
   },
   "id": "3f5b5e69bbdbe64f",
   "execution_count": null
  },
  {
   "cell_type": "markdown",
   "source": [
    "### Połączenie z częścią 6"
   ],
   "metadata": {
    "collapsed": false
   },
   "id": "5fe8cc8c0089a99b"
  },
  {
   "cell_type": "code",
   "outputs": [],
   "source": [
    "def do_merge(dataframe, on1=None, on2=None, name=None):\n",
    "    df_7 = pd.merge(dataframe, base_1, on=[on1])\n",
    "    df_7 = pd.merge(df_7, base_2, on=[on2])\n",
    "    save_to_csv(df_7, name)\n",
    "    return df_7\n",
    "\n",
    "gas = do_merge(gasoline, on1='CCA3', on2='CCA3', name='gasoline_US_UK')\n",
    "crimes = do_merge(crimes_south_aus, on1='CCA3', on2='CCA3', name='crimes_south_aus')\n",
    "energy = do_merge(energy_stock_prices, on1='CCA3', on2='CCA3', name='energy_stock_prices')"
   ],
   "metadata": {
    "collapsed": false,
    "is_executing": true
   },
   "id": "b0b0a13a8a5a4386",
   "execution_count": null
  },
  {
   "cell_type": "markdown",
   "source": [
    "### Ostateczny wynik"
   ],
   "metadata": {
    "collapsed": false
   },
   "id": "1ea9aa5ee6d37e07"
  },
  {
   "cell_type": "code",
   "outputs": [],
   "source": [
    "gas.head()"
   ],
   "metadata": {
    "collapsed": false,
    "is_executing": true
   },
   "id": "4a5dd163ff68f5b",
   "execution_count": null
  },
  {
   "cell_type": "code",
   "outputs": [],
   "source": [
    "crimes.head()"
   ],
   "metadata": {
    "collapsed": false,
    "is_executing": true
   },
   "id": "34db66aa65ee8773",
   "execution_count": null
  },
  {
   "cell_type": "code",
   "outputs": [],
   "source": [
    "energy.head()"
   ],
   "metadata": {
    "collapsed": false,
    "is_executing": true
   },
   "id": "65b3254e6a467ed9",
   "execution_count": null
  }
 ],
 "metadata": {
  "kernelspec": {
   "display_name": "Python 3",
   "language": "python",
   "name": "python3"
  },
  "language_info": {
   "codemirror_mode": {
    "name": "ipython",
    "version": 2
   },
   "file_extension": ".py",
   "mimetype": "text/x-python",
   "name": "python",
   "nbconvert_exporter": "python",
   "pygments_lexer": "ipython2",
   "version": "2.7.6"
  }
 },
 "nbformat": 4,
 "nbformat_minor": 5
}
