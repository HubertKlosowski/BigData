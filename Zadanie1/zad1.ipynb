{
 "cells": [
  {
   "cell_type": "markdown",
   "source": [
    "## Pozyskanie danych\n",
    "### Hubert Kłosowski 242424\n",
    "### Kamil Małecki 242464"
   ],
   "metadata": {
    "collapsed": false
   },
   "id": "4be84191a2bb3398"
  },
  {
   "cell_type": "markdown",
   "source": [
    "### Potrzebne pakiety"
   ],
   "metadata": {
    "collapsed": false
   },
   "id": "7891492c174c5284"
  },
  {
   "cell_type": "code",
   "outputs": [],
   "source": [
    "import os\n",
    "import numpy as np\n",
    "import pandas as pd\n",
    "from google.cloud import bigquery\n",
    "import seaborn as sns\n",
    "import matplotlib.pyplot as plt"
   ],
   "metadata": {
    "collapsed": false
   },
   "id": "41aefd8a6c1725d2",
   "execution_count": null
  },
  {
   "cell_type": "markdown",
   "source": [
    "## <center>Część 2</center>\n",
    "### 2.5"
   ],
   "metadata": {
    "collapsed": false
   },
   "id": "6136c56e0148c38d"
  },
  {
   "cell_type": "code",
   "outputs": [],
   "source": [
    "os.environ[\n",
    "    \"GOOGLE_APPLICATION_CREDENTIALS\"] = \"projekt1-415610-f19ebf54e064.json\"  # lokalizacja pobranego klucza z punktu 1.4.\n",
    "client = bigquery.Client()"
   ],
   "metadata": {
    "collapsed": false
   },
   "id": "c69e23e5fd6b5e63",
   "execution_count": null
  },
  {
   "cell_type": "markdown",
   "source": [
    "### Potrzebna funkcja"
   ],
   "metadata": {
    "collapsed": false
   },
   "id": "2fd724677376e4c"
  },
  {
   "cell_type": "code",
   "outputs": [],
   "source": [
    "def return_df(q):\n",
    "    query_job = client.query(q)\n",
    "    query_result = query_job.result()\n",
    "    return query_result.to_dataframe()"
   ],
   "metadata": {
    "collapsed": false
   },
   "id": "2a844e1fb8b8009",
   "execution_count": null
  },
  {
   "cell_type": "markdown",
   "source": [
    "### 2.6"
   ],
   "metadata": {
    "collapsed": false
   },
   "id": "3fc7e381a8997a6d"
  },
  {
   "cell_type": "code",
   "outputs": [],
   "source": [
    "query = 'select * from `bigquery-public-data.covid19_open_data.covid19_open_data` limit 10'\n",
    "df = return_df(query)"
   ],
   "metadata": {
    "collapsed": true
   },
   "id": "initial_id",
   "execution_count": null
  },
  {
   "cell_type": "markdown",
   "source": [
    "### Informacje o zbiorze"
   ],
   "metadata": {
    "collapsed": false
   },
   "id": "12c7ea208ef87430"
  },
  {
   "cell_type": "code",
   "outputs": [],
   "source": [
    "df.info()"
   ],
   "metadata": {
    "collapsed": false
   },
   "id": "4cee2e3fa4b702ec",
   "execution_count": null
  },
  {
   "cell_type": "markdown",
   "source": [
    "## <center>Część 3</center>"
   ],
   "metadata": {
    "collapsed": false
   },
   "id": "dbcc23c750e876b9"
  },
  {
   "cell_type": "markdown",
   "source": [
    "### 3.1. Sprawdź, ile jest zapisanych wierszy z danymi."
   ],
   "metadata": {
    "collapsed": false
   },
   "id": "feb7de4a0a0e2f18"
  },
  {
   "cell_type": "code",
   "outputs": [],
   "source": [
    "df_3_1 = return_df('SELECT COUNT(*) FROM `bigquery-public-data.covid19_open_data.covid19_open_data`')\n",
    "df_3_1"
   ],
   "metadata": {
    "collapsed": false
   },
   "id": "de751b3f1cf0bfe7",
   "execution_count": null
  },
  {
   "cell_type": "markdown",
   "source": [
    "### 3.2. Sprawdź, ile krajów jest uwzględnionych w danych."
   ],
   "metadata": {
    "collapsed": false
   },
   "id": "bfa47635f77ddbcd"
  },
  {
   "cell_type": "code",
   "outputs": [],
   "source": [
    "df_3_2 = return_df('SELECT COUNT(DISTINCT country_name) FROM `bigquery-public-data.covid19_open_data.covid19_open_data`')\n",
    "df_3_2"
   ],
   "metadata": {
    "collapsed": false
   },
   "id": "333dfe9990220ba5",
   "execution_count": null
  },
  {
   "cell_type": "markdown",
   "source": [
    "### 3.3. Sprawdź, w jaki sposób zapisywane są dzienne informacje dla krajów."
   ],
   "metadata": {
    "collapsed": false
   },
   "id": "828628716a64392e"
  },
  {
   "cell_type": "code",
   "outputs": [],
   "source": [
    "df_3_3 = return_df('SELECT column_name, data_type FROM `bigquery-public-data`.covid19_open_data.INFORMATION_SCHEMA.COLUMNS WHERE table_name = \\'covid19_open_data\\''\n",
    ")\n",
    "df_3_3"
   ],
   "metadata": {
    "collapsed": false
   },
   "id": "77102e6c0f41ad4e",
   "execution_count": null
  },
  {
   "cell_type": "markdown",
   "source": [
    "### 3.4. Sprawdź, w jaki sposób zapisywane są wartości liczbowe."
   ],
   "metadata": {
    "collapsed": false
   },
   "id": "d75a504efa490d26"
  },
  {
   "cell_type": "code",
   "outputs": [],
   "source": [
    "df_3_4 = return_df('SELECT column_name, data_type FROM `bigquery-public-data`.covid19_open_data.INFORMATION_SCHEMA.COLUMNS WHERE table_name = \\'covid19_open_data\\' AND data_type = \\'INT64\\' OR data_type = \\'FLOAT64\\''\n",
    ")\n",
    "df_3_4"
   ],
   "metadata": {
    "collapsed": false
   },
   "id": "453599b9fd9f0d49",
   "execution_count": null
  },
  {
   "cell_type": "markdown",
   "source": [
    "### 3.5. Sprawdź, jaki przedział czasowy jest uwzględniony w danych. Dodatkowo porównaj przedziały czasowe dla przypadków nowych zachorowań, nowych śmierci oraz nowych zaszczepionych osób w danych."
   ],
   "metadata": {
    "collapsed": false
   },
   "id": "9b95b81b56623926"
  },
  {
   "cell_type": "code",
   "outputs": [],
   "source": [
    "queries_3_5 = [\n",
    "    'SELECT MIN(date) AS min_date, MAX(date) AS max_date FROM `bigquery-public-data.covid19_open_data.covid19_open_data`',\n",
    "    'SELECT MIN(date) AS min_date_confirmed, MAX(date) AS max_date_confirmed FROM `bigquery-public-data.covid19_open_data.covid19_open_data` WHERE new_confirmed IS NOT NULL',\n",
    "    'SELECT MIN(date) AS min_date_deceased, MAX(date) AS max_date_deceased FROM `bigquery-public-data.covid19_open_data.covid19_open_data` WHERE new_deceased IS NOT NULL',\n",
    "    'SELECT MIN(date) AS min_date_vaccinated, MAX(date) AS max_date_vaccinated FROM `bigquery-public-data.covid19_open_data.covid19_open_data` WHERE new_persons_vaccinated IS NOT NULL'\n",
    "]\n",
    "\n",
    "df_3_5 = pd.DataFrame()\n",
    "\n",
    "for query in queries_3_5:\n",
    "    df_3_5 = pd.concat([df_3_5, return_df(query)], axis=1)\n",
    "df_3_5"
   ],
   "metadata": {
    "collapsed": false
   },
   "id": "424817ba6d4be84f",
   "execution_count": null
  },
  {
   "cell_type": "markdown",
   "source": [
    "### 3.6. Sprawdź więcej informacji (co najmniej 5 różnych) o danych dotyczących COVID-19. W tym celu nie wykonuj żadnych dodatkowych obliczeń."
   ],
   "metadata": {
    "collapsed": false
   },
   "id": "71643ad88fd0ba7f"
  },
  {
   "cell_type": "code",
   "outputs": [],
   "source": [],
   "metadata": {
    "collapsed": false
   },
   "id": "ff16365fe0f0cf75",
   "execution_count": null
  },
  {
   "cell_type": "markdown",
   "source": [
    "## <center>Część 4</center>"
   ],
   "metadata": {
    "collapsed": false
   },
   "id": "b9534cc0dd01295b"
  },
  {
   "cell_type": "code",
   "outputs": [],
   "source": [
    "# count_to_del = pd.DataFrame(list(zip([df[el].notna().sum() for el in df.columns], df.columns)), columns=['count', 'names'])\n",
    "# stats = count_to_del['count'].describe().drop(['count', 'min', 'max'])\n",
    "# stats"
   ],
   "metadata": {
    "collapsed": false
   },
   "id": "3a3eefc17cda4443",
   "execution_count": null
  },
  {
   "cell_type": "markdown",
   "source": [
    "### Od ilu pustych wierszy usunąć kolumnę?"
   ],
   "metadata": {
    "collapsed": false
   },
   "id": "509cfba157108145"
  },
  {
   "cell_type": "code",
   "outputs": [],
   "source": [
    "# colors = ['red', 'green', 'pink', 'yellow', 'orange']\n",
    "# fig, ax = plt.subplots(nrows=1, ncols=2, figsize=(20, 10))\n",
    "# count_to_del['count'].plot(kind='line', color='blue', ax=ax[0])\n",
    "# for i, el in enumerate(stats.index):\n",
    "#     ax[0].axhline(stats.iloc[i], color=colors[i], linestyle='solid', label=el)\n",
    "# ax[0].legend(loc='upper center')\n",
    "# count_to_del['count'].plot(kind='box', ax=ax[1])"
   ],
   "metadata": {
    "collapsed": false
   },
   "id": "c4b859b828d2f640",
   "execution_count": null
  },
  {
   "cell_type": "markdown",
   "source": [
    "### Usunięcie kolumn zawierających za dużo wartości NaN"
   ],
   "metadata": {
    "collapsed": false
   },
   "id": "e17af93223231c1a"
  },
  {
   "cell_type": "code",
   "outputs": [],
   "source": [
    "# count_to_del = count_to_del[count_to_del['count'] > 2 * count_to_del['count'].std()]\n",
    "# df = df[count_to_del['names']]"
   ],
   "metadata": {
    "collapsed": false
   },
   "id": "b840afdd33775493",
   "execution_count": null
  },
  {
   "cell_type": "markdown",
   "source": [
    "### Usunięcie wierszy zawierających wartości NaN"
   ],
   "metadata": {
    "collapsed": false
   },
   "id": "858b93a7d548ccce"
  },
  {
   "cell_type": "code",
   "outputs": [],
   "source": [
    "# df.dropna(inplace=True)\n",
    "# df.drop(['place_id', 'wikidata_id', 'datacommons_id', 'country_code', 'iso_3166_1_alpha_2', 'new_hospitalized_patients_age_3', 'new_hospitalized_patients_male'], axis=1, inplace=True)"
   ],
   "metadata": {
    "collapsed": false
   },
   "id": "4ebec3439dba5cbe",
   "execution_count": null
  },
  {
   "cell_type": "markdown",
   "source": [
    "### Usunięcie duplikatów"
   ],
   "metadata": {
    "collapsed": false
   },
   "id": "1e8abbd4894e38e8"
  },
  {
   "cell_type": "code",
   "outputs": [],
   "source": [
    "# df.drop_duplicates(inplace=True, ignore_index=True)"
   ],
   "metadata": {
    "collapsed": false
   },
   "id": "b1d33ed59d3647eb",
   "execution_count": null
  },
  {
   "cell_type": "markdown",
   "source": [
    "### Czyszczenie danych"
   ],
   "metadata": {
    "collapsed": false
   },
   "id": "836c6398e071da6"
  },
  {
   "cell_type": "code",
   "outputs": [],
   "source": [
    "# count_to_del"
   ],
   "metadata": {
    "collapsed": false
   },
   "id": "8845c2f6d3cf47ea",
   "execution_count": null
  },
  {
   "cell_type": "markdown",
   "source": [
    "### Gotowe dane"
   ],
   "metadata": {
    "collapsed": false
   },
   "id": "8f43d3a92e4d0d4e"
  },
  {
   "cell_type": "code",
   "outputs": [],
   "source": [
    "df.info()"
   ],
   "metadata": {
    "collapsed": false
   },
   "id": "c84943054e6c27b4",
   "execution_count": null
  },
  {
   "cell_type": "code",
   "outputs": [],
   "source": [
    "df.head()"
   ],
   "metadata": {
    "collapsed": false
   },
   "id": "968401bf63672526",
   "execution_count": null
  },
  {
   "cell_type": "markdown",
   "source": [
    "### 4.1 Chcemy posiadać podstawowe dane o wszystkich krajach świata, które będą zrozumiałe dla człowieka oraz uniwersalne i potencjalnie przyszłościowe do dalszego przetwarzania."
   ],
   "metadata": {
    "collapsed": false
   },
   "id": "38145fd5a6b5c02a"
  },
  {
   "cell_type": "code",
   "outputs": [],
   "source": [
    "query_4_1 = 'SELECT DISTINCT country_name, population, population_male, population_female, gdp_usd, gdp_per_capita_usd, latitude, longitude, area_sq_km, infant_mortality_rate, health_expenditure_usd, human_capital_index, life_expectancy, population_age_00_09 AS age_bin_0, population_age_10_19 AS age_bin_1, population_age_20_29 AS age_bin_2, population_age_30_39 AS age_bin_3, population_age_40_49 AS age_bin_4, population_age_50_59 AS age_bin_5, population_age_60_69 AS age_bin_6, population_age_70_79 AS age_bin_7, population_age_80_and_older AS age_bin_8 FROM `bigquery-public-data.covid19_open_data.covid19_open_data` WHERE aggregation_level = 0 ORDER BY country_name'\n",
    "\n",
    "df_4_1 = return_df(query_4_1)"
   ],
   "metadata": {
    "collapsed": false
   },
   "id": "b8685727b4b66bbc",
   "execution_count": null
  },
  {
   "cell_type": "code",
   "outputs": [],
   "source": [
    "df_4_1.info()"
   ],
   "metadata": {
    "collapsed": false
   },
   "id": "713d52860279e407",
   "execution_count": null
  },
  {
   "cell_type": "markdown",
   "source": [
    "### Uzupełnienie brakujących danych o kraju na podstawie jego <i>sąsiadów</i>"
   ],
   "metadata": {
    "collapsed": false
   },
   "id": "ba4c834d6e453e1c"
  },
  {
   "cell_type": "code",
   "outputs": [],
   "source": [
    "from haversine import haversine\n",
    "\n",
    "def save_to_csv(dataframe, filename):\n",
    "    if 'czesc4' not in os.listdir(os.getcwd()):\n",
    "        os.mkdir('czesc4')\n",
    "    os.chdir('czesc4')\n",
    "    dataframe.to_csv(filename + '.csv') # Zapis do csv\n",
    "    os.chdir('..')\n",
    "    \n",
    "def fill_based_on_neigh(index, num=10):\n",
    "    data = df_4_1.loc[index].copy()\n",
    "    df_4_1['distance'] = df_4_1.apply(lambda x: haversine((data['latitude'], data['longitude']), (x['latitude'], x['longitude'])), axis=1)\n",
    "    neigh = df_4_1.sort_values(by=['distance'])\n",
    "    neigh = neigh.iloc[0:num]\n",
    "    for col in columns_1.difference(leave_1):\n",
    "        if df_4_1[col].dtype == np.float64:\n",
    "            df_4_1.loc[index, col] = neigh[col].mean()\n",
    "        else:\n",
    "            df_4_1.loc[index, col] = int(neigh[col].mean())\n",
    "            \n",
    "def fill_4_1():\n",
    "    df_4_1['distance'] = 0.0\n",
    "    to_float_cols = columns_1.difference(leave_1)\n",
    "    for tfc in to_float_cols:\n",
    "         df_4_1[tfc] = df_4_1[tfc].astype(np.float64)\n",
    "    df_4_1['population'].fillna(df_4_1['population_male'] + df_4_1['population_female'], inplace=True)\n",
    "    df_4_1['population_male'].fillna(df_4_1['population'] // 2, inplace = True)\n",
    "    df_4_1['population_female'].fillna(df_4_1['population'] // 2, inplace = True)\n",
    "    for index, row in df_4_1.iterrows():\n",
    "        if df_4_1.loc[index].isna().sum() > 0:\n",
    "            fill_based_on_neigh(index=index)\n",
    "    df_4_1.drop('distance', axis=1, inplace=True)\n",
    "    \n",
    "    split = [9, 9, 8, 7, 7, 8, 9, 9]\n",
    "    for i in range(len(split)):\n",
    "        df_4_1[age_groups[i]].fillna(df_4_1['population'] // split[i], inplace=True)\n",
    "    df_4_1['age_bin_8'].fillna(df_4_1['population'] - df_4_1[age_groups].sum(axis=1), inplace=True)\n",
    "    \n",
    "    for rn in columns_1[df_4_1.isna().any()]:\n",
    "        df_4_1[rn].fillna(df_4_1[rn].mode()[0], inplace=True)\n",
    "\n",
    "\n",
    "columns_1 = df_4_1.columns\n",
    "age_groups = [el for el in columns_1 if 'age_bin_' in el]\n",
    "leave_1 = ['population', 'population_male', 'population_female', 'latitude', 'longitude', 'country_name'] + age_groups\n",
    "\n",
    "fill_4_1()\n",
    "save_to_csv(df_4_1, 'df_4_1')"
   ],
   "metadata": {
    "collapsed": false
   },
   "id": "8358906d6d6bdbaf",
   "execution_count": null
  },
  {
   "cell_type": "markdown",
   "source": [
    "### Informacje o krajach"
   ],
   "metadata": {
    "collapsed": false
   },
   "id": "d88c8a5811d6468e"
  },
  {
   "cell_type": "code",
   "outputs": [],
   "source": [
    "df_4_1.info()"
   ],
   "metadata": {
    "collapsed": false
   },
   "id": "ae33eebe55b92ba5",
   "execution_count": null
  },
  {
   "cell_type": "code",
   "outputs": [],
   "source": [
    "df_4_1.head()"
   ],
   "metadata": {
    "collapsed": false
   },
   "id": "315539a89e0983ec",
   "execution_count": null
  },
  {
   "cell_type": "markdown",
   "source": [
    "### 4.2 Chcemy wygenerować statystyki dotyczące zachorowań na COVID-19 na całym świecie."
   ],
   "metadata": {
    "collapsed": false
   },
   "id": "4b4a0f5c1c7f59c5"
  },
  {
   "cell_type": "code",
   "outputs": [],
   "source": [
    "query_4_2 = 'SELECT country_name, date, SUM(new_confirmed) AS daily_confirmed, SUM(new_confirmed_male) AS daily_confirmed_male, SUM(new_confirmed_female) AS daily_confirmed_female, SUM(new_confirmed_age_0) AS age_bin_0, SUM(new_confirmed_age_1) AS age_bin_1, SUM(new_confirmed_age_2) AS age_bin_2, SUM(new_confirmed_age_3) AS age_bin_3, SUM(new_confirmed_age_4) AS age_bin_4, SUM(new_confirmed_age_5) AS age_bin_5, SUM(new_confirmed_age_6) AS age_bin_6, SUM(new_confirmed_age_7) AS age_bin_7, SUM(new_confirmed_age_8) + SUM(new_confirmed_age_9) AS age_bin_8 FROM `bigquery-public-data.covid19_open_data.covid19_open_data` GROUP BY country_name, date ORDER BY country_name, date'\n",
    " \n",
    "df_4_2 = return_df(query_4_2)"
   ],
   "metadata": {
    "collapsed": false
   },
   "id": "d8b347ef1cfc7b83",
   "execution_count": null
  },
  {
   "cell_type": "code",
   "outputs": [],
   "source": [
    "df_4_2.info()"
   ],
   "metadata": {
    "collapsed": false
   },
   "id": "fe29d4c748ae1aae",
   "execution_count": null
  },
  {
   "cell_type": "markdown",
   "source": [
    "### Uzupełnienie danych dotyczących zachorowań na COVID-19"
   ],
   "metadata": {
    "collapsed": false
   },
   "id": "d49543abdb015de6"
  },
  {
   "cell_type": "code",
   "outputs": [],
   "source": [
    "def fill_4_2():\n",
    "    df_4_2.select_dtypes(include=np.number).clip(lower=0, inplace=True)\n",
    "    \n",
    "    df_4_2['daily_confirmed'].fillna(0, inplace=True)\n",
    "    \n",
    "    mask = df_4_2['daily_confirmed_male'].isna() | df_4_2['daily_confirmed_female'].isna()\n",
    "    rand = np.random.randint(1, 10, size=len(mask))\n",
    "    df_4_2.loc[mask, 'daily_confirmed_male'] = df_4_2['daily_confirmed'].where(mask, df_4_2['daily_confirmed'] // rand)\n",
    "    df_4_2.loc[mask, 'daily_confirmed_female'] = df_4_2['daily_confirmed'].where(mask, df_4_2['daily_confirmed'] - df_4_2['daily_confirmed_male'])\n",
    "    \n",
    "    mask_update = (df_4_2['daily_confirmed'] == 0) & (df_4_2['daily_confirmed_male'] != 0) & (df_4_2['daily_confirmed_female'] != 0)\n",
    "    df_4_2.loc[mask_update, 'daily_confirmed'] = df_4_2['daily_confirmed_male'] + df_4_2['daily_confirmed_female']\n",
    "\n",
    "ratio = pd.DataFrame({'country_name': df_4_1['country_name']})\n",
    "for age_group in age_groups:\n",
    "    ratio[age_group] = df_4_1[age_group] / df_4_1['population']\n",
    "\n",
    "fill_4_2()\n",
    "save_to_csv(df_4_2, 'df_4_2')"
   ],
   "metadata": {
    "collapsed": false
   },
   "id": "e1076b5efda5df2",
   "execution_count": null
  },
  {
   "cell_type": "markdown",
   "source": [
    "### Dzienne statystyki zachorowań na COVID-19 dla każdego kraju"
   ],
   "metadata": {
    "collapsed": false
   },
   "id": "5e269b10d28a7d12"
  },
  {
   "cell_type": "code",
   "outputs": [],
   "source": [
    "df_4_2.info()"
   ],
   "metadata": {
    "collapsed": false
   },
   "id": "44326e312c151a89",
   "execution_count": null
  },
  {
   "cell_type": "code",
   "outputs": [],
   "source": [
    "df_4_2.head()"
   ],
   "metadata": {
    "collapsed": false
   },
   "id": "80a3a923c9a00b23",
   "execution_count": null
  },
  {
   "cell_type": "markdown",
   "source": [
    "### 4.3 Chcemy poznać efekty COVID-19 poprzez uwypuklenie problemu śmiertelności ludzi spowodowanej wirusem."
   ],
   "metadata": {
    "collapsed": false
   },
   "id": "d70135e0fdb09916"
  },
  {
   "cell_type": "code",
   "outputs": [],
   "source": [
    "query_4_3 = 'SELECT country_name, date, SUM(new_deceased) AS daily_deceased, SUM(new_deceased_male) AS daily_deceased_male, SUM(new_deceased_female) AS daily_deceased_female, SUM(new_deceased_age_0) AS age_bin_0, SUM(new_deceased_age_1) AS age_bin_1, SUM(new_deceased_age_2) AS age_bin_2, SUM(new_deceased_age_3) AS age_bin_3, SUM(new_deceased_age_4) AS age_bin_4, SUM(new_deceased_age_5) AS age_bin_5, SUM(new_deceased_age_6) AS age_bin_6, SUM(new_deceased_age_7) AS age_bin_7, SUM(new_deceased_age_8) + SUM(new_deceased_age_9) AS age_bin_8 FROM `bigquery-public-data.covid19_open_data.covid19_open_data` GROUP BY country_name, date ORDER BY country_name, date'\n",
    "\n",
    "df_4_3 = return_df(query_4_3)"
   ],
   "metadata": {
    "collapsed": false
   },
   "id": "cb9484f30d322977",
   "execution_count": null
  },
  {
   "cell_type": "code",
   "outputs": [],
   "source": [
    "df_4_3.info()"
   ],
   "metadata": {
    "collapsed": false
   },
   "id": "55d8b287eba1d32e",
   "execution_count": null
  },
  {
   "cell_type": "markdown",
   "source": [
    "### Uzupełnienie danych dotyczących śmiertelności COVID-19"
   ],
   "metadata": {
    "collapsed": false
   },
   "id": "f11aeb721cf34d3a"
  },
  {
   "cell_type": "code",
   "outputs": [],
   "source": [],
   "metadata": {
    "collapsed": false
   },
   "id": "7e4622e3d403ec56",
   "execution_count": null
  },
  {
   "cell_type": "markdown",
   "source": [
    "### 4.4. Chcemy zaobserwować trendy i zależności dotyczące szczepień na COVID-19."
   ],
   "metadata": {
    "collapsed": false
   },
   "id": "d3e2cd449f8ea162"
  },
  {
   "cell_type": "markdown",
   "source": [
    "### 4.5. Zdefiniuj własny dodatkowy przypadek."
   ],
   "metadata": {
    "collapsed": false
   },
   "id": "17c9d0c21cfea694"
  }
 ],
 "metadata": {
  "kernelspec": {
   "display_name": "Python 3",
   "language": "python",
   "name": "python3"
  },
  "language_info": {
   "codemirror_mode": {
    "name": "ipython",
    "version": 2
   },
   "file_extension": ".py",
   "mimetype": "text/x-python",
   "name": "python",
   "nbconvert_exporter": "python",
   "pygments_lexer": "ipython2",
   "version": "2.7.6"
  }
 },
 "nbformat": 4,
 "nbformat_minor": 5
}
