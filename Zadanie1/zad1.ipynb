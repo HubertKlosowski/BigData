{
 "cells": [
  {
   "cell_type": "markdown",
   "source": [
    "## Pozyskanie danych\n",
    "### Hubert Kłosowski 242424\n",
    "### Kamil Małecki 242464"
   ],
   "metadata": {
    "collapsed": false
   },
   "id": "4be84191a2bb3398"
  },
  {
   "cell_type": "markdown",
   "source": [
    "### Potrzebne pakiety"
   ],
   "metadata": {
    "collapsed": false
   },
   "id": "7891492c174c5284"
  },
  {
   "cell_type": "code",
   "outputs": [],
   "source": [
    "import os\n",
    "import numpy as np\n",
    "import pandas as pd\n",
    "from google.cloud import bigquery\n",
    "import seaborn as sns\n",
    "import matplotlib.pyplot as plt"
   ],
   "metadata": {
    "collapsed": false
   },
   "id": "41aefd8a6c1725d2",
   "execution_count": null
  },
  {
   "cell_type": "markdown",
   "source": [
    "## <center>Część 2</center>\n",
    "### 2.5"
   ],
   "metadata": {
    "collapsed": false
   },
   "id": "6136c56e0148c38d"
  },
  {
   "cell_type": "code",
   "outputs": [],
   "source": [
    "os.environ[\n",
    "    \"GOOGLE_APPLICATION_CREDENTIALS\"] = \"projekt1-415610-f19ebf54e064.json\"  # lokalizacja pobranego klucza z punktu 1.4.\n",
    "client = bigquery.Client()"
   ],
   "metadata": {
    "collapsed": false
   },
   "id": "c69e23e5fd6b5e63",
   "execution_count": null
  },
  {
   "cell_type": "markdown",
   "source": [
    "### Potrzebna funkcja"
   ],
   "metadata": {
    "collapsed": false
   },
   "id": "2fd724677376e4c"
  },
  {
   "cell_type": "code",
   "outputs": [],
   "source": [
    "def return_df(q):\n",
    "    query_job = client.query(q)\n",
    "    query_result = query_job.result()\n",
    "    return query_result.to_dataframe()"
   ],
   "metadata": {
    "collapsed": false
   },
   "id": "2a844e1fb8b8009",
   "execution_count": null
  },
  {
   "cell_type": "markdown",
   "source": [
    "### 2.6"
   ],
   "metadata": {
    "collapsed": false
   },
   "id": "3fc7e381a8997a6d"
  },
  {
   "cell_type": "code",
   "outputs": [],
   "source": [
    "query = 'select * from `bigquery-public-data.covid19_open_data.covid19_open_data` limit 10'\n",
    "df = return_df(query)"
   ],
   "metadata": {
    "collapsed": true
   },
   "id": "initial_id",
   "execution_count": null
  },
  {
   "cell_type": "markdown",
   "source": [
    "### Informacje o zbiorze"
   ],
   "metadata": {
    "collapsed": false
   },
   "id": "12c7ea208ef87430"
  },
  {
   "cell_type": "code",
   "outputs": [],
   "source": [
    "df.info()"
   ],
   "metadata": {
    "collapsed": false
   },
   "id": "4cee2e3fa4b702ec",
   "execution_count": null
  },
  {
   "cell_type": "markdown",
   "source": [
    "## <center>Część 3</center>"
   ],
   "metadata": {
    "collapsed": false
   },
   "id": "dbcc23c750e876b9"
  },
  {
   "cell_type": "markdown",
   "source": [
    "### 3.1. Sprawdź, ile jest zapisanych wierszy z danymi."
   ],
   "metadata": {
    "collapsed": false
   },
   "id": "feb7de4a0a0e2f18"
  },
  {
   "cell_type": "code",
   "outputs": [],
   "source": [
    "df_3_1 = return_df('SELECT COUNT(*) FROM `bigquery-public-data.covid19_open_data.covid19_open_data`')\n",
    "df_3_1"
   ],
   "metadata": {
    "collapsed": false
   },
   "id": "de751b3f1cf0bfe7",
   "execution_count": null
  },
  {
   "cell_type": "markdown",
   "source": [
    "### 3.2. Sprawdź, ile krajów jest uwzględnionych w danych."
   ],
   "metadata": {
    "collapsed": false
   },
   "id": "bfa47635f77ddbcd"
  },
  {
   "cell_type": "code",
   "outputs": [],
   "source": [
    "df_3_2 = return_df('SELECT COUNT(DISTINCT country_name) FROM `bigquery-public-data.covid19_open_data.covid19_open_data`')\n",
    "df_3_2"
   ],
   "metadata": {
    "collapsed": false
   },
   "id": "333dfe9990220ba5",
   "execution_count": null
  },
  {
   "cell_type": "markdown",
   "source": [
    "### 3.3. Sprawdź, w jaki sposób zapisywane są dzienne informacje dla krajów."
   ],
   "metadata": {
    "collapsed": false
   },
   "id": "828628716a64392e"
  },
  {
   "cell_type": "code",
   "outputs": [],
   "source": [
    "df_3_3 = return_df('SELECT column_name, data_type FROM `bigquery-public-data`.covid19_open_data.INFORMATION_SCHEMA.COLUMNS WHERE table_name = \\'covid19_open_data\\''\n",
    ")\n",
    "df_3_3"
   ],
   "metadata": {
    "collapsed": false
   },
   "id": "77102e6c0f41ad4e",
   "execution_count": null
  },
  {
   "cell_type": "markdown",
   "source": [
    "### 3.4. Sprawdź, w jaki sposób zapisywane są wartości liczbowe."
   ],
   "metadata": {
    "collapsed": false
   },
   "id": "d75a504efa490d26"
  },
  {
   "cell_type": "code",
   "outputs": [],
   "source": [
    "df_3_4 = return_df('SELECT column_name, data_type FROM `bigquery-public-data`.covid19_open_data.INFORMATION_SCHEMA.COLUMNS WHERE table_name = \\'covid19_open_data\\' AND data_type = \\'INT64\\' OR data_type = \\'FLOAT64\\''\n",
    ")\n",
    "df_3_4"
   ],
   "metadata": {
    "collapsed": false
   },
   "id": "453599b9fd9f0d49",
   "execution_count": null
  },
  {
   "cell_type": "markdown",
   "source": [
    "### 3.5. Sprawdź, jaki przedział czasowy jest uwzględniony w danych. Dodatkowo porównaj przedziały czasowe dla przypadków nowych zachorowań, nowych śmierci oraz nowych zaszczepionych osób w danych."
   ],
   "metadata": {
    "collapsed": false
   },
   "id": "9b95b81b56623926"
  },
  {
   "cell_type": "code",
   "outputs": [],
   "source": [
    "queries_3_5 = [\n",
    "    'SELECT MIN(date) AS min_date, MAX(date) AS max_date FROM `bigquery-public-data.covid19_open_data.covid19_open_data`',\n",
    "    'SELECT MIN(date) AS min_date_confirmed, MAX(date) AS max_date_confirmed FROM `bigquery-public-data.covid19_open_data.covid19_open_data` WHERE new_confirmed IS NOT NULL',\n",
    "    'SELECT MIN(date) AS min_date_deceased, MAX(date) AS max_date_deceased FROM `bigquery-public-data.covid19_open_data.covid19_open_data` WHERE new_deceased IS NOT NULL',\n",
    "    'SELECT MIN(date) AS min_date_vaccinated, MAX(date) AS max_date_vaccinated FROM `bigquery-public-data.covid19_open_data.covid19_open_data` WHERE new_persons_vaccinated IS NOT NULL'\n",
    "]\n",
    "\n",
    "df_3_5 = pd.DataFrame()\n",
    "\n",
    "for query in queries_3_5:\n",
    "    df_3_5 = pd.concat([df_3_5, return_df(query)], axis=1)\n",
    "df_3_5"
   ],
   "metadata": {
    "collapsed": false
   },
   "id": "424817ba6d4be84f",
   "execution_count": null
  },
  {
   "cell_type": "markdown",
   "source": [
    "### 3.6. Sprawdź więcej informacji (co najmniej 5 różnych) o danych dotyczących COVID-19. W tym celu nie wykonuj żadnych dodatkowych obliczeń."
   ],
   "metadata": {
    "collapsed": false
   },
   "id": "71643ad88fd0ba7f"
  },
  {
   "cell_type": "code",
   "outputs": [],
   "source": [
    "queries_3_6 = [\n",
    "    'SELECT country_name, infant_mortality_rate, adult_male_mortality_rate, adult_female_mortality_rate, ROUND(nurses_per_1000 + physicians_per_1000, 2) AS medical_personnel FROM `bigquery-public-data.covid19_open_data.covid19_open_data` WHERE aggregation_level = 0 AND adult_male_mortality_rate IS NOT NULL AND adult_female_mortality_rate IS NOT NULL GROUP BY country_name, infant_mortality_rate, adult_male_mortality_rate, adult_female_mortality_rate, gdp_usd, nurses_per_1000, physicians_per_1000 ORDER BY gdp_usd DESC LIMIT 10',\n",
    "    'SELECT subregion1_name, date, testing_policy FROM `bigquery-public-data.covid19_open_data.covid19_open_data` WHERE aggregation_level = 1 AND country_name=\\'Canada\\' GROUP BY subregion1_name, date, testing_policy ORDER BY subregion1_name, date',\n",
    "    'SELECT subregion2_name, date, CAST(new_tested AS int64) AS new_tested, new_confirmed FROM `bigquery-public-data.covid19_open_data.covid19_open_data` WHERE aggregation_level = 2 AND subregion1_name=\\'Łódź\\' GROUP BY subregion2_name, date, new_tested, new_confirmed ORDER BY subregion2_name, date',\n",
    "    'SELECT date, facial_coverings FROM `bigquery-public-data.covid19_open_data.covid19_open_data` WHERE country_name=\\'Germany\\' AND aggregation_level = 0 GROUP BY date, facial_coverings ORDER BY date',\n",
    "    'SELECT date, workplace_closing, income_support, CAST(mobility_workplaces AS int64) AS mobility_workplaces FROM `bigquery-public-data.covid19_open_data.covid19_open_data` WHERE aggregation_level = 0 AND country_name=\\'United States of America\\' GROUP BY date, workplace_closing, income_support, mobility_workplaces ORDER BY date'\n",
    "]\n",
    "\n",
    "for query in queries_3_6:\n",
    "    df_3_6 = return_df(query)\n",
    "    display(df_3_6.head())"
   ],
   "metadata": {
    "collapsed": false
   },
   "id": "ff16365fe0f0cf75",
   "execution_count": null
  },
  {
   "cell_type": "markdown",
   "source": [
    "## <center>Część 4</center>"
   ],
   "metadata": {
    "collapsed": false
   },
   "id": "b9534cc0dd01295b"
  },
  {
   "cell_type": "markdown",
   "source": [
    "### 4.1 Chcemy posiadać podstawowe dane o wszystkich krajach świata, które będą zrozumiałe dla człowieka oraz uniwersalne i potencjalnie przyszłościowe do dalszego przetwarzania."
   ],
   "metadata": {
    "collapsed": false
   },
   "id": "38145fd5a6b5c02a"
  },
  {
   "cell_type": "code",
   "outputs": [],
   "source": [
    "df_4_1 = return_df('SELECT iso_3166_1_alpha_3 AS CCA3, country_name, population, population_male, population_female, gdp_usd, gdp_per_capita_usd, latitude, longitude, health_expenditure_usd, life_expectancy, population_age_00_09 AS age_bin_0, population_age_10_19 AS age_bin_1, population_age_20_29 AS age_bin_2, population_age_30_39 AS age_bin_3, population_age_40_49 AS age_bin_4, population_age_50_59 AS age_bin_5, population_age_60_69 AS age_bin_6, population_age_70_79 AS age_bin_7, population_age_80_and_older AS age_bin_8 FROM `bigquery-public-data.covid19_open_data.covid19_open_data` WHERE aggregation_level = 0 AND place_id IS NOT NULL AND gdp_usd IS NOT NULL GROUP BY iso_3166_1_alpha_3, country_name, population, population_male, population_female, gdp_usd, gdp_per_capita_usd, latitude, longitude, health_expenditure_usd, life_expectancy, population_age_00_09, population_age_10_19, population_age_20_29, population_age_30_39, population_age_40_49, population_age_50_59, population_age_60_69, population_age_70_79, population_age_80_and_older ORDER BY country_name')\n",
    "\n",
    "df_4_1.info()"
   ],
   "metadata": {
    "collapsed": false
   },
   "id": "b8685727b4b66bbc",
   "execution_count": null
  },
  {
   "cell_type": "markdown",
   "source": [
    "### Uzupełnienie brakujących danych o kraju na podstawie jego <i>sąsiadów</i>"
   ],
   "metadata": {
    "collapsed": false
   },
   "id": "ba4c834d6e453e1c"
  },
  {
   "cell_type": "code",
   "outputs": [],
   "source": [
    "from haversine import haversine\n",
    "\n",
    "def save_to_csv(dataframe, filename):\n",
    "    if 'czesc4' not in os.listdir(os.getcwd()):\n",
    "        os.mkdir('czesc4')\n",
    "    os.chdir('czesc4')\n",
    "    dataframe.to_csv(filename + '.csv') # Zapis do csv\n",
    "    os.chdir('..')\n",
    "\n",
    "\n",
    "def fill_based_on_neigh(index, columns, num=10):\n",
    "    data = df_4_1.loc[index].copy()\n",
    "    df_4_1['distance'] = df_4_1.apply(lambda x: haversine((data['latitude'], data['longitude']), (x['latitude'], x['longitude'])), axis=1)\n",
    "    neigh = df_4_1.sort_values(by=['distance'])\n",
    "    neigh = neigh.iloc[0:num]\n",
    "    for col in columns:\n",
    "        if df_4_1[col].dtype == np.float64:\n",
    "            df_4_1.loc[index, col] = neigh[col].mean()\n",
    "        else:\n",
    "            df_4_1.loc[index, col] = int(neigh[col].mean())\n",
    "\n",
    "\n",
    "def fill_4_1():\n",
    "    columns = df_4_1.columns\n",
    "    age_groups = [el for el in columns if 'age_bin_' in el]\n",
    "    leave = ['CCA3', 'population', 'population_male', 'population_female', 'latitude', 'longitude', 'country_name'] + age_groups\n",
    "    \n",
    "    df_4_1.loc[df_4_1['country_name'] == 'Armenia', ['latitude', 'longitude']] = (40.17720, 44.50349)\n",
    "    \n",
    "    df_4_1['distance'] = 0.0\n",
    "    to_float_cols = columns.difference(leave)\n",
    "    for tfc in to_float_cols:\n",
    "         df_4_1[tfc] = df_4_1[tfc].astype(np.float64)\n",
    "    \n",
    "    df_4_1['population'].fillna(df_4_1['population_male'] + df_4_1['population_female'], inplace=True)\n",
    "    df_4_1['population_male'].fillna(df_4_1['population'] // 2, inplace = True)\n",
    "    df_4_1['population_female'].fillna(df_4_1['population'] // 2, inplace = True)\n",
    "    \n",
    "    not_equal = df_4_1['population'] != df_4_1['population_male'] + df_4_1['population_female']\n",
    "    df_4_1['population'].mask(not_equal, df_4_1['population_male'] + df_4_1['population_female'], inplace=True)\n",
    "    \n",
    "    for index, row in df_4_1.iterrows():\n",
    "        if df_4_1.loc[index].isna().sum() > 0:\n",
    "            fill_based_on_neigh(index=index, columns=df_4_1.columns.difference(leave))\n",
    "    \n",
    "    df_4_1.drop('distance', axis=1, inplace=True)\n",
    "    split = [9, 9, 8, 7, 7, 8, 9, 9]\n",
    "    for i in range(len(split)):\n",
    "        df_4_1[age_groups[i]].fillna(df_4_1['population'] // split[i], inplace=True)\n",
    "    df_4_1['age_bin_8'].fillna(df_4_1['population'] - df_4_1[age_groups].sum(axis=1), inplace=True)\n",
    "\n",
    "\n",
    "fill_4_1()\n",
    "save_to_csv(df_4_1, '4_1')\n",
    "\n",
    "df_4_1.info()"
   ],
   "metadata": {
    "collapsed": false
   },
   "id": "8358906d6d6bdbaf",
   "execution_count": null
  },
  {
   "cell_type": "markdown",
   "source": [
    "### Informacje o krajach"
   ],
   "metadata": {
    "collapsed": false
   },
   "id": "d88c8a5811d6468e"
  },
  {
   "cell_type": "code",
   "outputs": [],
   "source": [
    "df_4_1.head()"
   ],
   "metadata": {
    "collapsed": false
   },
   "id": "315539a89e0983ec",
   "execution_count": null
  },
  {
   "cell_type": "markdown",
   "source": [
    "### 4.2 Chcemy wygenerować statystyki dotyczące zachorowań na COVID-19 na całym świecie."
   ],
   "metadata": {
    "collapsed": false
   },
   "id": "4b4a0f5c1c7f59c5"
  },
  {
   "cell_type": "code",
   "outputs": [],
   "source": [
    "df_4_2 = return_df('SELECT country_name, FORMAT_DATE(\\'%B\\', date) AS month, SUM(new_confirmed) AS monthly_confirmed, SUM(new_confirmed_male) AS monthly_confirmed_male, SUM(new_confirmed_female) AS monthly_confirmed_female, SUM(new_confirmed_age_0) AS age_confirmed_0, SUM(new_confirmed_age_1) AS age_confirmed_1, SUM(new_confirmed_age_2) AS age_confirmed_2, SUM(new_confirmed_age_3) AS age_confirmed_3, SUM(new_confirmed_age_4) AS age_confirmed_4, SUM(new_confirmed_age_5) AS age_confirmed_5, SUM(new_confirmed_age_6) AS age_confirmed_6, SUM(new_confirmed_age_7) AS age_confirmed_7, SUM(new_confirmed_age_8) + SUM(new_confirmed_age_9) AS age_confirmed_8 FROM `bigquery-public-data.covid19_open_data.covid19_open_data` WHERE aggregation_level = 0 AND place_id IS NOT NULL AND gdp_usd IS NOT NULL GROUP BY country_name, month ORDER BY country_name, month')\n",
    "\n",
    "df_4_2.info()"
   ],
   "metadata": {
    "collapsed": false
   },
   "id": "d8b347ef1cfc7b83",
   "execution_count": null
  },
  {
   "cell_type": "markdown",
   "source": [
    "### Uzupełnienie danych dotyczących zachorowań na COVID-19"
   ],
   "metadata": {
    "collapsed": false
   },
   "id": "d49543abdb015de6"
  },
  {
   "cell_type": "code",
   "outputs": [],
   "source": [
    "def fill_values(dataframe):\n",
    "    columns = dataframe.columns\n",
    "    \n",
    "    dataframe[columns[2]].fillna(0, inplace=True)\n",
    "    \n",
    "    male_and_female_nan = dataframe[columns[3]].isna() & dataframe[columns[4]].isna()\n",
    "    rand = np.random.randint(1, 10, size=len(male_and_female_nan))\n",
    "    dataframe[columns[3]].mask(male_and_female_nan, dataframe[columns[2]] // rand, inplace=True)\n",
    "    dataframe[columns[4]].mask(male_and_female_nan, dataframe[columns[2]] - dataframe[columns[3]], inplace=True)\n",
    "    \n",
    "    only_male_nan = dataframe[columns[3]].isna() & dataframe[columns[4]].notna()\n",
    "    dataframe[columns[3]].mask(only_male_nan, dataframe[columns[2]] - dataframe[columns[4]], inplace=True)\n",
    "    \n",
    "    only_female_nan = dataframe[columns[4]].isna() & dataframe[columns[3]].notna()\n",
    "    dataframe[columns[4]].mask(only_female_nan, dataframe[columns[2]] - dataframe[columns[3]], inplace=True)\n",
    "    \n",
    "    all_is_zero = (dataframe[columns[2]] == 0) & (dataframe[columns[3]] != 0) & (dataframe[columns[4]] != 0)\n",
    "    dataframe[columns[2]].mask(all_is_zero, dataframe[columns[3]] + dataframe[columns[4]], inplace=True)\n",
    "    \n",
    "    # dataframe = most_complete(dataframe)  # można użyć, ale lepiej przewidzieć\n",
    "    \n",
    "    ratio = pd.DataFrame({'country_name': df_4_1['country_name']})\n",
    "    \n",
    "    age_groups_df = [col for col in columns if 'age_' in col]\n",
    "    age_groups = [col for col in df_4_1.columns if 'age_' in col]\n",
    "    \n",
    "    for i in range(len(age_groups_df)):\n",
    "        ratio[age_groups_df[i]] = df_4_1[age_groups[i]] / df_4_1['population']\n",
    "    dataframe = dataframe.merge(ratio, on='country_name', how='left')\n",
    "    for i in range(len(age_groups_df)):\n",
    "        dataframe[age_groups_df[i] + '_x'].fillna((dataframe[columns[2]] * dataframe[age_groups_df[i] + '_y']).astype(np.int64), inplace=True)\n",
    "    dataframe.drop(columns=[age_group + '_y' for age_group in age_groups_df], axis=1, inplace=True)\n",
    "    dataframe.rename(columns={age_group + '_x': age_group for age_group in age_groups_df}, inplace=True)\n",
    "    \n",
    "    return dataframe\n",
    "\n",
    "\n",
    "def most_complete(dataframe):  # nie interesują nas kraje nie mające żadnych wpisów w jakimkolwiek miesiącu\n",
    "    nans = dataframe[dataframe.isna().any(axis=1)]['country_name'].value_counts()\n",
    "    nans = nans[nans.values == 12].index\n",
    "    return dataframe[~dataframe['country_name'].isin(nans)].reset_index(drop=True)\n",
    "\n",
    "df_4_2 = fill_values(df_4_2)\n",
    "save_to_csv(df_4_2, '4_2')\n",
    "\n",
    "df_4_2.info()"
   ],
   "metadata": {
    "collapsed": false
   },
   "id": "e1076b5efda5df2",
   "execution_count": null
  },
  {
   "cell_type": "markdown",
   "source": [
    "### Miesięczne statystyki zachorowań na COVID-19 dla każdego kraju"
   ],
   "metadata": {
    "collapsed": false
   },
   "id": "5e269b10d28a7d12"
  },
  {
   "cell_type": "code",
   "outputs": [],
   "source": [
    "df_4_2.head()"
   ],
   "metadata": {
    "collapsed": false
   },
   "id": "80a3a923c9a00b23",
   "execution_count": null
  },
  {
   "cell_type": "markdown",
   "source": [
    "### 4.3 Chcemy poznać efekty COVID-19 poprzez uwypuklenie problemu śmiertelności ludzi spowodowanej wirusem."
   ],
   "metadata": {
    "collapsed": false
   },
   "id": "d70135e0fdb09916"
  },
  {
   "cell_type": "code",
   "outputs": [],
   "source": [
    "df_4_3 = return_df('SELECT country_name, FORMAT_DATE(\\'%B\\', date) AS month, SUM(new_deceased) AS daily_deceased, SUM(new_deceased_male) AS daily_deceased_male, SUM(new_deceased_female) AS daily_deceased_female, SUM(new_deceased_age_0) AS age_deceased_0, SUM(new_deceased_age_1) AS age_deceased_1, SUM(new_deceased_age_2) AS age_deceased_2, SUM(new_deceased_age_3) AS age_deceased_3, SUM(new_deceased_age_4) AS age_deceased_4, SUM(new_deceased_age_5) AS age_deceased_5, SUM(new_deceased_age_6) AS age_deceased_6, SUM(new_deceased_age_7) AS age_deceased_7, SUM(new_deceased_age_8) + SUM(new_deceased_age_9) AS age_deceased_8 FROM `bigquery-public-data.covid19_open_data.covid19_open_data` WHERE aggregation_level = 0 AND place_id IS NOT NULL AND gdp_usd IS NOT NULL GROUP BY country_name, month ORDER BY country_name, month')\n",
    "\n",
    "df_4_3.info()"
   ],
   "metadata": {
    "collapsed": false
   },
   "id": "cb9484f30d322977",
   "execution_count": null
  },
  {
   "cell_type": "markdown",
   "source": [
    "### Uzupełnienie danych dotyczących śmiertelności COVID-19"
   ],
   "metadata": {
    "collapsed": false
   },
   "id": "f11aeb721cf34d3a"
  },
  {
   "cell_type": "code",
   "outputs": [],
   "source": [
    "df_4_3 = fill_values(df_4_3)\n",
    "save_to_csv(df_4_3, '4_3')\n",
    "\n",
    "df_4_3.info()"
   ],
   "metadata": {
    "collapsed": false
   },
   "id": "7e4622e3d403ec56",
   "execution_count": null
  },
  {
   "cell_type": "markdown",
   "source": [
    "### Miesięczne statystyki śmierci na COVID-19"
   ],
   "metadata": {
    "collapsed": false
   },
   "id": "c0ee8dfb022ebffc"
  },
  {
   "cell_type": "code",
   "outputs": [],
   "source": [
    "df_4_3.head()"
   ],
   "metadata": {
    "collapsed": false
   },
   "id": "a8a845b85e7bf7b8",
   "execution_count": null
  },
  {
   "cell_type": "markdown",
   "source": [
    "### 4.4. Chcemy zaobserwować trendy i zależności dotyczące szczepień na COVID-19."
   ],
   "metadata": {
    "collapsed": false
   },
   "id": "d3e2cd449f8ea162"
  },
  {
   "cell_type": "code",
   "outputs": [],
   "source": [
    "df_4_4 = return_df('SELECT country_name, FORMAT_DATE(\\'%B\\', date) AS month, SUM(new_persons_vaccinated) AS daily_persons_vaccinated, SUM(new_persons_fully_vaccinated) AS daily_persons_fully_vaccinated FROM `bigquery-public-data.covid19_open_data.covid19_open_data` WHERE aggregation_level = 0 AND place_id IS NOT NULL AND gdp_usd IS NOT NULL GROUP BY country_name, month ORDER BY country_name, month')\n",
    "\n",
    "df_4_4.info()"
   ],
   "metadata": {
    "collapsed": false
   },
   "id": "2156b6e00c73a62e",
   "execution_count": null
  },
  {
   "cell_type": "markdown",
   "source": [
    "### Uzupełnienie danych dotyczących szczepień"
   ],
   "metadata": {
    "collapsed": false
   },
   "id": "887b19f87a49c66d"
  },
  {
   "cell_type": "code",
   "outputs": [],
   "source": [
    "def fill_4_4(dataframe):  # ze względu na wysoki poziom kompletności danych zapełniamy wartościami zero\n",
    "    return dataframe.fillna(0)\n",
    "\n",
    "\n",
    "df_4_4 = fill_4_4(df_4_4)\n",
    "save_to_csv(df_4_4, '4_4')\n",
    "df_4_4.info()"
   ],
   "metadata": {
    "collapsed": false
   },
   "id": "51c6e1647513d4bd",
   "execution_count": null
  },
  {
   "cell_type": "markdown",
   "source": [
    "### Miesięczne statystyki szczepień na COVID-19"
   ],
   "metadata": {
    "collapsed": false
   },
   "id": "b7440e63e6280d3"
  },
  {
   "cell_type": "code",
   "outputs": [],
   "source": [
    "df_4_4.head()"
   ],
   "metadata": {
    "collapsed": false
   },
   "id": "521a0ebf4fae8779",
   "execution_count": null
  },
  {
   "cell_type": "markdown",
   "source": [
    "### 4.5. Chcemy przeprowadzić skuteczność polityk zamykania szkół, a zachorowaniami w grupach wiekowych 0-9 i 10-19"
   ],
   "metadata": {
    "collapsed": false
   },
   "id": "17c9d0c21cfea694"
  },
  {
   "cell_type": "code",
   "outputs": [],
   "source": [
    "df_4_5 = return_df('SELECT country_name, EXTRACT(MONTH FROM date) AS month, FORMAT_DATE(\\'%B\\', DATE_TRUNC(date, MONTH)) AS month_name, school_closing, SUM(new_confirmed_age_0) AS preschoolers_confirmed, SUM(new_confirmed_age_1) AS pupils_confirmed FROM `bigquery-public-data.covid19_open_data.covid19_open_data` WHERE aggregation_level = 0 AND place_id IS NOT NULL AND gdp_usd IS NOT NULL GROUP BY country_name, month, month_name, school_closing ORDER BY country_name, month, school_closing')\n",
    "\n",
    "df_4_5.info()"
   ],
   "metadata": {
    "collapsed": false
   },
   "id": "ac0e5517a2a56662",
   "execution_count": null
  },
  {
   "cell_type": "markdown",
   "source": [
    "### Czyszczenie danych"
   ],
   "metadata": {
    "collapsed": false
   },
   "id": "88bf6ca447e7c9a2"
  },
  {
   "cell_type": "code",
   "outputs": [],
   "source": [
    "def fill_4_5(dataframe):\n",
    "    dataframe.drop(columns='month', axis=1, inplace=True)\n",
    "    dataframe.rename(columns={'month_name': 'month'}, inplace=True)\n",
    "    dataframe['school_closing'].ffill(inplace=True)\n",
    "    dataframe['school_closing'].fillna(-1, inplace=True)  # kiedy jeszcze nie było żadnych ograniczeń na początku 2020\n",
    "    return dataframe.fillna(0)  # albo można proporcjonalnie do populacji w kraju danej grupy wiekowej\n",
    "\n",
    "\n",
    "df_4_5 = fill_4_5(df_4_5)\n",
    "save_to_csv(df_4_5, '4_5')\n",
    "df_4_5.info()"
   ],
   "metadata": {
    "collapsed": false
   },
   "id": "6ec7ddcd08fa56a6",
   "execution_count": null
  },
  {
   "cell_type": "markdown",
   "source": [
    "### Miesięczne statystyki zachorowań w populacji do 19 roku życia"
   ],
   "metadata": {
    "collapsed": false
   },
   "id": "a9c34cdaeb8d4995"
  },
  {
   "cell_type": "code",
   "outputs": [],
   "source": [
    "df_4_5.head()"
   ],
   "metadata": {
    "collapsed": false
   },
   "id": "8e666d1cf7d2f7cd",
   "execution_count": null
  },
  {
   "cell_type": "markdown",
   "source": [
    "## <center>Część 5</center>\n",
    "### Połącz ze sobą wszystkie dane otrzymane w części 4. Nowy zbiór danych zapisz jako oddzielny obiekt DataFrame. Jeżeli uważasz, że należy stworzyć kilka takich obiektów, zrób to i zapisz swoje uzasadnienie. Pamiętaj o ciągłej konieczności zachowania czystości danych. Wynik tego zadania zapisz w pliku / plikach CSV."
   ],
   "metadata": {
    "collapsed": false
   },
   "id": "57b389fd68a3b339"
  },
  {
   "cell_type": "markdown",
   "source": [
    "### Połączenie części 4"
   ],
   "metadata": {
    "collapsed": false
   },
   "id": "19910ece07a42230"
  },
  {
   "cell_type": "code",
   "outputs": [],
   "source": [
    "df_5 = pd.merge(df_4_2, df_4_3, on=['country_name', 'month'])\n",
    "df_5 = pd.merge(df_5, df_4_4, on=['country_name', 'month'])\n",
    "df_5 = pd.merge(df_5, pd.merge(df_4_1, df_4_5, on=['country_name']), on=['country_name', 'month'])\n",
    "\n",
    "df_5.info()"
   ],
   "metadata": {
    "collapsed": false
   },
   "id": "ec7e0337e5066dd4",
   "execution_count": null
  },
  {
   "cell_type": "code",
   "outputs": [],
   "source": [
    "df_5.head()"
   ],
   "metadata": {
    "collapsed": false
   },
   "id": "204c9eeebfd98f6d",
   "execution_count": null
  },
  {
   "cell_type": "markdown",
   "source": [
    "## <center>Część 6</center>"
   ],
   "metadata": {
    "collapsed": false
   },
   "id": "ce109b7ac4859101"
  },
  {
   "cell_type": "markdown",
   "source": [
    "### 6.1"
   ],
   "metadata": {
    "collapsed": false
   },
   "id": "85cbdc7f4456a356"
  },
  {
   "cell_type": "code",
   "outputs": [],
   "source": [
    "df_6_1 = pd.read_csv('czesc6/world_countries.csv')\n",
    "df_6_1 = pd.merge(df_6_1, df_5, on=['CCA3'])\n",
    "save_to_csv(df_6_1, '6_1')\n",
    "\n",
    "df_6_1.info()"
   ],
   "metadata": {
    "collapsed": false
   },
   "id": "3bd2dd1a35e5424e",
   "execution_count": null
  },
  {
   "cell_type": "code",
   "outputs": [],
   "source": [
    "df_6_1.head()"
   ],
   "metadata": {
    "collapsed": false
   },
   "id": "8667cc56deaeaa9d",
   "execution_count": null
  },
  {
   "cell_type": "markdown",
   "source": [
    "### 6.2"
   ],
   "metadata": {
    "collapsed": false
   },
   "id": "6cd8502b52791709"
  },
  {
   "cell_type": "code",
   "outputs": [],
   "source": [
    "df_6_2 = pd.read_csv('czesc6/gdp.csv')\n",
    "df_6_2.rename(columns={'Country Name': 'country_name', 'Country Code': 'CCA3'}, inplace=True)\n",
    "df_6_2 = pd.merge(df_6_2, df_5, on=['country_name', 'CCA3'])\n",
    "save_to_csv(df_6_2, '6_2')\n",
    "\n",
    "df_6_2.info()"
   ],
   "metadata": {
    "collapsed": false
   },
   "id": "c14e8fc5004b50f2",
   "execution_count": null
  },
  {
   "cell_type": "code",
   "outputs": [],
   "source": [
    "df_6_2.head()"
   ],
   "metadata": {
    "collapsed": false
   },
   "id": "3226ec3b4f520ce2"
  },
  {
   "cell_type": "markdown",
   "source": [
    "## <center>Część 7</center>\n",
    "### Znajdź 3 dodatkowe zbiory danych, które uważasz, że rozwijają w ciekawy sposób temat ostatniej pandemii. Powtórz dla nich analogiczne czynności z części 4, a następnie połącz je z danymi z części 6. Nowy zbiór danych zapisz jako oddzielny obiekt DataFrame. Jeżeli uważasz, że należy stworzyć kilka takich obiektów, zrób to i zapisz swoje uzasadnienie. Pamiętaj o ciągłej konieczności zachowania czystości danych. Wynik tego zadania zapisz w pliku / plikach CSV."
   ],
   "metadata": {
    "collapsed": false
   },
   "id": "fd0a3f9819de3b15"
  },
  {
   "cell_type": "code",
   "outputs": [],
   "source": [],
   "metadata": {
    "collapsed": false
   },
   "id": "5167bf1a10546b36"
  }
 ],
 "metadata": {
  "kernelspec": {
   "display_name": "Python 3",
   "language": "python",
   "name": "python3"
  },
  "language_info": {
   "codemirror_mode": {
    "name": "ipython",
    "version": 2
   },
   "file_extension": ".py",
   "mimetype": "text/x-python",
   "name": "python",
   "nbconvert_exporter": "python",
   "pygments_lexer": "ipython2",
   "version": "2.7.6"
  }
 },
 "nbformat": 4,
 "nbformat_minor": 5
}
